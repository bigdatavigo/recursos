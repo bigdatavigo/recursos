{
 "cells": [
  {
   "cell_type": "code",
   "execution_count": 1,
   "metadata": {},
   "outputs": [],
   "source": [
    "from pyspark.sql.types import *\n",
    "estructura=StructType([\n",
    "    StructField(\"cFecha\", StringType()),\n",
    "    StructField(\"Fecha\",StringType()),\n",
    "    StructField(\"cCA\", IntegerType()),\n",
    "    StructField(\"CA\",StringType()),\n",
    "    StructField(\"cProv\", IntegerType()),\n",
    "    StructField(\"Prov\",StringType()),\n",
    "    StructField(\"cMun\", IntegerType()),\n",
    "    StructField(\"Mun\",StringType()),\n",
    "    StructField(\"Total\",IntegerType()),\n",
    "    StructField(\"HombreMenor25\",IntegerType()),\n",
    "    StructField(\"Hombre25a45\",IntegerType()),\n",
    "    StructField(\"HombreMayor45\",IntegerType()),\n",
    "    StructField(\"MujerMenor25\",IntegerType()),\n",
    "    StructField(\"Mujer25a45\",IntegerType()),\n",
    "    StructField(\"MujerMayor45\",IntegerType())\n",
    "]\n",
    ")"
   ]
  },
  {
   "cell_type": "code",
   "execution_count": 2,
   "metadata": {},
   "outputs": [],
   "source": [
    "#si no se ve bien añadir: encoding=\"cp1252\"\n",
    "datos=spark.read.csv(\"hdfs://localhost:9000/paro\",\n",
    "        sep=\";\",header=True,schema=estructura)"
   ]
  },
  {
   "cell_type": "code",
   "execution_count": 3,
   "metadata": {},
   "outputs": [
    {
     "name": "stdout",
     "output_type": "stream",
     "text": [
      "root\n",
      " |-- cFecha: string (nullable = true)\n",
      " |-- Fecha: string (nullable = true)\n",
      " |-- cCA: integer (nullable = true)\n",
      " |-- CA: string (nullable = true)\n",
      " |-- cProv: integer (nullable = true)\n",
      " |-- Prov: string (nullable = true)\n",
      " |-- cMun: integer (nullable = true)\n",
      " |-- Mun: string (nullable = true)\n",
      " |-- Total: integer (nullable = true)\n",
      " |-- HombreMenor25: integer (nullable = true)\n",
      " |-- Hombre25a45: integer (nullable = true)\n",
      " |-- HombreMayor45: integer (nullable = true)\n",
      " |-- MujerMenor25: integer (nullable = true)\n",
      " |-- Mujer25a45: integer (nullable = true)\n",
      " |-- MujerMayor45: integer (nullable = true)\n",
      "\n",
      "-RECORD 0----------------------\n",
      " cFecha        | 201601        \n",
      " Fecha         | Enero de 2016 \n",
      " cCA           | 1             \n",
      " CA            | Andalucía     \n",
      " cProv         | 4             \n",
      " Prov          | Almería       \n",
      " cMun          | 4001          \n",
      " Mun           | Abla          \n",
      " Total         | 94            \n",
      " HombreMenor25 | 3             \n",
      " Hombre25a45   | 23            \n",
      " HombreMayor45 | 32            \n",
      " MujerMenor25  | 7             \n",
      " Mujer25a45    | 20            \n",
      " MujerMayor45  | 9             \n",
      "-RECORD 1----------------------\n",
      " cFecha        | 201601        \n",
      " Fecha         | Enero de 2016 \n",
      " cCA           | 1             \n",
      " CA            | Andalucía     \n",
      " cProv         | 4             \n",
      " Prov          | Almería       \n",
      " cMun          | 4002          \n",
      " Mun           | Abrucena      \n",
      " Total         | 75            \n",
      " HombreMenor25 | 3             \n",
      " Hombre25a45   | 14            \n",
      " HombreMayor45 | 24            \n",
      " MujerMenor25  | 8             \n",
      " Mujer25a45    | 14            \n",
      " MujerMayor45  | 12            \n",
      "only showing top 2 rows\n",
      "\n"
     ]
    },
    {
     "data": {
      "text/plain": [
       "(None, None)"
      ]
     },
     "execution_count": 3,
     "metadata": {},
     "output_type": "execute_result"
    }
   ],
   "source": [
    "datos.printSchema(),datos.show(2,vertical=True)"
   ]
  },
  {
   "cell_type": "code",
   "execution_count": 60,
   "metadata": {},
   "outputs": [
    {
     "data": {
      "text/plain": [
       "DataFrame[cFecha: string, CA: string, Prov: string, cMun: int, Mun: string, Total: int, HombreMenor25: int, Hombre25a45: int, HombreMayor45: int, MujerMenor25: int, Mujer25a45: int, MujerMayor45: int, Hombres: int, Mujeres: int]"
      ]
     },
     "execution_count": 60,
     "metadata": {},
     "output_type": "execute_result"
    }
   ],
   "source": [
    "datosNuevos=datos.withColumn(\"Hombres\",\n",
    "    datos.HombreMenor25+datos.Hombre25a45+datos.HombreMayor45)\\\n",
    "    .withColumn(\"Mujeres\",\n",
    "    datos.MujerMenor25+datos.Mujer25a45+datos.MujerMayor45)\\\n",
    "    .drop(\"Fecha\",\"cCA\",\"cProv\")\n",
    "#datosNuevos.show()\n",
    "datosNuevos.cache()"
   ]
  },
  {
   "cell_type": "code",
   "execution_count": 61,
   "metadata": {},
   "outputs": [
    {
     "name": "stdout",
     "output_type": "stream",
     "text": [
      "root\n",
      " |-- cFecha: string (nullable = true)\n",
      " |-- CA: string (nullable = true)\n",
      " |-- Prov: string (nullable = true)\n",
      " |-- cMun: integer (nullable = true)\n",
      " |-- Mun: string (nullable = true)\n",
      " |-- Total: integer (nullable = true)\n",
      " |-- HombreMenor25: integer (nullable = true)\n",
      " |-- Hombre25a45: integer (nullable = true)\n",
      " |-- HombreMayor45: integer (nullable = true)\n",
      " |-- MujerMenor25: integer (nullable = true)\n",
      " |-- Mujer25a45: integer (nullable = true)\n",
      " |-- MujerMayor45: integer (nullable = true)\n",
      " |-- Hombres: integer (nullable = true)\n",
      " |-- Mujeres: integer (nullable = true)\n",
      "\n",
      "-RECORD 0------------------\n",
      " cFecha        | 201601    \n",
      " CA            | Andalucía \n",
      " Prov          | Almería   \n",
      " cMun          | 4001      \n",
      " Mun           | Abla      \n",
      " Total         | 94        \n",
      " HombreMenor25 | 3         \n",
      " Hombre25a45   | 23        \n",
      " HombreMayor45 | 32        \n",
      " MujerMenor25  | 7         \n",
      " Mujer25a45    | 20        \n",
      " MujerMayor45  | 9         \n",
      " Hombres       | 58        \n",
      " Mujeres       | 36        \n",
      "-RECORD 1------------------\n",
      " cFecha        | 201601    \n",
      " CA            | Andalucía \n",
      " Prov          | Almería   \n",
      " cMun          | 4002      \n",
      " Mun           | Abrucena  \n",
      " Total         | 75        \n",
      " HombreMenor25 | 3         \n",
      " Hombre25a45   | 14        \n",
      " HombreMayor45 | 24        \n",
      " MujerMenor25  | 8         \n",
      " Mujer25a45    | 14        \n",
      " MujerMayor45  | 12        \n",
      " Hombres       | 41        \n",
      " Mujeres       | 34        \n",
      "only showing top 2 rows\n",
      "\n"
     ]
    },
    {
     "data": {
      "text/plain": [
       "(None, None)"
      ]
     },
     "execution_count": 61,
     "metadata": {},
     "output_type": "execute_result"
    }
   ],
   "source": [
    "datosNuevos.printSchema(),datosNuevos.show(2,vertical=True)"
   ]
  },
  {
   "cell_type": "code",
   "execution_count": 62,
   "metadata": {},
   "outputs": [
    {
     "name": "stdout",
     "output_type": "stream",
     "text": [
      "+------+------------+------------+\n",
      "|cFecha|sum(Hombres)|sum(Mujeres)|\n",
      "+------+------------+------------+\n",
      "|201801|     1475479|     2001049|\n",
      "+------+------------+------------+\n",
      "\n"
     ]
    }
   ],
   "source": [
    "total=datosNuevos.where(datosNuevos.cFecha.like(\"201801\"))\\\n",
    "    .groupBy(\"cFecha\").sum(\"Hombres\",\"Mujeres\")\n",
    "total.show()"
   ]
  },
  {
   "cell_type": "code",
   "execution_count": 7,
   "metadata": {},
   "outputs": [],
   "source": [
    "totalP=total.select(total[\"sum(Hombres)\"].alias(\"Hombres\"),\n",
    "                   total[\"sum(Mujeres)\"].alias(\"Mujeres\"))\\\n",
    "    .toPandas()"
   ]
  },
  {
   "cell_type": "code",
   "execution_count": 8,
   "metadata": {},
   "outputs": [
    {
     "data": {
      "text/plain": [
       "<matplotlib.axes._subplots.AxesSubplot at 0x7f7a8afc2048>"
      ]
     },
     "execution_count": 8,
     "metadata": {},
     "output_type": "execute_result"
    }
   ],
   "source": [
    "totalP.plot(kind=\"bar\")"
   ]
  },
  {
   "cell_type": "code",
   "execution_count": 9,
   "metadata": {},
   "outputs": [
    {
     "name": "stdout",
     "output_type": "stream",
     "text": [
      "+---------+-------+-------+\n",
      "|       CA|Hombres|Mujeres|\n",
      "+---------+-------+-------+\n",
      "|Andalucía|     58|     36|\n",
      "|Andalucía|     41|     34|\n",
      "|Andalucía|   1218|   1266|\n",
      "|Andalucía|     14|     14|\n",
      "|Andalucía|     30|     16|\n",
      "|Andalucía|    460|    518|\n",
      "|Andalucía|     59|     23|\n",
      "|Andalucía|     14|     11|\n",
      "|Andalucía|      4|      3|\n",
      "|Andalucía|     51|     32|\n",
      "|Andalucía|    234|    234|\n",
      "|Andalucía|      7|     11|\n",
      "|Andalucía|  10725|  11692|\n",
      "|Andalucía|      3|      6|\n",
      "|Andalucía|      8|      2|\n",
      "|Andalucía|     56|    113|\n",
      "|Andalucía|     75|     89|\n",
      "|Andalucía|     18|     12|\n",
      "|Andalucía|      2|      4|\n",
      "|Andalucía|     10|      4|\n",
      "+---------+-------+-------+\n",
      "only showing top 20 rows\n",
      "\n"
     ]
    }
   ],
   "source": [
    "datosNuevos.select(\"CA\",\"Hombres\",\"Mujeres\").show()"
   ]
  },
  {
   "cell_type": "code",
   "execution_count": 10,
   "metadata": {},
   "outputs": [
    {
     "name": "stdout",
     "output_type": "stream",
     "text": [
      "-RECORD 0----------------------\n",
      " cFecha        | 201601        \n",
      " Fecha         | Enero de 2016 \n",
      " cCA           | 1             \n",
      " CA            | Andalucía     \n",
      " cProv         | 4             \n",
      " Prov          | Almería       \n",
      " cMun          | 4001          \n",
      " Mun           | Abla          \n",
      " Total         | 94            \n",
      " HombreMenor25 | 3             \n",
      " Hombre25a45   | 23            \n",
      " HombreMayor45 | 32            \n",
      " MujerMenor25  | 7             \n",
      " Mujer25a45    | 20            \n",
      " MujerMayor45  | 9             \n",
      "-RECORD 1----------------------\n",
      " cFecha        | 201601        \n",
      " Fecha         | Enero de 2016 \n",
      " cCA           | 1             \n",
      " CA            | Andalucía     \n",
      " cProv         | 4             \n",
      " Prov          | Almería       \n",
      " cMun          | 4002          \n",
      " Mun           | Abrucena      \n",
      " Total         | 75            \n",
      " HombreMenor25 | 3             \n",
      " Hombre25a45   | 14            \n",
      " HombreMayor45 | 24            \n",
      " MujerMenor25  | 8             \n",
      " Mujer25a45    | 14            \n",
      " MujerMayor45  | 12            \n",
      "only showing top 2 rows\n",
      "\n"
     ]
    }
   ],
   "source": [
    "datos.show(2,vertical=True)"
   ]
  },
  {
   "cell_type": "code",
   "execution_count": 11,
   "metadata": {},
   "outputs": [
    {
     "name": "stdout",
     "output_type": "stream",
     "text": [
      "+--------------------+------------+------------+\n",
      "|                  CA|sum(Hombres)|sum(Mujeres)|\n",
      "+--------------------+------------+------------+\n",
      "|           Andalucía|      357049|      486918|\n",
      "|              Aragón|       28466|       41890|\n",
      "|Asturias, Princip...|       35393|       44312|\n",
      "|      Balears, Illes|       25792|       33589|\n",
      "|            Canarias|       95288|      119794|\n",
      "|           Cantabria|       19057|       22904|\n",
      "|Castilla - La Mancha|       71242|      116697|\n",
      "|     Castilla y León|       70206|       92422|\n",
      "|            Cataluña|      184387|      233794|\n",
      "|               Ceuta|        5067|        7031|\n",
      "|Comunitat Valenciana|      161378|      231416|\n",
      "|         Extremadura|       45684|       67255|\n",
      "|             Galicia|       82033|      106174|\n",
      "|Madrid, Comunidad de|      165322|      218141|\n",
      "|             Melilla|        3662|        5374|\n",
      "|   Murcia, Región de|       44789|       66757|\n",
      "|Navarra, Comunida...|       15082|       21006|\n",
      "|          País Vasco|       55105|       72130|\n",
      "|           Rioja, La|        7368|       10274|\n",
      "+--------------------+------------+------------+\n",
      "\n"
     ]
    }
   ],
   "source": [
    "res=datosNuevos.where(datosNuevos.cFecha.like(\"201802\"))\\\n",
    "    .groupBy(\"CA\").sum(\"Hombres\",\"Mujeres\").orderBy(\"CA\")\n",
    "resP=res.toPandas()\n",
    "res.show()"
   ]
  },
  {
   "cell_type": "code",
   "execution_count": 113,
   "metadata": {},
   "outputs": [
    {
     "data": {
      "image/png": "[encoded data removed]",
      "text/plain": [
       "<matplotlib.figure.Figure at 0x7f7a87ffb828>"
      ]
     },
     "metadata": {},
     "output_type": "display_data"
    }
   ],
   "source": [
    "aux=resP.plot(x=\"CA\",kind=\"bar\",figsize=(7,3))\n"
   ]
  },
  {
   "cell_type": "code",
   "execution_count": 13,
   "metadata": {},
   "outputs": [
    {
     "name": "stdout",
     "output_type": "stream",
     "text": [
      "['Andalucía', 'Aragón', 'Asturias, Principado de', 'Balears, Illes', 'Canarias', 'Cantabria', 'Castilla - La Mancha', 'Castilla y León', 'Cataluña', 'Ceuta', 'Comunitat Valenciana', 'Extremadura', 'Galicia', 'Madrid, Comunidad de', 'Melilla', 'Murcia, Región de', 'Navarra, Comunidad Foral de', 'País Vasco', 'Rioja, La']\n"
     ]
    }
   ],
   "source": [
    "print(res.rdd.map(lambda a:a[0]).collect())#nombre de CCAA"
   ]
  },
  {
   "cell_type": "code",
   "execution_count": 14,
   "metadata": {},
   "outputs": [
    {
     "name": "stdout",
     "output_type": "stream",
     "text": [
      "[357049, 28466, 35393, 25792, 95288, 19057, 71242, 70206, 184387, 5067, 161378, 45684, 82033, 165322, 3662, 44789, 15082, 55105, 7368]\n"
     ]
    }
   ],
   "source": [
    "print(res.rdd.map(lambda a:a[1]).collect()) #paro de Hombres"
   ]
  },
  {
   "cell_type": "code",
   "execution_count": 15,
   "metadata": {},
   "outputs": [
    {
     "name": "stdout",
     "output_type": "stream",
     "text": [
      "[486918, 41890, 44312, 33589, 119794, 22904, 116697, 92422, 233794, 7031, 231416, 67255, 106174, 218141, 5374, 66757, 21006, 72130, 10274]\n"
     ]
    }
   ],
   "source": [
    "print(res.rdd.map(lambda a:a[2]).collect())"
   ]
  },
  {
   "cell_type": "code",
   "execution_count": 16,
   "metadata": {},
   "outputs": [],
   "source": [
    "pob=spark.read.csv(\"../población/pobmun17.csv\",\n",
    "                   sep=\";\",header=True,encoding=\"cp1252\",\n",
    "                  inferSchema=True)"
   ]
  },
  {
   "cell_type": "code",
   "execution_count": 17,
   "metadata": {},
   "outputs": [
    {
     "name": "stdout",
     "output_type": "stream",
     "text": [
      "+----+---------+----+----------------+------+-------+-------+\n",
      "|CPRO|PROVINCIA|CMUN|          NOMBRE| POB17|HOMBRES|MUJERES|\n",
      "+----+---------+----+----------------+------+-------+-------+\n",
      "|   2| Albacete|   1|       Abengibre|   748|    359|    389|\n",
      "|   2| Albacete|   2|          Alatoz|   555|    309|    246|\n",
      "|   2| Albacete|   3|        Albacete|172816|  84507|  88309|\n",
      "|   2| Albacete|   4|        Albatana|   698|    362|    336|\n",
      "|   2| Albacete|   5|         Alborea|   697|    357|    340|\n",
      "|   2| Albacete|   6|        Alcadozo|   662|    361|    301|\n",
      "|   2| Albacete|   7|Alcalá del Júcar|  1202|    642|    560|\n",
      "+----+---------+----+----------------+------+-------+-------+\n",
      "only showing top 7 rows\n",
      "\n",
      "root\n",
      " |-- CPRO: integer (nullable = true)\n",
      " |-- PROVINCIA: string (nullable = true)\n",
      " |-- CMUN: integer (nullable = true)\n",
      " |-- NOMBRE: string (nullable = true)\n",
      " |-- POB17: integer (nullable = true)\n",
      " |-- HOMBRES: integer (nullable = true)\n",
      " |-- MUJERES: integer (nullable = true)\n",
      "\n"
     ]
    },
    {
     "data": {
      "text/plain": [
       "(None, None)"
      ]
     },
     "execution_count": 17,
     "metadata": {},
     "output_type": "execute_result"
    }
   ],
   "source": [
    "pob.show(7),pob.printSchema()"
   ]
  },
  {
   "cell_type": "code",
   "execution_count": 18,
   "metadata": {},
   "outputs": [
    {
     "name": "stdout",
     "output_type": "stream",
     "text": [
      "+----+---------+----+--------------------+------+-------+-------+\n",
      "|CPRO|PROVINCIA|CMUN|              NOMBRE| POB17|HOMBRES|MUJERES|\n",
      "+----+---------+----+--------------------+------+-------+-------+\n",
      "|  32|  Ourense|   8|            Barbadás| 10791|   5274|   5517|\n",
      "|  32|  Ourense|   9|Barco de Valdeorr...| 13581|   6620|   6961|\n",
      "|  32|  Ourense|  19|       Carballiño, O| 13854|   6491|   7363|\n",
      "|  32|  Ourense|  54|             Ourense|105636|  48117|  57519|\n",
      "|  32|  Ourense|  85|               Verín| 13889|   6710|   7179|\n",
      "+----+---------+----+--------------------+------+-------+-------+\n",
      "\n"
     ]
    }
   ],
   "source": [
    "pob.where(pob.POB17.between(10000,300000) & (pob.PROVINCIA.like(\"O%rense\"))).show()"
   ]
  },
  {
   "cell_type": "code",
   "execution_count": null,
   "metadata": {},
   "outputs": [],
   "source": [
    "# datosNuevos pob"
   ]
  },
  {
   "cell_type": "code",
   "execution_count": 41,
   "metadata": {},
   "outputs": [],
   "source": [
    "dfCombinado=datosNuevos.join(pob,\n",
    "                datosNuevos.Mun==pob.NOMBRE,\"outer\")"
   ]
  },
  {
   "cell_type": "code",
   "execution_count": 42,
   "metadata": {},
   "outputs": [
    {
     "name": "stdout",
     "output_type": "stream",
     "text": [
      "-RECORD 0-----------------------------\n",
      " cFecha        | 201601               \n",
      " CA            | Navarra, Comunida... \n",
      " Prov          | Navarra              \n",
      " Mun           | Abaurregaina/Abau... \n",
      " Total         | 2                    \n",
      " HombreMenor25 | 0                    \n",
      " Hombre25a45   | 0                    \n",
      " HombreMayor45 | 1                    \n",
      " MujerMenor25  | 0                    \n",
      " Mujer25a45    | 0                    \n",
      " MujerMayor45  | 1                    \n",
      " Hombres       | 1                    \n",
      " Mujeres       | 1                    \n",
      " CPRO          | 31                   \n",
      " PROVINCIA     | Navarra              \n",
      " CMUN          | 3                    \n",
      " NOMBRE        | Abaurregaina/Abau... \n",
      " POB17         | 124                  \n",
      " HOMBRES       | 77                   \n",
      " MUJERES       | 47                   \n",
      "-RECORD 1-----------------------------\n",
      " cFecha        | 201602               \n",
      " CA            | Navarra, Comunida... \n",
      " Prov          | Navarra              \n",
      " Mun           | Abaurregaina/Abau... \n",
      " Total         | 2                    \n",
      " HombreMenor25 | 0                    \n",
      " Hombre25a45   | 0                    \n",
      " HombreMayor45 | 1                    \n",
      " MujerMenor25  | 0                    \n",
      " Mujer25a45    | 0                    \n",
      " MujerMayor45  | 1                    \n",
      " Hombres       | 1                    \n",
      " Mujeres       | 1                    \n",
      " CPRO          | 31                   \n",
      " PROVINCIA     | Navarra              \n",
      " CMUN          | 3                    \n",
      " NOMBRE        | Abaurregaina/Abau... \n",
      " POB17         | 124                  \n",
      " HOMBRES       | 77                   \n",
      " MUJERES       | 47                   \n",
      "only showing top 2 rows\n",
      "\n"
     ]
    }
   ],
   "source": [
    "dfCombinado.show(2,vertical=True)"
   ]
  },
  {
   "cell_type": "code",
   "execution_count": 43,
   "metadata": {},
   "outputs": [
    {
     "data": {
      "text/plain": [
       "(253014, 251906)"
      ]
     },
     "execution_count": 43,
     "metadata": {},
     "output_type": "execute_result"
    }
   ],
   "source": [
    "dfCombinado.count(),datosNuevos.count()"
   ]
  },
  {
   "cell_type": "code",
   "execution_count": 48,
   "metadata": {},
   "outputs": [
    {
     "name": "stdout",
     "output_type": "stream",
     "text": [
      "+--------------------+--------------------+\n",
      "|                 Mun|              NOMBRE|\n",
      "+--------------------+--------------------+\n",
      "|                null|              Sopela|\n",
      "|                null|          Lantejuela|\n",
      "|                null|        Torla-Ordesa|\n",
      "|                null|Manjabálago y Ort...|\n",
      "|                null|Valle de Egüés/Eg...|\n",
      "|                null|     Montroi/Montroy|\n",
      "|                null|             Potries|\n",
      "|                null|   Barañáin/Barañain|\n",
      "|                null| Agurain/Salvatierra|\n",
      "|                null|             Espeluy|\n",
      "|                null|        Esquirol, L'|\n",
      "|                null|Alqueries, les/Al...|\n",
      "|                null|                Xert|\n",
      "|                null|Cruïlles, Monells...|\n",
      "|                null|Santa Eulària des...|\n",
      "|                null|      Villa de Otura|\n",
      "|                null|Valle de Ollo/Oll...|\n",
      "|                null|      Bidania-Goiatz|\n",
      "|                null|               Arcas|\n",
      "|                null|        Roda de Berà|\n",
      "|                null| Ràfol d'Almúnia, el|\n",
      "|                null|              Ítrabo|\n",
      "|                null|   Alboraia/Alboraya|\n",
      "|                null|  Vilaflor de Chasna|\n",
      "|                null|Castrillo Mota de...|\n",
      "|                null|    Cerdedo-Cotobade|\n",
      "|                null|     Etxarri Aranatz|\n",
      "|                null|Soraluze-Placenci...|\n",
      "|                null|                 Oiz|\n",
      "|                null|           Benissanó|\n",
      "|                null|Vistabella del Ma...|\n",
      "|                null|       Guájares, Los|\n",
      "|                null| Callosa d'en Sarrià|\n",
      "|                null|Saus, Camallera i...|\n",
      "|                null|       Leache/Leatxe|\n",
      "|                null|               Íllar|\n",
      "|                null|  Real de Gandia, el|\n",
      "|                null|      Serratella, la|\n",
      "|                null|Pueblonuevo de Mi...|\n",
      "|                null|            Benassal|\n",
      "|                null|              Íllora|\n",
      "|                null|          Benissuera|\n",
      "|                null|         Atzúbia, l'|\n",
      "|                null|               Urroz|\n",
      "|                null|           Maó-Mahón|\n",
      "|                null|Pozorrubio de San...|\n",
      "|                null|          Atez/Atetz|\n",
      "|                null|Vilallonga/Villal...|\n",
      "|                null|       Güéjar Sierra|\n",
      "|                null|       Uharte Arakil|\n",
      "|                null|     Echarri/Etxarri|\n",
      "|                null|Llucena/Lucena de...|\n",
      "|                null|                Deià|\n",
      "|                null|       Torredelcampo|\n",
      "|             Adsubia|                null|\n",
      "|            Alboraya|                null|\n",
      "|Alquerías del Niñ...|                null|\n",
      "|    Arcas del Villar|                null|\n",
      "|                Atez|                null|\n",
      "|            Barañain|                null|\n",
      "|             Benasal|                null|\n",
      "|            Benisanó|                null|\n",
      "|           Benisuera|                null|\n",
      "|           Bidegoian|                null|\n",
      "| Callosa d'En Sarrià|                null|\n",
      "|Castrillo Matajudíos|                null|\n",
      "|             Cerdedo|                null|\n",
      "|             Cesuras|                null|\n",
      "|          Chert/Xert|                null|\n",
      "|            Cotobade|                null|\n",
      "|Cruïlles,  Monell...|                null|\n",
      "|                Deyá|                null|\n",
      "|             Echarri|                null|\n",
      "|               Egüés|                null|\n",
      "|             Espelúy|                null|\n",
      "|     Etxarri-Aranatz|                null|\n",
      "|       Guajares, Los|                null|\n",
      "|       Güejar Sierra|                null|\n",
      "|               Illar|                null|\n",
      "|              Illora|                null|\n",
      "|              Itrabo|                null|\n",
      "|      Lantejuela, La|                null|\n",
      "|              Leache|                null|\n",
      "|      Lucena del Cid|                null|\n",
      "|         Manjabálago|                null|\n",
      "|                 Maó|                null|\n",
      "|             Montroy|                null|\n",
      "|                Oitz|                null|\n",
      "|                Ollo|                null|\n",
      "|               Otura|                null|\n",
      "|        Oza dos Ríos|                null|\n",
      "|             Potríes|                null|\n",
      "|          Pozorrubio|                null|\n",
      "|      Real de Gandía|                null|\n",
      "|        Roda de Barà|                null|\n",
      "| Ràfol d'Almúnia, El|                null|\n",
      "| Salvatierra/Agurain|                null|\n",
      "|Santa Eulalia del...|                null|\n",
      "|Santa Maria de Corcó|                null|\n",
      "|          Sarratella|                null|\n",
      "|Saus,  Camallera ...|                null|\n",
      "|            Sopelana|                null|\n",
      "|Soraluze/Placenci...|                null|\n",
      "|               Torla|                null|\n",
      "|     Torre del Campo|                null|\n",
      "|       Uharte-Arakil|                null|\n",
      "|              Urrotz|                null|\n",
      "|            Vilaflor|                null|\n",
      "|          Villalonga|                null|\n",
      "|Vistabella del Ma...|                null|\n",
      "+--------------------+--------------------+\n",
      "\n"
     ]
    }
   ],
   "source": [
    "dfCombinado\\\n",
    ".where(dfCombinado.Mun.isNull() | dfCombinado.NOMBRE.isNull())\\\n",
    ".select(\"Mun\",\"NOMBRE\").orderBy(\"Mun\").distinct()\\\n",
    ".show(200)"
   ]
  },
  {
   "cell_type": "code",
   "execution_count": 94,
   "metadata": {},
   "outputs": [
    {
     "name": "stdout",
     "output_type": "stream",
     "text": [
      "+----+---------+---------+-----+---+---+-----+\n",
      "|CPRO|PROVINCIA|   NOMBRE|POB17|Hom|Muj|cMun2|\n",
      "+----+---------+---------+-----+---+---+-----+\n",
      "|   2| Albacete|Abengibre|  748|359|389| 2001|\n",
      "|   2| Albacete|   Alatoz|  555|309|246| 2002|\n",
      "+----+---------+---------+-----+---+---+-----+\n",
      "only showing top 2 rows\n",
      "\n"
     ]
    }
   ],
   "source": [
    "pob2=pob.withColumn(\"cMun2\",pob.CPRO*1000+pob.CMUN)\\\n",
    "    .drop(\"CMUN\").withColumnRenamed(\"HOMBRES\",\"Hom\")\\\n",
    "    .withColumnRenamed(\"MUJERES\",\"Muj\")\n",
    "pob2.show(2)"
   ]
  },
  {
   "cell_type": "code",
   "execution_count": 95,
   "metadata": {},
   "outputs": [],
   "source": [
    "datosCombina2=datosNuevos.join(pob2,\n",
    "                datosNuevos.cMun==pob2.cMun2,\"inner\")"
   ]
  },
  {
   "cell_type": "code",
   "execution_count": 96,
   "metadata": {},
   "outputs": [
    {
     "name": "stdout",
     "output_type": "stream",
     "text": [
      "+---+\n",
      "|Mun|\n",
      "+---+\n",
      "+---+\n",
      "\n"
     ]
    }
   ],
   "source": [
    "datosCombina2.where(datosCombina2.cMun2.isNull())\\\n",
    "        .select(\"Mun\").distinct().show()"
   ]
  },
  {
   "cell_type": "code",
   "execution_count": 97,
   "metadata": {},
   "outputs": [
    {
     "name": "stdout",
     "output_type": "stream",
     "text": [
      "-RECORD 0-----------------------------\n",
      " cFecha        | 201601               \n",
      " CA            | Andalucía            \n",
      " Prov          | Almería              \n",
      " cMun          | 4001                 \n",
      " Mun           | Abla                 \n",
      " Total         | 94                   \n",
      " HombreMenor25 | 3                    \n",
      " Hombre25a45   | 23                   \n",
      " HombreMayor45 | 32                   \n",
      " MujerMenor25  | 7                    \n",
      " Mujer25a45    | 20                   \n",
      " MujerMayor45  | 9                    \n",
      " Hombres       | 58                   \n",
      " Mujeres       | 36                   \n",
      " POB17         | 1267                 \n",
      " Hom           | 651                  \n",
      " Muj           | 616                  \n",
      "-RECORD 1-----------------------------\n",
      " cFecha        | 201601               \n",
      " CA            | Andalucía            \n",
      " Prov          | Almería              \n",
      " cMun          | 4002                 \n",
      " Mun           | Abrucena             \n",
      " Total         | 75                   \n",
      " HombreMenor25 | 3                    \n",
      " Hombre25a45   | 14                   \n",
      " HombreMayor45 | 24                   \n",
      " MujerMenor25  | 8                    \n",
      " Mujer25a45    | 14                   \n",
      " MujerMayor45  | 12                   \n",
      " Hombres       | 41                   \n",
      " Mujeres       | 34                   \n",
      " POB17         | 1170                 \n",
      " Hom           | 606                  \n",
      " Muj           | 564                  \n",
      "-RECORD 2-----------------------------\n",
      " cFecha        | 201601               \n",
      " CA            | Andalucía            \n",
      " Prov          | Almería              \n",
      " cMun          | 4003                 \n",
      " Mun           | Adra                 \n",
      " Total         | 2484                 \n",
      " HombreMenor25 | 161                  \n",
      " Hombre25a45   | 492                  \n",
      " HombreMayor45 | 565                  \n",
      " MujerMenor25  | 109                  \n",
      " Mujer25a45    | 662                  \n",
      " MujerMayor45  | 495                  \n",
      " Hombres       | 1218                 \n",
      " Mujeres       | 1266                 \n",
      " POB17         | 24697                \n",
      " Hom           | 12480                \n",
      " Muj           | 12217                \n",
      "-RECORD 3-----------------------------\n",
      " cFecha        | 201601               \n",
      " CA            | Andalucía            \n",
      " Prov          | Almería              \n",
      " cMun          | 4004                 \n",
      " Mun           | Albánchez            \n",
      " Total         | 28                   \n",
      " HombreMenor25 | 2                    \n",
      " Hombre25a45   | 6                    \n",
      " HombreMayor45 | 6                    \n",
      " MujerMenor25  | 2                    \n",
      " Mujer25a45    | 8                    \n",
      " MujerMayor45  | 4                    \n",
      " Hombres       | 14                   \n",
      " Mujeres       | 14                   \n",
      " POB17         | 754                  \n",
      " Hom           | 378                  \n",
      " Muj           | 376                  \n",
      "-RECORD 4-----------------------------\n",
      " cFecha        | 201601               \n",
      " CA            | Andalucía            \n",
      " Prov          | Almería              \n",
      " cMun          | 4005                 \n",
      " Mun           | Alboloduy            \n",
      " Total         | 46                   \n",
      " HombreMenor25 | 4                    \n",
      " Hombre25a45   | 11                   \n",
      " HombreMayor45 | 15                   \n",
      " MujerMenor25  | 2                    \n",
      " Mujer25a45    | 8                    \n",
      " MujerMayor45  | 6                    \n",
      " Hombres       | 30                   \n",
      " Mujeres       | 16                   \n",
      " POB17         | 610                  \n",
      " Hom           | 299                  \n",
      " Muj           | 311                  \n",
      "-RECORD 5-----------------------------\n",
      " cFecha        | 201601               \n",
      " CA            | Andalucía            \n",
      " Prov          | Almería              \n",
      " cMun          | 4006                 \n",
      " Mun           | Albox                \n",
      " Total         | 978                  \n",
      " HombreMenor25 | 48                   \n",
      " Hombre25a45   | 213                  \n",
      " HombreMayor45 | 199                  \n",
      " MujerMenor25  | 55                   \n",
      " Mujer25a45    | 290                  \n",
      " MujerMayor45  | 173                  \n",
      " Hombres       | 460                  \n",
      " Mujeres       | 518                  \n",
      " POB17         | 11481                \n",
      " Hom           | 5873                 \n",
      " Muj           | 5608                 \n",
      "-RECORD 6-----------------------------\n",
      " cFecha        | 201601               \n",
      " CA            | Andalucía            \n",
      " Prov          | Almería              \n",
      " cMun          | 4007                 \n",
      " Mun           | Alcolea              \n",
      " Total         | 82                   \n",
      " HombreMenor25 | 7                    \n",
      " Hombre25a45   | 16                   \n",
      " HombreMayor45 | 36                   \n",
      " MujerMenor25  | 11                   \n",
      " Mujer25a45    | 10                   \n",
      " MujerMayor45  | 2                    \n",
      " Hombres       | 59                   \n",
      " Mujeres       | 23                   \n",
      " POB17         | 811                  \n",
      " Hom           | 416                  \n",
      " Muj           | 395                  \n",
      "-RECORD 7-----------------------------\n",
      " cFecha        | 201601               \n",
      " CA            | Andalucía            \n",
      " Prov          | Almería              \n",
      " cMun          | 4008                 \n",
      " Mun           | Alcóntar             \n",
      " Total         | 25                   \n",
      " HombreMenor25 | 0                    \n",
      " Hombre25a45   | 6                    \n",
      " HombreMayor45 | 8                    \n",
      " MujerMenor25  | 0                    \n",
      " Mujer25a45    | 5                    \n",
      " MujerMayor45  | 6                    \n",
      " Hombres       | 14                   \n",
      " Mujeres       | 11                   \n",
      " POB17         | 577                  \n",
      " Hom           | 319                  \n",
      " Muj           | 258                  \n",
      "-RECORD 8-----------------------------\n",
      " cFecha        | 201601               \n",
      " CA            | Andalucía            \n",
      " Prov          | Almería              \n",
      " cMun          | 4009                 \n",
      " Mun           | Alcudia de Monteagud \n",
      " Total         | 7                    \n",
      " HombreMenor25 | 0                    \n",
      " Hombre25a45   | 1                    \n",
      " HombreMayor45 | 3                    \n",
      " MujerMenor25  | 0                    \n",
      " Mujer25a45    | 2                    \n",
      " MujerMayor45  | 1                    \n",
      " Hombres       | 4                    \n",
      " Mujeres       | 3                    \n",
      " POB17         | 148                  \n",
      " Hom           | 68                   \n",
      " Muj           | 80                   \n",
      "-RECORD 9-----------------------------\n",
      " cFecha        | 201601               \n",
      " CA            | Andalucía            \n",
      " Prov          | Almería              \n",
      " cMun          | 4010                 \n",
      " Mun           | Alhabia              \n",
      " Total         | 83                   \n",
      " HombreMenor25 | 2                    \n",
      " Hombre25a45   | 23                   \n",
      " HombreMayor45 | 26                   \n",
      " MujerMenor25  | 4                    \n",
      " Mujer25a45    | 20                   \n",
      " MujerMayor45  | 8                    \n",
      " Hombres       | 51                   \n",
      " Mujeres       | 32                   \n",
      " POB17         | 678                  \n",
      " Hom           | 355                  \n",
      " Muj           | 323                  \n",
      "-RECORD 10----------------------------\n",
      " cFecha        | 201601               \n",
      " CA            | Andalucía            \n",
      " Prov          | Almería              \n",
      " cMun          | 4011                 \n",
      " Mun           | Alhama de Almería    \n",
      " Total         | 468                  \n",
      " HombreMenor25 | 42                   \n",
      " Hombre25a45   | 99                   \n",
      " HombreMayor45 | 93                   \n",
      " MujerMenor25  | 41                   \n",
      " Mujer25a45    | 101                  \n",
      " MujerMayor45  | 92                   \n",
      " Hombres       | 234                  \n",
      " Mujeres       | 234                  \n",
      " POB17         | 3653                 \n",
      " Hom           | 1835                 \n",
      " Muj           | 1818                 \n",
      "-RECORD 11----------------------------\n",
      " cFecha        | 201601               \n",
      " CA            | Andalucía            \n",
      " Prov          | Almería              \n",
      " cMun          | 4012                 \n",
      " Mun           | Alicún               \n",
      " Total         | 18                   \n",
      " HombreMenor25 | 1                    \n",
      " Hombre25a45   | 2                    \n",
      " HombreMayor45 | 4                    \n",
      " MujerMenor25  | 1                    \n",
      " Mujer25a45    | 6                    \n",
      " MujerMayor45  | 4                    \n",
      " Hombres       | 7                    \n",
      " Mujeres       | 11                   \n",
      " POB17         | 217                  \n",
      " Hom           | 110                  \n",
      " Muj           | 107                  \n",
      "-RECORD 12----------------------------\n",
      " cFecha        | 201601               \n",
      " CA            | Andalucía            \n",
      " Prov          | Almería              \n",
      " cMun          | 4013                 \n",
      " Mun           | Almería              \n",
      " Total         | 22417                \n",
      " HombreMenor25 | 961                  \n",
      " Hombre25a45   | 4713                 \n",
      " HombreMayor45 | 5051                 \n",
      " MujerMenor25  | 911                  \n",
      " Mujer25a45    | 5712                 \n",
      " MujerMayor45  | 5069                 \n",
      " Hombres       | 10725                \n",
      " Mujeres       | 11692                \n",
      " POB17         | 195389               \n",
      " Hom           | 95044                \n",
      " Muj           | 100345               \n",
      "-RECORD 13----------------------------\n",
      " cFecha        | 201601               \n",
      " CA            | Andalucía            \n",
      " Prov          | Almería              \n",
      " cMun          | 4014                 \n",
      " Mun           | Almócita             \n",
      " Total         | 9                    \n",
      " HombreMenor25 | 0                    \n",
      " Hombre25a45   | 1                    \n",
      " HombreMayor45 | 2                    \n",
      " MujerMenor25  | 1                    \n",
      " Mujer25a45    | 2                    \n",
      " MujerMayor45  | 3                    \n",
      " Hombres       | 3                    \n",
      " Mujeres       | 6                    \n",
      " POB17         | 174                  \n",
      " Hom           | 91                   \n",
      " Muj           | 83                   \n",
      "-RECORD 14----------------------------\n",
      " cFecha        | 201601               \n",
      " CA            | Andalucía            \n",
      " Prov          | Almería              \n",
      " cMun          | 4015                 \n",
      " Mun           | Alsodux              \n",
      " Total         | 10                   \n",
      " HombreMenor25 | 1                    \n",
      " Hombre25a45   | 4                    \n",
      " HombreMayor45 | 3                    \n",
      " MujerMenor25  | 0                    \n",
      " Mujer25a45    | 1                    \n",
      " MujerMayor45  | 1                    \n",
      " Hombres       | 8                    \n",
      " Mujeres       | 2                    \n",
      " POB17         | 132                  \n",
      " Hom           | 75                   \n",
      " Muj           | 57                   \n",
      "-RECORD 15----------------------------\n",
      " cFecha        | 201601               \n",
      " CA            | Andalucía            \n",
      " Prov          | Almería              \n",
      " cMun          | 4016                 \n",
      " Mun           | Antas                \n",
      " Total         | 169                  \n",
      " HombreMenor25 | 9                    \n",
      " Hombre25a45   | 23                   \n",
      " HombreMayor45 | 24                   \n",
      " MujerMenor25  | 7                    \n",
      " Mujer25a45    | 69                   \n",
      " MujerMayor45  | 37                   \n",
      " Hombres       | 56                   \n",
      " Mujeres       | 113                  \n",
      " POB17         | 3124                 \n",
      " Hom           | 1556                 \n",
      " Muj           | 1568                 \n",
      "-RECORD 16----------------------------\n",
      " cFecha        | 201601               \n",
      " CA            | Andalucía            \n",
      " Prov          | Almería              \n",
      " cMun          | 4017                 \n",
      " Mun           | Arboleas             \n",
      " Total         | 164                  \n",
      " HombreMenor25 | 8                    \n",
      " Hombre25a45   | 31                   \n",
      " HombreMayor45 | 36                   \n",
      " MujerMenor25  | 12                   \n",
      " Mujer25a45    | 48                   \n",
      " MujerMayor45  | 29                   \n",
      " Hombres       | 75                   \n",
      " Mujeres       | 89                   \n",
      " POB17         | 4463                 \n",
      " Hom           | 2238                 \n",
      " Muj           | 2225                 \n",
      "-RECORD 17----------------------------\n",
      " cFecha        | 201601               \n",
      " CA            | Andalucía            \n",
      " Prov          | Almería              \n",
      " cMun          | 4018                 \n",
      " Mun           | Armuña de Almanzora  \n",
      " Total         | 30                   \n",
      " HombreMenor25 | 4                    \n",
      " Hombre25a45   | 11                   \n",
      " HombreMayor45 | 3                    \n",
      " MujerMenor25  | 0                    \n",
      " Mujer25a45    | 7                    \n",
      " MujerMayor45  | 5                    \n",
      " Hombres       | 18                   \n",
      " Mujeres       | 12                   \n",
      " POB17         | 327                  \n",
      " Hom           | 158                  \n",
      " Muj           | 169                  \n",
      "-RECORD 18----------------------------\n",
      " cFecha        | 201601               \n",
      " CA            | Andalucía            \n",
      " Prov          | Almería              \n",
      " cMun          | 4019                 \n",
      " Mun           | Bacares              \n",
      " Total         | 6                    \n",
      " HombreMenor25 | 0                    \n",
      " Hombre25a45   | 1                    \n",
      " HombreMayor45 | 1                    \n",
      " MujerMenor25  | 1                    \n",
      " Mujer25a45    | 1                    \n",
      " MujerMayor45  | 2                    \n",
      " Hombres       | 2                    \n",
      " Mujeres       | 4                    \n",
      " POB17         | 244                  \n",
      " Hom           | 128                  \n",
      " Muj           | 116                  \n",
      "-RECORD 19----------------------------\n",
      " cFecha        | 201601               \n",
      " CA            | Andalucía            \n",
      " Prov          | Almería              \n",
      " cMun          | 4020                 \n",
      " Mun           | Bayárcal             \n",
      " Total         | 14                   \n",
      " HombreMenor25 | 0                    \n",
      " Hombre25a45   | 6                    \n",
      " HombreMayor45 | 4                    \n",
      " MujerMenor25  | 1                    \n",
      " Mujer25a45    | 2                    \n",
      " MujerMayor45  | 1                    \n",
      " Hombres       | 10                   \n",
      " Mujeres       | 4                    \n",
      " POB17         | 303                  \n",
      " Hom           | 163                  \n",
      " Muj           | 140                  \n",
      "only showing top 20 rows\n",
      "\n"
     ]
    }
   ],
   "source": [
    "datosCombina2=datosCombina2.drop(\"CPRO\",\n",
    "                                 \"PROVINCIA\",\n",
    "                                \"NOMBRE\",\n",
    "                                \"cMun2\")\n",
    "datosCombina2.show(vertical=True)"
   ]
  },
  {
   "cell_type": "code",
   "execution_count": 99,
   "metadata": {},
   "outputs": [
    {
     "name": "stdout",
     "output_type": "stream",
     "text": [
      "+--------------------+------------+------------+---------+---------+\n",
      "|                  CA|sum(Hombres)|sum(Mujeres)| sum(Hom)| sum(Muj)|\n",
      "+--------------------+------------+------------+---------+---------+\n",
      "|              Aragón|      980832|     1350324| 20022745| 20548505|\n",
      "|Comunitat Valenciana|     5412299|     7408799| 75522293| 77664486|\n",
      "|           Cantabria|      602164|      683149|  8736048|  9253097|\n",
      "|         Extremadura|     1476753|     2113186| 16573716| 16878105|\n",
      "|             Galicia|     2709247|     3408824| 40345849| 43423343|\n",
      "|      Balears, Illes|      747259|      904785| 17202675| 17393294|\n",
      "|               Ceuta|      162829|      225277|  1334054|  1299675|\n",
      "|            Canarias|     3138848|     3862650| 32398503| 32953248|\n",
      "|           Andalucía|    11804114|    15315277|128148885|131625535|\n",
      "|Asturias, Princip...|     1126227|     1373251| 15311241| 16772519|\n",
      "|Navarra, Comunida...|      504661|      677008|  9878801| 10061453|\n",
      "|           Rioja, La|      240925|      324703|  4820748|  4956063|\n",
      "|Castilla - La Mancha|     2333312|     3622849| 31519591| 31456258|\n",
      "|            Cataluña|     6011225|     7431909|115016200|119214530|\n",
      "|     Castilla y León|     2293367|     2978413| 37052781| 38147050|\n",
      "|   Murcia, Región de|     1445963|     2058827| 22823378| 22755085|\n",
      "|          País Vasco|     1879443|     2345553| 33074055| 34944843|\n",
      "|Madrid, Comunidad de|     5427021|     7034264| 96581182|105141522|\n",
      "|             Melilla|      137296|      199946|  1352499|  1317221|\n",
      "+--------------------+------------+------------+---------+---------+\n",
      "\n"
     ]
    }
   ],
   "source": []
  },
  {
   "cell_type": "code",
   "execution_count": 104,
   "metadata": {},
   "outputs": [
    {
     "name": "stdout",
     "output_type": "stream",
     "text": [
      "+--------------------+------------+------------+--------+--------+\n",
      "|                  CA|sum(Hombres)|sum(Mujeres)|sum(Hom)|sum(Muj)|\n",
      "+--------------------+------------+------------+--------+--------+\n",
      "|              Aragón|       28466|       41890|  645895|  662855|\n",
      "|Comunitat Valenciana|      161378|      231416| 2436203| 2505306|\n",
      "|           Cantabria|       19057|       22904|  281808|  298487|\n",
      "|         Extremadura|       45684|       67255|  534636|  544455|\n",
      "|             Galicia|       81698|      105841| 1301479| 1400753|\n",
      "|      Balears, Illes|       25792|       33589|  554925|  561074|\n",
      "|               Ceuta|        5067|        7031|   43034|   41925|\n",
      "|            Canarias|       95288|      119794| 1045113| 1063008|\n",
      "|           Andalucía|      357049|      486918| 4133835| 4245985|\n",
      "|Asturias, Princip...|       35393|       44312|  493911|  541049|\n",
      "|Navarra, Comunida...|       15082|       21006|  318671|  324563|\n",
      "|           Rioja, La|        7368|       10274|  155508|  159873|\n",
      "|Castilla - La Mancha|       71242|      116697| 1016761| 1014718|\n",
      "|            Cataluña|      184387|      233794| 3710200| 3845630|\n",
      "|     Castilla y León|       70206|       92422| 1195251| 1230550|\n",
      "|   Murcia, Región de|       44789|       66757|  736238|  734035|\n",
      "|          País Vasco|       55105|       72130| 1066905| 1127253|\n",
      "|Madrid, Comunidad de|      165322|      218141| 3115522| 3391662|\n",
      "|             Melilla|        3662|        5374|   43629|   42491|\n",
      "+--------------------+------------+------------+--------+--------+\n",
      "\n"
     ]
    }
   ],
   "source": [
    "res=datosCombina2.where(datosCombina2.cFecha==\"201802\")\\\n",
    ".groupBy(\"CA\").sum(\"Hombres\",\"Mujeres\",\"Hom\",\"Muj\")\n",
    "res.show()"
   ]
  },
  {
   "cell_type": "code",
   "execution_count": 121,
   "metadata": {},
   "outputs": [],
   "source": [
    "resP=res.withColumn(\"porH\",\n",
    "    res[\"sum(Hombres)\"]*100/res[\"sum(Hom)\"])\\\n",
    "    .withColumn(\"porM\",\n",
    "    res[\"sum(Mujeres)\"]*100/res[\"sum(Muj)\"])\\\n",
    "    .select(\"CA\",\"porH\",\"porM\").orderBy(\"porM\").toPandas()\n"
   ]
  },
  {
   "cell_type": "code",
   "execution_count": 125,
   "metadata": {},
   "outputs": [
    {
     "data": {
      "text/plain": [
       "<matplotlib.axes._subplots.AxesSubplot at 0x7f7a8832fc88>"
      ]
     },
     "execution_count": 125,
     "metadata": {},
     "output_type": "execute_result"
    },
    {
     "data": {
      "image/png": "[encoded data removed]",
      "text/plain": [
       "<matplotlib.figure.Figure at 0x7f7a87f3b8d0>"
      ]
     },
     "metadata": {},
     "output_type": "display_data"
    }
   ],
   "source": [
    "resP.plot.bar(x=\"CA\",figsize=(10,2))"
   ]
  },
  {
   "cell_type": "code",
   "execution_count": null,
   "metadata": {},
   "outputs": [],
   "source": []
  }
 ],
 "metadata": {
  "kernelspec": {
   "display_name": "Python 3",
   "language": "python",
   "name": "python3"
  },
  "language_info": {
   "codemirror_mode": {
    "name": "ipython",
    "version": 3
   },
   "file_extension": ".py",
   "mimetype": "text/x-python",
   "name": "python",
   "nbconvert_exporter": "python",
   "pygments_lexer": "ipython3",
   "version": "3.5.2"
  }
 },
 "nbformat": 4,
 "nbformat_minor": 2
}
