{
 "cells": [
  {
   "cell_type": "code",
   "execution_count": 1,
   "metadata": {},
   "outputs": [],
   "source": [
    "from pyspark.sql.types import *\n",
    "estructura=StructType([\n",
    "    StructField(\"cFecha\", StringType()),\n",
    "    StructField(\"Fecha\",StringType()),\n",
    "    StructField(\"cCA\", IntegerType()),\n",
    "    StructField(\"CA\",StringType()),\n",
    "    StructField(\"cProv\", IntegerType()),\n",
    "    StructField(\"Prov\",StringType()),\n",
    "    StructField(\"cMun\", IntegerType()),\n",
    "    StructField(\"Mun\",StringType()),\n",
    "    StructField(\"Total\",IntegerType()),\n",
    "    StructField(\"HombreMenor25\",IntegerType()),\n",
    "    StructField(\"Hombre25a45\",IntegerType()),\n",
    "    StructField(\"HombreMayor45\",IntegerType()),\n",
    "    StructField(\"MujerMenor25\",IntegerType()),\n",
    "    StructField(\"Mujer25a45\",IntegerType()),\n",
    "    StructField(\"MujerMayor45\",IntegerType())\n",
    "]\n",
    ")"
   ]
  },
  {
   "cell_type": "code",
   "execution_count": 2,
   "metadata": {},
   "outputs": [],
   "source": [
    "#si no se ve bien añadir: encoding=\"cp1252\"\n",
    "datos=spark.read.csv(\"hdfs://localhost:9000/paro\",\n",
    "        sep=\";\",header=True,schema=estructura)"
   ]
  },
  {
   "cell_type": "code",
   "execution_count": 3,
   "metadata": {},
   "outputs": [
    {
     "name": "stdout",
     "output_type": "stream",
     "text": [
      "root\n",
      " |-- cFecha: string (nullable = true)\n",
      " |-- Fecha: string (nullable = true)\n",
      " |-- cCA: integer (nullable = true)\n",
      " |-- CA: string (nullable = true)\n",
      " |-- cProv: integer (nullable = true)\n",
      " |-- Prov: string (nullable = true)\n",
      " |-- cMun: integer (nullable = true)\n",
      " |-- Mun: string (nullable = true)\n",
      " |-- Total: integer (nullable = true)\n",
      " |-- HombreMenor25: integer (nullable = true)\n",
      " |-- Hombre25a45: integer (nullable = true)\n",
      " |-- HombreMayor45: integer (nullable = true)\n",
      " |-- MujerMenor25: integer (nullable = true)\n",
      " |-- Mujer25a45: integer (nullable = true)\n",
      " |-- MujerMayor45: integer (nullable = true)\n",
      "\n",
      "-RECORD 0----------------------\n",
      " cFecha        | 201601        \n",
      " Fecha         | Enero de 2016 \n",
      " cCA           | 1             \n",
      " CA            | Andalucía     \n",
      " cProv         | 4             \n",
      " Prov          | Almería       \n",
      " cMun          | 4001          \n",
      " Mun           | Abla          \n",
      " Total         | 94            \n",
      " HombreMenor25 | 3             \n",
      " Hombre25a45   | 23            \n",
      " HombreMayor45 | 32            \n",
      " MujerMenor25  | 7             \n",
      " Mujer25a45    | 20            \n",
      " MujerMayor45  | 9             \n",
      "-RECORD 1----------------------\n",
      " cFecha        | 201601        \n",
      " Fecha         | Enero de 2016 \n",
      " cCA           | 1             \n",
      " CA            | Andalucía     \n",
      " cProv         | 4             \n",
      " Prov          | Almería       \n",
      " cMun          | 4002          \n",
      " Mun           | Abrucena      \n",
      " Total         | 75            \n",
      " HombreMenor25 | 3             \n",
      " Hombre25a45   | 14            \n",
      " HombreMayor45 | 24            \n",
      " MujerMenor25  | 8             \n",
      " Mujer25a45    | 14            \n",
      " MujerMayor45  | 12            \n",
      "only showing top 2 rows\n",
      "\n"
     ]
    },
    {
     "data": {
      "text/plain": [
       "(None, None)"
      ]
     },
     "execution_count": 3,
     "metadata": {},
     "output_type": "execute_result"
    }
   ],
   "source": [
    "datos.printSchema(),datos.show(2,vertical=True)"
   ]
  },
  {
   "cell_type": "code",
   "execution_count": 4,
   "metadata": {},
   "outputs": [
    {
     "data": {
      "text/plain": [
       "DataFrame[cFecha: string, CA: string, Prov: string, Mun: string, Total: int, HombreMenor25: int, Hombre25a45: int, HombreMayor45: int, MujerMenor25: int, Mujer25a45: int, MujerMayor45: int, Hombres: int, Mujeres: int]"
      ]
     },
     "execution_count": 4,
     "metadata": {},
     "output_type": "execute_result"
    }
   ],
   "source": [
    "datosNuevos=datos.withColumn(\"Hombres\",\n",
    "    datos.HombreMenor25+datos.Hombre25a45+datos.HombreMayor45)\\\n",
    "    .withColumn(\"Mujeres\",\n",
    "    datos.MujerMenor25+datos.Mujer25a45+datos.MujerMayor45)\\\n",
    "    .drop(\"Fecha\",\"cCA\",\"cProv\",\"cMun\")\n",
    "#datosNuevos.show()\n",
    "datosNuevos.cache()"
   ]
  },
  {
   "cell_type": "code",
   "execution_count": 5,
   "metadata": {},
   "outputs": [
    {
     "name": "stdout",
     "output_type": "stream",
     "text": [
      "root\n",
      " |-- cFecha: string (nullable = true)\n",
      " |-- CA: string (nullable = true)\n",
      " |-- Prov: string (nullable = true)\n",
      " |-- Mun: string (nullable = true)\n",
      " |-- Total: integer (nullable = true)\n",
      " |-- HombreMenor25: integer (nullable = true)\n",
      " |-- Hombre25a45: integer (nullable = true)\n",
      " |-- HombreMayor45: integer (nullable = true)\n",
      " |-- MujerMenor25: integer (nullable = true)\n",
      " |-- Mujer25a45: integer (nullable = true)\n",
      " |-- MujerMayor45: integer (nullable = true)\n",
      " |-- Hombres: integer (nullable = true)\n",
      " |-- Mujeres: integer (nullable = true)\n",
      "\n",
      "-RECORD 0------------------\n",
      " cFecha        | 201601    \n",
      " CA            | Andalucía \n",
      " Prov          | Almería   \n",
      " Mun           | Abla      \n",
      " Total         | 94        \n",
      " HombreMenor25 | 3         \n",
      " Hombre25a45   | 23        \n",
      " HombreMayor45 | 32        \n",
      " MujerMenor25  | 7         \n",
      " Mujer25a45    | 20        \n",
      " MujerMayor45  | 9         \n",
      " Hombres       | 58        \n",
      " Mujeres       | 36        \n",
      "-RECORD 1------------------\n",
      " cFecha        | 201601    \n",
      " CA            | Andalucía \n",
      " Prov          | Almería   \n",
      " Mun           | Abrucena  \n",
      " Total         | 75        \n",
      " HombreMenor25 | 3         \n",
      " Hombre25a45   | 14        \n",
      " HombreMayor45 | 24        \n",
      " MujerMenor25  | 8         \n",
      " Mujer25a45    | 14        \n",
      " MujerMayor45  | 12        \n",
      " Hombres       | 41        \n",
      " Mujeres       | 34        \n",
      "only showing top 2 rows\n",
      "\n"
     ]
    },
    {
     "data": {
      "text/plain": [
       "(None, None)"
      ]
     },
     "execution_count": 5,
     "metadata": {},
     "output_type": "execute_result"
    }
   ],
   "source": [
    "datosNuevos.printSchema(),datosNuevos.show(2,vertical=True)"
   ]
  },
  {
   "cell_type": "code",
   "execution_count": 6,
   "metadata": {},
   "outputs": [
    {
     "name": "stdout",
     "output_type": "stream",
     "text": [
      "+------+------------+------------+\n",
      "|cFecha|sum(Hombres)|sum(Mujeres)|\n",
      "+------+------------+------------+\n",
      "|201801|     1475479|     2001049|\n",
      "+------+------------+------------+\n",
      "\n"
     ]
    }
   ],
   "source": [
    "total=datosNuevos.where(datosNuevos.cFecha.like(\"201801\"))\\\n",
    "    .groupBy(\"cFecha\").sum(\"Hombres\",\"Mujeres\")\n",
    "total.show()"
   ]
  },
  {
   "cell_type": "code",
   "execution_count": 7,
   "metadata": {},
   "outputs": [],
   "source": [
    "totalP=total.select(total[\"sum(Hombres)\"].alias(\"Hombres\"),\n",
    "                   total[\"sum(Mujeres)\"].alias(\"Mujeres\"))\\\n",
    "    .toPandas()"
   ]
  },
  {
   "cell_type": "code",
   "execution_count": 8,
   "metadata": {},
   "outputs": [
    {
     "data": {
      "text/plain": [
       "<matplotlib.axes._subplots.AxesSubplot at 0x7f7a8afc2048>"
      ]
     },
     "execution_count": 8,
     "metadata": {},
     "output_type": "execute_result"
    }
   ],
   "source": [
    "totalP.plot(kind=\"bar\")"
   ]
  },
  {
   "cell_type": "code",
   "execution_count": 9,
   "metadata": {},
   "outputs": [
    {
     "name": "stdout",
     "output_type": "stream",
     "text": [
      "+---------+-------+-------+\n",
      "|       CA|Hombres|Mujeres|\n",
      "+---------+-------+-------+\n",
      "|Andalucía|     58|     36|\n",
      "|Andalucía|     41|     34|\n",
      "|Andalucía|   1218|   1266|\n",
      "|Andalucía|     14|     14|\n",
      "|Andalucía|     30|     16|\n",
      "|Andalucía|    460|    518|\n",
      "|Andalucía|     59|     23|\n",
      "|Andalucía|     14|     11|\n",
      "|Andalucía|      4|      3|\n",
      "|Andalucía|     51|     32|\n",
      "|Andalucía|    234|    234|\n",
      "|Andalucía|      7|     11|\n",
      "|Andalucía|  10725|  11692|\n",
      "|Andalucía|      3|      6|\n",
      "|Andalucía|      8|      2|\n",
      "|Andalucía|     56|    113|\n",
      "|Andalucía|     75|     89|\n",
      "|Andalucía|     18|     12|\n",
      "|Andalucía|      2|      4|\n",
      "|Andalucía|     10|      4|\n",
      "+---------+-------+-------+\n",
      "only showing top 20 rows\n",
      "\n"
     ]
    }
   ],
   "source": [
    "datosNuevos.select(\"CA\",\"Hombres\",\"Mujeres\").show()"
   ]
  },
  {
   "cell_type": "code",
   "execution_count": 10,
   "metadata": {},
   "outputs": [
    {
     "name": "stdout",
     "output_type": "stream",
     "text": [
      "-RECORD 0----------------------\n",
      " cFecha        | 201601        \n",
      " Fecha         | Enero de 2016 \n",
      " cCA           | 1             \n",
      " CA            | Andalucía     \n",
      " cProv         | 4             \n",
      " Prov          | Almería       \n",
      " cMun          | 4001          \n",
      " Mun           | Abla          \n",
      " Total         | 94            \n",
      " HombreMenor25 | 3             \n",
      " Hombre25a45   | 23            \n",
      " HombreMayor45 | 32            \n",
      " MujerMenor25  | 7             \n",
      " Mujer25a45    | 20            \n",
      " MujerMayor45  | 9             \n",
      "-RECORD 1----------------------\n",
      " cFecha        | 201601        \n",
      " Fecha         | Enero de 2016 \n",
      " cCA           | 1             \n",
      " CA            | Andalucía     \n",
      " cProv         | 4             \n",
      " Prov          | Almería       \n",
      " cMun          | 4002          \n",
      " Mun           | Abrucena      \n",
      " Total         | 75            \n",
      " HombreMenor25 | 3             \n",
      " Hombre25a45   | 14            \n",
      " HombreMayor45 | 24            \n",
      " MujerMenor25  | 8             \n",
      " Mujer25a45    | 14            \n",
      " MujerMayor45  | 12            \n",
      "only showing top 2 rows\n",
      "\n"
     ]
    }
   ],
   "source": [
    "datos.show(2,vertical=True)"
   ]
  },
  {
   "cell_type": "code",
   "execution_count": 11,
   "metadata": {},
   "outputs": [
    {
     "name": "stdout",
     "output_type": "stream",
     "text": [
      "+--------------------+------------+------------+\n",
      "|                  CA|sum(Hombres)|sum(Mujeres)|\n",
      "+--------------------+------------+------------+\n",
      "|           Andalucía|      357049|      486918|\n",
      "|              Aragón|       28466|       41890|\n",
      "|Asturias, Princip...|       35393|       44312|\n",
      "|      Balears, Illes|       25792|       33589|\n",
      "|            Canarias|       95288|      119794|\n",
      "|           Cantabria|       19057|       22904|\n",
      "|Castilla - La Mancha|       71242|      116697|\n",
      "|     Castilla y León|       70206|       92422|\n",
      "|            Cataluña|      184387|      233794|\n",
      "|               Ceuta|        5067|        7031|\n",
      "|Comunitat Valenciana|      161378|      231416|\n",
      "|         Extremadura|       45684|       67255|\n",
      "|             Galicia|       82033|      106174|\n",
      "|Madrid, Comunidad de|      165322|      218141|\n",
      "|             Melilla|        3662|        5374|\n",
      "|   Murcia, Región de|       44789|       66757|\n",
      "|Navarra, Comunida...|       15082|       21006|\n",
      "|          País Vasco|       55105|       72130|\n",
      "|           Rioja, La|        7368|       10274|\n",
      "+--------------------+------------+------------+\n",
      "\n"
     ]
    }
   ],
   "source": [
    "res=datosNuevos.where(datosNuevos.cFecha.like(\"201802\"))\\\n",
    "    .groupBy(\"CA\").sum(\"Hombres\",\"Mujeres\").orderBy(\"CA\")\n",
    "resP=res.toPandas()\n",
    "res.show()"
   ]
  },
  {
   "cell_type": "code",
   "execution_count": 12,
   "metadata": {},
   "outputs": [
    {
     "data": {
      "text/plain": [
       "<matplotlib.axes._subplots.AxesSubplot at 0x7f7a8af10390>"
      ]
     },
     "execution_count": 12,
     "metadata": {},
     "output_type": "execute_result"
    },
    {
     "data": {
      "image/png": "[encoded data removed]",
      "text/plain": [
       "<matplotlib.figure.Figure at 0x7f7a8af45518>"
      ]
     },
     "metadata": {},
     "output_type": "display_data"
    }
   ],
   "source": [
    "resP.plot(x=\"CA\",kind=\"bar\")"
   ]
  },
  {
   "cell_type": "code",
   "execution_count": 13,
   "metadata": {},
   "outputs": [
    {
     "name": "stdout",
     "output_type": "stream",
     "text": [
      "['Andalucía', 'Aragón', 'Asturias, Principado de', 'Balears, Illes', 'Canarias', 'Cantabria', 'Castilla - La Mancha', 'Castilla y León', 'Cataluña', 'Ceuta', 'Comunitat Valenciana', 'Extremadura', 'Galicia', 'Madrid, Comunidad de', 'Melilla', 'Murcia, Región de', 'Navarra, Comunidad Foral de', 'País Vasco', 'Rioja, La']\n"
     ]
    }
   ],
   "source": [
    "print(res.rdd.map(lambda a:a[0]).collect())#nombre de CCAA"
   ]
  },
  {
   "cell_type": "code",
   "execution_count": 14,
   "metadata": {},
   "outputs": [
    {
     "name": "stdout",
     "output_type": "stream",
     "text": [
      "[357049, 28466, 35393, 25792, 95288, 19057, 71242, 70206, 184387, 5067, 161378, 45684, 82033, 165322, 3662, 44789, 15082, 55105, 7368]\n"
     ]
    }
   ],
   "source": [
    "print(res.rdd.map(lambda a:a[1]).collect()) #paro de Hombres"
   ]
  },
  {
   "cell_type": "code",
   "execution_count": 15,
   "metadata": {},
   "outputs": [
    {
     "name": "stdout",
     "output_type": "stream",
     "text": [
      "[486918, 41890, 44312, 33589, 119794, 22904, 116697, 92422, 233794, 7031, 231416, 67255, 106174, 218141, 5374, 66757, 21006, 72130, 10274]\n"
     ]
    }
   ],
   "source": [
    "print(res.rdd.map(lambda a:a[2]).collect())"
   ]
  },
  {
   "cell_type": "code",
   "execution_count": 16,
   "metadata": {},
   "outputs": [],
   "source": [
    "pob=spark.read.csv(\"../población/pobmun17.csv\",\n",
    "                   sep=\";\",header=True,encoding=\"cp1252\",\n",
    "                  inferSchema=True)"
   ]
  },
  {
   "cell_type": "code",
   "execution_count": 17,
   "metadata": {},
   "outputs": [
    {
     "name": "stdout",
     "output_type": "stream",
     "text": [
      "+----+---------+----+----------------+------+-------+-------+\n",
      "|CPRO|PROVINCIA|CMUN|          NOMBRE| POB17|HOMBRES|MUJERES|\n",
      "+----+---------+----+----------------+------+-------+-------+\n",
      "|   2| Albacete|   1|       Abengibre|   748|    359|    389|\n",
      "|   2| Albacete|   2|          Alatoz|   555|    309|    246|\n",
      "|   2| Albacete|   3|        Albacete|172816|  84507|  88309|\n",
      "|   2| Albacete|   4|        Albatana|   698|    362|    336|\n",
      "|   2| Albacete|   5|         Alborea|   697|    357|    340|\n",
      "|   2| Albacete|   6|        Alcadozo|   662|    361|    301|\n",
      "|   2| Albacete|   7|Alcalá del Júcar|  1202|    642|    560|\n",
      "+----+---------+----+----------------+------+-------+-------+\n",
      "only showing top 7 rows\n",
      "\n",
      "root\n",
      " |-- CPRO: integer (nullable = true)\n",
      " |-- PROVINCIA: string (nullable = true)\n",
      " |-- CMUN: integer (nullable = true)\n",
      " |-- NOMBRE: string (nullable = true)\n",
      " |-- POB17: integer (nullable = true)\n",
      " |-- HOMBRES: integer (nullable = true)\n",
      " |-- MUJERES: integer (nullable = true)\n",
      "\n"
     ]
    },
    {
     "data": {
      "text/plain": [
       "(None, None)"
      ]
     },
     "execution_count": 17,
     "metadata": {},
     "output_type": "execute_result"
    }
   ],
   "source": [
    "pob.show(7),pob.printSchema()"
   ]
  },
  {
   "cell_type": "code",
   "execution_count": 18,
   "metadata": {},
   "outputs": [
    {
     "name": "stdout",
     "output_type": "stream",
     "text": [
      "+----+---------+----+--------------------+------+-------+-------+\n",
      "|CPRO|PROVINCIA|CMUN|              NOMBRE| POB17|HOMBRES|MUJERES|\n",
      "+----+---------+----+--------------------+------+-------+-------+\n",
      "|  32|  Ourense|   8|            Barbadás| 10791|   5274|   5517|\n",
      "|  32|  Ourense|   9|Barco de Valdeorr...| 13581|   6620|   6961|\n",
      "|  32|  Ourense|  19|       Carballiño, O| 13854|   6491|   7363|\n",
      "|  32|  Ourense|  54|             Ourense|105636|  48117|  57519|\n",
      "|  32|  Ourense|  85|               Verín| 13889|   6710|   7179|\n",
      "+----+---------+----+--------------------+------+-------+-------+\n",
      "\n"
     ]
    }
   ],
   "source": [
    "pob.where(pob.POB17.between(10000,300000) & (pob.PROVINCIA.like(\"O%rense\"))).show()"
   ]
  }
 ],
 "metadata": {
  "kernelspec": {
   "display_name": "Python 3",
   "language": "python",
   "name": "python3"
  },
  "language_info": {
   "codemirror_mode": {
    "name": "ipython",
    "version": 3
   },
   "file_extension": ".py",
   "mimetype": "text/x-python",
   "name": "python",
   "nbconvert_exporter": "python",
   "pygments_lexer": "ipython3",
   "version": "3.5.2"
  }
 },
 "nbformat": 4,
 "nbformat_minor": 2
}
