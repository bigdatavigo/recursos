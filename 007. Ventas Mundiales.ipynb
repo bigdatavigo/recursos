{
 "cells": [
  {
   "cell_type": "code",
   "execution_count": 51,
   "metadata": {},
   "outputs": [],
   "source": [
    "df=spark.read.csv(\"../RDD/ventas/\",\n",
    "                 header=True,\n",
    "                 inferSchema=True,\n",
    "                 timestampFormat=\"MM/dd/yyyy\"\n",
    "                 )"
   ]
  },
  {
   "cell_type": "code",
   "execution_count": 52,
   "metadata": {},
   "outputs": [
    {
     "name": "stdout",
     "output_type": "stream",
     "text": [
      "root\n",
      " |-- ProductID: integer (nullable = true)\n",
      " |-- Date: timestamp (nullable = true)\n",
      " |-- Zip: string (nullable = true)\n",
      " |-- Units: integer (nullable = true)\n",
      " |-- Revenue: double (nullable = true)\n",
      " |-- Country: string (nullable = true)\n",
      "\n",
      "+---------+-------------------+--------------+-----+-------+-------+\n",
      "|ProductID|               Date|           Zip|Units|Revenue|Country|\n",
      "+---------+-------------------+--------------+-----+-------+-------+\n",
      "|      726|1999-01-15 00:00:00|75056 CEDEX 01|    1| 115.45| France|\n",
      "|     1909|1999-01-15 00:00:00|75056 CEDEX 01|    2|  398.9| France|\n",
      "+---------+-------------------+--------------+-----+-------+-------+\n",
      "only showing top 2 rows\n",
      "\n"
     ]
    },
    {
     "data": {
      "text/plain": [
       "(None, None)"
      ]
     },
     "execution_count": 52,
     "metadata": {},
     "output_type": "execute_result"
    }
   ],
   "source": [
    "df.printSchema(),df.show(2)"
   ]
  },
  {
   "cell_type": "code",
   "execution_count": 53,
   "metadata": {},
   "outputs": [
    {
     "data": {
      "text/plain": [
       "841147"
      ]
     },
     "execution_count": 53,
     "metadata": {},
     "output_type": "execute_result"
    }
   ],
   "source": [
    "df.count()"
   ]
  },
  {
   "cell_type": "code",
   "execution_count": 54,
   "metadata": {},
   "outputs": [
    {
     "name": "stdout",
     "output_type": "stream",
     "text": [
      "+-------+------+\n",
      "|Country| count|\n",
      "+-------+------+\n",
      "|Germany|234072|\n",
      "| France|314750|\n",
      "| Mexico|217007|\n",
      "| Canada| 75318|\n",
      "+-------+------+\n",
      "\n"
     ]
    }
   ],
   "source": [
    "df.groupBy(\"Country\").count().show()"
   ]
  },
  {
   "cell_type": "code",
   "execution_count": 39,
   "metadata": {},
   "outputs": [
    {
     "name": "stdout",
     "output_type": "stream",
     "text": [
      "+-------+----------+-----------------+\n",
      "|Country|sum(Units)|     sum(Revenue)|\n",
      "+-------+----------+-----------------+\n",
      "|Germany|     12363| 5974734.42000092|\n",
      "| France|     20617|7660595.510002049|\n",
      "| Mexico|      9991|3447196.620000272|\n",
      "| Canada|      3964|1382819.917500034|\n",
      "+-------+----------+-----------------+\n",
      "\n"
     ]
    }
   ],
   "source": [
    "from pyspark.sql.functions import year\n",
    "df.where(year(\"Date\")==1999).groupBy(\"Country\")\\\n",
    "    .sum(\"Units\",\"Revenue\").show()"
   ]
  },
  {
   "cell_type": "code",
   "execution_count": 60,
   "metadata": {},
   "outputs": [],
   "source": [
    "dfUSA=spark.read.csv(\"../RDD/ventasUSA/\",\n",
    "                     sep=\";\",\n",
    "                    inferSchema=True)"
   ]
  },
  {
   "cell_type": "code",
   "execution_count": 61,
   "metadata": {},
   "outputs": [
    {
     "name": "stdout",
     "output_type": "stream",
     "text": [
      "root\n",
      " |-- _c0: integer (nullable = true)\n",
      " |-- _c1: timestamp (nullable = true)\n",
      " |-- _c2: integer (nullable = true)\n",
      " |-- _c3: integer (nullable = true)\n",
      " |-- _c4: string (nullable = true)\n",
      "\n",
      "+---+-------------------+-----+---+--------+\n",
      "|_c0|                _c1|  _c2|_c3|     _c4|\n",
      "+---+-------------------+-----+---+--------+\n",
      "|833|1999-01-15 00:00:00|76108|  1|797,9475|\n",
      "|837|1999-01-15 00:00:00|33436|  1|813,6975|\n",
      "|837|1999-01-15 00:00:00|76531|  1|813,6975|\n",
      "|838|1999-01-15 00:00:00|29526|  1|934,4475|\n",
      "|838|1999-01-15 00:00:00|33584|  1|944,9475|\n",
      "|838|1999-01-15 00:00:00|33947|  1|944,9475|\n",
      "|838|1999-01-15 00:00:00|74132|  1|929,1975|\n",
      "|838|1999-01-15 00:00:00|75080|  1|944,9475|\n",
      "|838|1999-01-15 00:00:00|85225|  1|934,4475|\n",
      "|838|1999-01-15 00:00:00|92647|  1|929,1975|\n",
      "|838|1999-01-15 00:00:00|92833|  1|934,4475|\n",
      "|843|1999-01-15 00:00:00|91730|  1|551,1975|\n",
      "|847|1999-01-15 00:00:00|17701|  1|603,6975|\n",
      "|847|1999-01-15 00:00:00|71446|  1|577,4475|\n",
      "|847|1999-01-15 00:00:00|99205|  1|603,6975|\n",
      "|852|1999-01-15 00:00:00|36054|  1|745,4475|\n",
      "|852|1999-01-15 00:00:00|85234|  1|771,6975|\n",
      "|853|1999-01-15 00:00:00|78413|  1|456,6975|\n",
      "|862|1999-01-15 00:00:00|85224|  1|209,9475|\n",
      "|863|1999-01-15 00:00:00|93117|  1|304,4475|\n",
      "+---+-------------------+-----+---+--------+\n",
      "only showing top 20 rows\n",
      "\n"
     ]
    }
   ],
   "source": [
    "dfUSA.printSchema();dfUSA.show()"
   ]
  },
  {
   "cell_type": "code",
   "execution_count": 68,
   "metadata": {},
   "outputs": [
    {
     "name": "stdout",
     "output_type": "stream",
     "text": [
      "+---+-------------------+-----+---+--------+-------+\n",
      "|_c0|                _c1|  _c2|_c3|     _c4|Country|\n",
      "+---+-------------------+-----+---+--------+-------+\n",
      "|833|1999-01-15 00:00:00|76108|  1|797.9475|    USA|\n",
      "|837|1999-01-15 00:00:00|33436|  1|813.6975|    USA|\n",
      "+---+-------------------+-----+---+--------+-------+\n",
      "only showing top 2 rows\n",
      "\n",
      "root\n",
      " |-- _c0: integer (nullable = true)\n",
      " |-- _c1: timestamp (nullable = true)\n",
      " |-- _c2: string (nullable = true)\n",
      " |-- _c3: integer (nullable = true)\n",
      " |-- _c4: float (nullable = true)\n",
      " |-- Country: string (nullable = false)\n",
      "\n"
     ]
    }
   ],
   "source": [
    "from pyspark.sql.functions import translate,lit\n",
    "dfU=dfUSA.withColumn(\"_c2\",dfUSA._c2.cast(\"string\"))\\\n",
    "        .withColumn(\"_c4\",translate(\"_c4\",\",\",\".\").cast(\"float\"))\\\n",
    "        .withColumn(\"Country\",lit(\"USA\"))\n",
    "dfU.show(2);dfU.printSchema()"
   ]
  },
  {
   "cell_type": "code",
   "execution_count": 75,
   "metadata": {},
   "outputs": [
    {
     "name": "stdout",
     "output_type": "stream",
     "text": [
      "root\n",
      " |-- ProductID: integer (nullable = true)\n",
      " |-- Date: timestamp (nullable = true)\n",
      " |-- Zip: string (nullable = true)\n",
      " |-- Units: integer (nullable = true)\n",
      " |-- Revenue: double (nullable = true)\n",
      " |-- Country: string (nullable = true)\n",
      "\n",
      "root\n",
      " |-- _c0: integer (nullable = true)\n",
      " |-- _c1: timestamp (nullable = true)\n",
      " |-- _c2: string (nullable = true)\n",
      " |-- _c3: integer (nullable = true)\n",
      " |-- _c4: float (nullable = true)\n",
      " |-- Country: string (nullable = false)\n",
      "\n"
     ]
    }
   ],
   "source": [
    "df.printSchema();dfU.printSchema()"
   ]
  },
  {
   "cell_type": "code",
   "execution_count": 76,
   "metadata": {},
   "outputs": [],
   "source": [
    "dfMundial=df.union(dfU)"
   ]
  },
  {
   "cell_type": "code",
   "execution_count": 78,
   "metadata": {},
   "outputs": [
    {
     "data": {
      "text/plain": [
       "(1341147, 841147, 500000)"
      ]
     },
     "execution_count": 78,
     "metadata": {},
     "output_type": "execute_result"
    }
   ],
   "source": [
    "dfMundial.count(),df.count(),dfU.count()"
   ]
  },
  {
   "cell_type": "code",
   "execution_count": 88,
   "metadata": {},
   "outputs": [],
   "source": [
    "dfP=dfMundial.groupBy(\"Country\")\\\n",
    ".sum(\"Revenue\")\\\n",
    ".orderBy(\"sum(Revenue)\",ascending=False).toPandas()"
   ]
  },
  {
   "cell_type": "code",
   "execution_count": 91,
   "metadata": {},
   "outputs": [
    {
     "data": {
      "text/plain": [
       "<matplotlib.axes._subplots.AxesSubplot at 0x7f0b63ebe390>"
      ]
     },
     "execution_count": 91,
     "metadata": {},
     "output_type": "execute_result"
    },
    {
     "data": {
      "image/png": "[encoded data removed]",
      "text/plain": [
       "<matplotlib.figure.Figure at 0x7f0b63e1d2b0>"
      ]
     },
     "metadata": {},
     "output_type": "display_data"
    }
   ],
   "source": [
    "dfP.plot.bar(x=\"Country\",y=\"sum(Revenue)\",figsize=(10,2))"
   ]
  },
  {
   "cell_type": "code",
   "execution_count": null,
   "metadata": {},
   "outputs": [],
   "source": []
  }
 ],
 "metadata": {
  "kernelspec": {
   "display_name": "Python 3",
   "language": "python",
   "name": "python3"
  },
  "language_info": {
   "codemirror_mode": {
    "name": "ipython",
    "version": 3
   },
   "file_extension": ".py",
   "mimetype": "text/x-python",
   "name": "python",
   "nbconvert_exporter": "python",
   "pygments_lexer": "ipython3",
   "version": "3.5.2"
  }
 },
 "nbformat": 4,
 "nbformat_minor": 2
}
