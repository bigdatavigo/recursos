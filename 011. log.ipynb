{
 "cells": [
  {
   "cell_type": "code",
   "execution_count": 1,
   "metadata": {},
   "outputs": [],
   "source": [
    "datos=spark.read.text(\"../Ejemplos python/access_log\")"
   ]
  },
  {
   "cell_type": "code",
   "execution_count": 2,
   "metadata": {},
   "outputs": [
    {
     "name": "stdout",
     "output_type": "stream",
     "text": [
      "root\n",
      " |-- value: string (nullable = true)\n",
      "\n"
     ]
    },
    {
     "data": {
      "text/plain": [
       "(1546, None)"
      ]
     },
     "execution_count": 2,
     "metadata": {},
     "output_type": "execute_result"
    }
   ],
   "source": [
    "datos.count(),datos.printSchema()"
   ]
  },
  {
   "cell_type": "code",
   "execution_count": 3,
   "metadata": {},
   "outputs": [
    {
     "name": "stdout",
     "output_type": "stream",
     "text": [
      "+--------------------------------------------------------------------------------------------------------------------------------------------------------+\n",
      "|value                                                                                                                                                   |\n",
      "+--------------------------------------------------------------------------------------------------------------------------------------------------------+\n",
      "|64.242.88.10 - - [07/Mar/2004:16:05:49 -0800] \"GET /twiki/bin/edit/Main/Double_bounce_sender?topicparent=Main.ConfigurationVariables HTTP/1.1\" 401 12846|\n",
      "|64.242.88.10 - - [07/Mar/2004:16:06:51 -0800] \"GET /twiki/bin/rdiff/TWiki/NewUserTemplate?rev1=1.3&rev2=1.2 HTTP/1.1\" 200 4523                          |\n",
      "|64.242.88.10 - - [07/Mar/2004:16:10:02 -0800] \"GET /mailman/listinfo/hsdivision HTTP/1.1\" 200 6291                                                      |\n",
      "+--------------------------------------------------------------------------------------------------------------------------------------------------------+\n",
      "only showing top 3 rows\n",
      "\n"
     ]
    }
   ],
   "source": [
    "datos.show(3,truncate=False)"
   ]
  },
  {
   "cell_type": "code",
   "execution_count": 4,
   "metadata": {},
   "outputs": [
    {
     "name": "stdout",
     "output_type": "stream",
     "text": [
      "-RECORD 0------------------------------------------------------------------------------------------------\n",
      " ip     | 64.242.88.10                                                                                   \n",
      " fecha  | 2004-03-08 01:05:49                                                                            \n",
      " url    | GET /twiki/bin/edit/Main/Double_bounce_sender?topicparent=Main.ConfigurationVariables HTTP/1.1 \n",
      " estado | 401                                                                                            \n",
      " bytes  | 12846                                                                                          \n",
      "-RECORD 1------------------------------------------------------------------------------------------------\n",
      " ip     | 64.242.88.10                                                                                   \n",
      " fecha  | 2004-03-08 01:06:51                                                                            \n",
      " url    | GET /twiki/bin/rdiff/TWiki/NewUserTemplate?rev1=1.3&rev2=1.2 HTTP/1.1                          \n",
      " estado | 200                                                                                            \n",
      " bytes  | 4523                                                                                           \n",
      "only showing top 2 rows\n",
      "\n"
     ]
    }
   ],
   "source": [
    "from pyspark.sql.functions import (regexp_extract,\n",
    "                                   to_timestamp)\n",
    "\n",
    "tabla=datos.select(\\\n",
    " regexp_extract(\"value\",\"(.+) - - \",1).alias(\"ip\"),\n",
    " to_timestamp(regexp_extract(\"value\",\"(.+) - - \\[(.+)\\]\",2),\n",
    "             \"dd/MMM/yyyy:HH:mm:ss z\").alias(\"fecha\"),\n",
    " regexp_extract(\"value\",'\"(.+)\"',1).alias(\"url\"),\n",
    " regexp_extract(\"value\",'\" (\\d{3}) ',1).alias(\"estado\"),\n",
    " regexp_extract(\"value\",'\" \\d{3} (.+)',1).cast(\"integer\").alias(\"bytes\")\n",
    ")\n",
    "\n",
    "tabla.show(2,vertical=True,truncate=False)"
   ]
  },
  {
   "cell_type": "code",
   "execution_count": 5,
   "metadata": {},
   "outputs": [
    {
     "name": "stdout",
     "output_type": "stream",
     "text": [
      "+--------------------+----------+\n",
      "|                  ip|sum(bytes)|\n",
      "+--------------------+----------+\n",
      "|        64.242.88.10|   5745035|\n",
      "|          10.0.0.153|   1200145|\n",
      "|cr020r01-3.sac.ov...|    627328|\n",
      "|h24-71-236-129.ca...|    250905|\n",
      "|h24-70-69-74.ca.s...|    150461|\n",
      "|mail.geovariances.fr|    138281|\n",
      "| prxint-sxb3.e-i.net|    129557|\n",
      "|ts05-ip44.hevanet...|    125673|\n",
      "|ts04-ip92.hevanet...|    124082|\n",
      "|pc3-registry-stoc...|    122885|\n",
      "|market-mail.pandu...|     99393|\n",
      "|     2-110.cnc.bc.ca|     87036|\n",
      "|       128.227.88.79|     81785|\n",
      "|      207.195.59.160|     81061|\n",
      "|calcite.rhyolite.com|     75383|\n",
      "|        212.92.37.62|     72981|\n",
      "|p213.54.168.132.t...|     69429|\n",
      "|ip68-228-43-49.tc...|     68712|\n",
      "|crawl24-public.al...|     64972|\n",
      "|    3_343_lt_someone|     62772|\n",
      "+--------------------+----------+\n",
      "only showing top 20 rows\n",
      "\n"
     ]
    }
   ],
   "source": [
    "tabla.groupBy(\"ip\").sum(\"bytes\")\\\n",
    "    .orderBy(\"sum(bytes)\",ascending=False).show()"
   ]
  },
  {
   "cell_type": "code",
   "execution_count": 6,
   "metadata": {},
   "outputs": [],
   "source": [
    "dfUna=tabla.where(tabla.fecha.between(\"2004-03-08 01:00:00\",\n",
    "                                \"2004-03-08 02:00:00\"))"
   ]
  },
  {
   "cell_type": "code",
   "execution_count": 14,
   "metadata": {},
   "outputs": [
    {
     "data": {
      "text/plain": [
       "27"
      ]
     },
     "execution_count": 14,
     "metadata": {},
     "output_type": "execute_result"
    }
   ],
   "source": [
    "tabla.where(tabla.fecha.contains(\"2004-03-08 01\")).count()"
   ]
  },
  {
   "cell_type": "code",
   "execution_count": 22,
   "metadata": {},
   "outputs": [
    {
     "data": {
      "text/plain": [
       "27"
      ]
     },
     "execution_count": 22,
     "metadata": {},
     "output_type": "execute_result"
    }
   ],
   "source": [
    "\n",
    "dfUna.count()"
   ]
  },
  {
   "cell_type": "code",
   "execution_count": 23,
   "metadata": {},
   "outputs": [
    {
     "name": "stdout",
     "output_type": "stream",
     "text": [
      "+----------+\n",
      "|sum(bytes)|\n",
      "+----------+\n",
      "|    352771|\n",
      "+----------+\n",
      "\n"
     ]
    }
   ],
   "source": [
    "from pyspark.sql.functions import sum\n",
    "dfUna.select(sum(\"bytes\")).show()"
   ]
  },
  {
   "cell_type": "code",
   "execution_count": 69,
   "metadata": {},
   "outputs": [
    {
     "name": "stdout",
     "output_type": "stream",
     "text": [
      "(0 rows)\n",
      "\n"
     ]
    },
    {
     "data": {
      "text/plain": [
       "1545"
      ]
     },
     "execution_count": 69,
     "metadata": {},
     "output_type": "execute_result"
    }
   ],
   "source": [
    "from pyspark.sql.functions import split\n",
    "tabla2=tabla.withColumn(\"enlace\",\n",
    "    split(tabla.url,\"[ \\?]\")[1]\n",
    "    ).na.drop(subset=\"enlace\")\n",
    "\n",
    "tabla2.where(tabla2.enlace.isNull()).show(1,vertical=True,truncate=False)\n",
    "tabla2.count()"
   ]
  },
  {
   "cell_type": "code",
   "execution_count": 70,
   "metadata": {},
   "outputs": [
    {
     "name": "stdout",
     "output_type": "stream",
     "text": [
      "-RECORD 0------------------------------------------------------------------------------------------------\n",
      " ip     | 64.242.88.10                                                                                   \n",
      " fecha  | 2004-03-08 01:05:49                                                                            \n",
      " url    | GET /twiki/bin/edit/Main/Double_bounce_sender?topicparent=Main.ConfigurationVariables HTTP/1.1 \n",
      " estado | 401                                                                                            \n",
      " bytes  | 12846                                                                                          \n",
      " enlace | /twiki/bin/edit/Main/Double_bounce_sender                                                      \n",
      "only showing top 1 row\n",
      "\n"
     ]
    }
   ],
   "source": [
    "tabla3=tabla.withColumn(\"enlace\",\n",
    "    regexp_extract(tabla.url,\".* (.*)\\?.*? .*$\",1)\n",
    "    )\n",
    "tabla3.show(1,vertical=True,truncate=False)"
   ]
  },
  {
   "cell_type": "code",
   "execution_count": 110,
   "metadata": {},
   "outputs": [
    {
     "name": "stdout",
     "output_type": "stream",
     "text": [
      "+--------------------------------------------+-----+\n",
      "|enlace                                      |count|\n",
      "+--------------------------------------------+-----+\n",
      "|/twiki/bin/view/Main/WebHome                |49   |\n",
      "|/                                           |47   |\n",
      "|/razor.html                                 |26   |\n",
      "|/twiki/bin/view/Main/SpamAssassinTaggingOnly|18   |\n",
      "|/twiki/bin/view/Main/SpamAssassinAndPostFix |17   |\n",
      "|/twiki/bin/view/Main/SpamAssassinDeleting   |15   |\n",
      "|/dccstats/index.html                        |14   |\n",
      "|/mailman/listinfo/ppwc                      |13   |\n",
      "|/twiki/bin/search/TWiki/SearchResult        |13   |\n",
      "|/twiki/bin/view/Main/DCCAndPostFix          |12   |\n",
      "|/twiki/bin/view/TWiki/TextFormattingRules   |12   |\n",
      "|/SpamAssassin.html                          |12   |\n",
      "|/mailman/admin/ppwc                         |12   |\n",
      "|/twiki/bin/view/Main/PostfixCommands        |11   |\n",
      "|/AmavisNew.html                             |11   |\n",
      "|/mailman/listinfo                           |11   |\n",
      "|/mailman/admin/ppwc/members                 |11   |\n",
      "|/twiki/bin/search/Main/SearchResult         |10   |\n",
      "|/twiki/bin/search/TWiki/                    |9    |\n",
      "|/twiki/bin/view/Main/WebPreferences         |9    |\n",
      "+--------------------------------------------+-----+\n",
      "only showing top 20 rows\n",
      "\n"
     ]
    }
   ],
   "source": [
    "tabla3=tabla2.where(~tabla2.enlace.like(\"%.___\"))\\\n",
    "    .groupBy(\"enlace\").count()\\\n",
    "    .orderBy(\"count\",ascending=False)\n",
    "\n",
    "tabla3.show(truncate=False)"
   ]
  },
  {
   "cell_type": "code",
   "execution_count": 114,
   "metadata": {},
   "outputs": [],
   "source": [
    "tablaP=tabla3.limit(5).toPandas()\n"
   ]
  },
  {
   "cell_type": "code",
   "execution_count": 116,
   "metadata": {},
   "outputs": [
    {
     "data": {
      "text/plain": [
       "<matplotlib.axes._subplots.AxesSubplot at 0x7f550c2d33c8>"
      ]
     },
     "execution_count": 116,
     "metadata": {},
     "output_type": "execute_result"
    },
    {
     "data": {
      "image/png": "[encoded data removed]",
      "text/plain": [
       "<matplotlib.figure.Figure at 0x7f550ebf76d8>"
      ]
     },
     "metadata": {},
     "output_type": "display_data"
    }
   ],
   "source": [
    "tablaP.plot.barh(x=\"enlace\")"
   ]
  },
  {
   "cell_type": "code",
   "execution_count": 117,
   "metadata": {},
   "outputs": [
    {
     "data": {
      "text/plain": [
       "<matplotlib.axes._subplots.AxesSubplot at 0x7f550c229b38>"
      ]
     },
     "execution_count": 117,
     "metadata": {},
     "output_type": "execute_result"
    },
    {
     "data": {
      "image/png": "[encoded data removed]",
      "text/plain": [
       "<matplotlib.figure.Figure at 0x7f550c1f8c50>"
      ]
     },
     "metadata": {},
     "output_type": "display_data"
    }
   ],
   "source": [
    "tablaP.plot.bar(x=\"enlace\")"
   ]
  },
  {
   "cell_type": "code",
   "execution_count": null,
   "metadata": {},
   "outputs": [],
   "source": []
  },
  {
   "cell_type": "code",
   "execution_count": null,
   "metadata": {},
   "outputs": [],
   "source": []
  },
  {
   "cell_type": "code",
   "execution_count": null,
   "metadata": {},
   "outputs": [],
   "source": []
  },
  {
   "cell_type": "code",
   "execution_count": 68,
   "metadata": {},
   "outputs": [
    {
     "data": {
      "text/plain": [
       "(1546, 1407)"
      ]
     },
     "execution_count": 68,
     "metadata": {},
     "output_type": "execute_result"
    }
   ],
   "source": [
    "tabla.count(),tabla.na.drop().count()"
   ]
  },
  {
   "cell_type": "code",
   "execution_count": 70,
   "metadata": {},
   "outputs": [
    {
     "name": "stdout",
     "output_type": "stream",
     "text": [
      "-RECORD 0----------------------\n",
      " ip     | 80-219-148-207.dc... \n",
      " fecha  | 2004-03-08 04:47:36  \n",
      " url    | OPTIONS * HTTP/1.0   \n",
      " estado | 200                  \n",
      " bytes  | null                 \n",
      "-RECORD 1----------------------\n",
      " ip     | 68-174-110-154.ny... \n",
      " fecha  | 2004-03-08 14:38:57  \n",
      " url    | GET /razor.html H... \n",
      " estado | 304                  \n",
      " bytes  | null                 \n",
      "-RECORD 2----------------------\n",
      " ip     | 128.227.88.79        \n",
      " fecha  | 2004-03-08 15:57:46  \n",
      " url    | GET /twiki/pub/TW... \n",
      " estado | 304                  \n",
      " bytes  | null                 \n",
      "-RECORD 3----------------------\n",
      " ip     | 10.0.0.153           \n",
      " fecha  | 2004-03-08 17:32:24  \n",
      " url    | GET / HTTP/1.1       \n",
      " estado | 304                  \n",
      " bytes  | null                 \n",
      "-RECORD 4----------------------\n",
      " ip     | 10.0.0.153           \n",
      " fecha  | 2004-03-08 17:32:27  \n",
      " url    | GET /twiki/pub/TW... \n",
      " estado | 304                  \n",
      " bytes  | null                 \n",
      "-RECORD 5----------------------\n",
      " ip     | 92-moc-6.acn.waw.pl  \n",
      " fecha  | 2004-03-08 17:37:14  \n",
      " url    | GET /twiki/pub/TW... \n",
      " estado | 304                  \n",
      " bytes  | null                 \n",
      "-RECORD 6----------------------\n",
      " ip     | 10.0.0.153           \n",
      " fecha  | 2004-03-08 18:02:29  \n",
      " url    | GET / HTTP/1.1       \n",
      " estado | 304                  \n",
      " bytes  | null                 \n",
      "-RECORD 7----------------------\n",
      " ip     | spot.nnacorp.com     \n",
      " fecha  | 2004-03-08 18:02:54  \n",
      " url    | GET /twiki/pub/TW... \n",
      " estado | 304                  \n",
      " bytes  | null                 \n",
      "-RECORD 8----------------------\n",
      " ip     | 10.0.0.153           \n",
      " fecha  | 2004-03-08 18:18:53  \n",
      " url    | GET / HTTP/1.1       \n",
      " estado | 304                  \n",
      " bytes  | null                 \n",
      "-RECORD 9----------------------\n",
      " ip     | 10.0.0.153           \n",
      " fecha  | 2004-03-08 18:18:56  \n",
      " url    | GET /dccstats/ind... \n",
      " estado | 304                  \n",
      " bytes  | null                 \n",
      "-RECORD 10---------------------\n",
      " ip     | 10.0.0.153           \n",
      " fecha  | 2004-03-08 19:48:02  \n",
      " url    | GET / HTTP/1.1       \n",
      " estado | 304                  \n",
      " bytes  | null                 \n",
      "-RECORD 11---------------------\n",
      " ip     | 10.0.0.153           \n",
      " fecha  | 2004-03-08 19:48:37  \n",
      " url    | GET /dccstats/ind... \n",
      " estado | 304                  \n",
      " bytes  | null                 \n",
      "-RECORD 12---------------------\n",
      " ip     | 128.227.88.79        \n",
      " fecha  | 2004-03-08 20:06:20  \n",
      " url    | GET /twiki/pub/TW... \n",
      " estado | 304                  \n",
      " bytes  | null                 \n",
      "-RECORD 13---------------------\n",
      " ip     | mail.geovariances.fr \n",
      " fecha  | 2004-03-09 14:02:11  \n",
      " url    | GET /twiki/pub/TW... \n",
      " estado | 304                  \n",
      " bytes  | null                 \n",
      "-RECORD 14---------------------\n",
      " ip     | mail.geovariances.fr \n",
      " fecha  | 2004-03-09 14:02:14  \n",
      " url    | GET /twiki/pub/TW... \n",
      " estado | 304                  \n",
      " bytes  | null                 \n",
      "-RECORD 15---------------------\n",
      " ip     | mail.geovariances.fr \n",
      " fecha  | 2004-03-09 14:02:19  \n",
      " url    | GET /twiki/pub/TW... \n",
      " estado | 304                  \n",
      " bytes  | null                 \n",
      "-RECORD 16---------------------\n",
      " ip     | mail.geovariances.fr \n",
      " fecha  | 2004-03-09 14:02:28  \n",
      " url    | GET /twiki/pub/TW... \n",
      " estado | 304                  \n",
      " bytes  | null                 \n",
      "-RECORD 17---------------------\n",
      " ip     | mail.geovariances.fr \n",
      " fecha  | 2004-03-09 14:04:09  \n",
      " url    | GET /twiki/pub/TW... \n",
      " estado | 304                  \n",
      " bytes  | null                 \n",
      "-RECORD 18---------------------\n",
      " ip     | mail.geovariances.fr \n",
      " fecha  | 2004-03-09 14:09:31  \n",
      " url    | GET /twiki/pub/TW... \n",
      " estado | 304                  \n",
      " bytes  | null                 \n",
      "-RECORD 19---------------------\n",
      " ip     | mail.geovariances.fr \n",
      " fecha  | 2004-03-09 14:12:45  \n",
      " url    | GET /twiki/pub/TW... \n",
      " estado | 304                  \n",
      " bytes  | null                 \n",
      "only showing top 20 rows\n",
      "\n"
     ]
    }
   ],
   "source": [
    "tabla.where(tabla.bytes.isNull()).show(vertical=True)"
   ]
  },
  {
   "cell_type": "code",
   "execution_count": null,
   "metadata": {},
   "outputs": [],
   "source": []
  },
  {
   "cell_type": "code",
   "execution_count": null,
   "metadata": {},
   "outputs": [],
   "source": []
  }
 ],
 "metadata": {
  "kernelspec": {
   "display_name": "Python 3",
   "language": "python",
   "name": "python3"
  },
  "language_info": {
   "codemirror_mode": {
    "name": "ipython",
    "version": 3
   },
   "file_extension": ".py",
   "mimetype": "text/x-python",
   "name": "python",
   "nbconvert_exporter": "python",
   "pygments_lexer": "ipython3",
   "version": "3.5.2"
  }
 },
 "nbformat": 4,
 "nbformat_minor": 2
}
