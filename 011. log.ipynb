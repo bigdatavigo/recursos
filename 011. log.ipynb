{
 "cells": [
  {
   "cell_type": "code",
   "execution_count": 2,
   "metadata": {},
   "outputs": [],
   "source": [
    "datos=spark.read.text(\"../Ejemplos python/access_log\")"
   ]
  },
  {
   "cell_type": "code",
   "execution_count": 3,
   "metadata": {},
   "outputs": [
    {
     "name": "stdout",
     "output_type": "stream",
     "text": [
      "root\n",
      " |-- value: string (nullable = true)\n",
      "\n"
     ]
    },
    {
     "data": {
      "text/plain": [
       "(1546, None)"
      ]
     },
     "execution_count": 3,
     "metadata": {},
     "output_type": "execute_result"
    }
   ],
   "source": [
    "datos.count(),datos.printSchema()"
   ]
  },
  {
   "cell_type": "code",
   "execution_count": 5,
   "metadata": {},
   "outputs": [
    {
     "name": "stdout",
     "output_type": "stream",
     "text": [
      "+--------------------------------------------------------------------------------------------------------------------------------------------------------+\n",
      "|value                                                                                                                                                   |\n",
      "+--------------------------------------------------------------------------------------------------------------------------------------------------------+\n",
      "|64.242.88.10 - - [07/Mar/2004:16:05:49 -0800] \"GET /twiki/bin/edit/Main/Double_bounce_sender?topicparent=Main.ConfigurationVariables HTTP/1.1\" 401 12846|\n",
      "|64.242.88.10 - - [07/Mar/2004:16:06:51 -0800] \"GET /twiki/bin/rdiff/TWiki/NewUserTemplate?rev1=1.3&rev2=1.2 HTTP/1.1\" 200 4523                          |\n",
      "|64.242.88.10 - - [07/Mar/2004:16:10:02 -0800] \"GET /mailman/listinfo/hsdivision HTTP/1.1\" 200 6291                                                      |\n",
      "+--------------------------------------------------------------------------------------------------------------------------------------------------------+\n",
      "only showing top 3 rows\n",
      "\n"
     ]
    }
   ],
   "source": [
    "datos.show(3,truncate=False)"
   ]
  },
  {
   "cell_type": "code",
   "execution_count": 6,
   "metadata": {},
   "outputs": [
    {
     "name": "stdout",
     "output_type": "stream",
     "text": [
      "-RECORD 0----------------------\n",
      " ip     | 64.242.88.10         \n",
      " fecha  | 2004-03-08 01:05:49  \n",
      " url    | GET /twiki/bin/ed... \n",
      " estado | 401                  \n",
      " bytes  | 12846                \n",
      "-RECORD 1----------------------\n",
      " ip     | 64.242.88.10         \n",
      " fecha  | 2004-03-08 01:06:51  \n",
      " url    | GET /twiki/bin/rd... \n",
      " estado | 200                  \n",
      " bytes  | 4523                 \n",
      "only showing top 2 rows\n",
      "\n"
     ]
    }
   ],
   "source": [
    "from pyspark.sql.functions import (regexp_extract,\n",
    "                                   to_timestamp)\n",
    "\n",
    "tabla=datos.select(\\\n",
    " regexp_extract(\"value\",\"(.+) - - \",1).alias(\"ip\"),\n",
    " to_timestamp(regexp_extract(\"value\",\"(.+) - - \\[(.+)\\]\",2),\n",
    "             \"dd/MMM/yyyy:HH:mm:ss z\").alias(\"fecha\"),\n",
    " regexp_extract(\"value\",'\"(.+)\"',1).alias(\"url\"),\n",
    " regexp_extract(\"value\",'\" (\\d{3}) ',1).alias(\"estado\"),\n",
    " regexp_extract(\"value\",'\" \\d{3} (.+)',1).cast(\"integer\").alias(\"bytes\")\n",
    ")\n",
    "\n",
    "tabla.show(2,vertical=True)"
   ]
  },
  {
   "cell_type": "code",
   "execution_count": 7,
   "metadata": {},
   "outputs": [
    {
     "name": "stdout",
     "output_type": "stream",
     "text": [
      "+--------------------+----------+\n",
      "|                  ip|sum(bytes)|\n",
      "+--------------------+----------+\n",
      "|        64.242.88.10|   5745035|\n",
      "|          10.0.0.153|   1200145|\n",
      "|cr020r01-3.sac.ov...|    627328|\n",
      "|h24-71-236-129.ca...|    250905|\n",
      "|h24-70-69-74.ca.s...|    150461|\n",
      "|mail.geovariances.fr|    138281|\n",
      "| prxint-sxb3.e-i.net|    129557|\n",
      "|ts05-ip44.hevanet...|    125673|\n",
      "|ts04-ip92.hevanet...|    124082|\n",
      "|pc3-registry-stoc...|    122885|\n",
      "|market-mail.pandu...|     99393|\n",
      "|     2-110.cnc.bc.ca|     87036|\n",
      "|       128.227.88.79|     81785|\n",
      "|      207.195.59.160|     81061|\n",
      "|calcite.rhyolite.com|     75383|\n",
      "|        212.92.37.62|     72981|\n",
      "|p213.54.168.132.t...|     69429|\n",
      "|ip68-228-43-49.tc...|     68712|\n",
      "|crawl24-public.al...|     64972|\n",
      "|    3_343_lt_someone|     62772|\n",
      "+--------------------+----------+\n",
      "only showing top 20 rows\n",
      "\n"
     ]
    }
   ],
   "source": [
    "tabla.groupBy(\"ip\").sum(\"bytes\")\\\n",
    "    .orderBy(\"sum(bytes)\",ascending=False).show()"
   ]
  },
  {
   "cell_type": "code",
   "execution_count": 11,
   "metadata": {},
   "outputs": [
    {
     "name": "stdout",
     "output_type": "stream",
     "text": [
      "+------------+-------------------+--------------------+------+-----+\n",
      "|          ip|              fecha|                 url|estado|bytes|\n",
      "+------------+-------------------+--------------------+------+-----+\n",
      "|64.242.88.10|2004-03-08 01:05:49|GET /twiki/bin/ed...|   401|12846|\n",
      "|64.242.88.10|2004-03-08 01:06:51|GET /twiki/bin/rd...|   200| 4523|\n",
      "|64.242.88.10|2004-03-08 01:10:02|GET /mailman/list...|   200| 6291|\n",
      "|64.242.88.10|2004-03-08 01:11:58|GET /twiki/bin/vi...|   200| 7352|\n",
      "|64.242.88.10|2004-03-08 01:20:55|GET /twiki/bin/vi...|   200| 5253|\n",
      "|64.242.88.10|2004-03-08 01:23:12|GET /twiki/bin/oo...|   200|11382|\n",
      "|64.242.88.10|2004-03-08 01:24:16|GET /twiki/bin/vi...|   200| 4924|\n",
      "|64.242.88.10|2004-03-08 01:29:16|GET /twiki/bin/ed...|   401|12851|\n",
      "|64.242.88.10|2004-03-08 01:30:29|GET /twiki/bin/at...|   401|12851|\n",
      "|64.242.88.10|2004-03-08 01:31:48|GET /twiki/bin/vi...|   200| 3732|\n",
      "|64.242.88.10|2004-03-08 01:32:50|GET /twiki/bin/vi...|   200|40520|\n",
      "|64.242.88.10|2004-03-08 01:33:53|GET /twiki/bin/ed...|   401|12851|\n",
      "|64.242.88.10|2004-03-08 01:35:19|GET /mailman/list...|   200| 6379|\n",
      "|64.242.88.10|2004-03-08 01:36:22|GET /twiki/bin/rd...|   200|46373|\n",
      "|64.242.88.10|2004-03-08 01:37:27|GET /twiki/bin/vi...|   200| 4140|\n",
      "|64.242.88.10|2004-03-08 01:39:24|GET /twiki/bin/vi...|   200| 3853|\n",
      "|64.242.88.10|2004-03-08 01:43:54|GET /twiki/bin/vi...|   200| 3686|\n",
      "|64.242.88.10|2004-03-08 01:45:56|GET /twiki/bin/at...|   401|12846|\n",
      "|64.242.88.10|2004-03-08 01:47:12|GET /robots.txt H...|   200|   68|\n",
      "|64.242.88.10|2004-03-08 01:47:46|GET /twiki/bin/rd...|   200| 5724|\n",
      "+------------+-------------------+--------------------+------+-----+\n",
      "only showing top 20 rows\n",
      "\n"
     ]
    }
   ],
   "source": [
    "tabla.where(tabla.fecha.between(\"2004-03-08 01:00:00\",\n",
    "                                \"2004-03-08 02:00:00\")).show()"
   ]
  },
  {
   "cell_type": "code",
   "execution_count": null,
   "metadata": {},
   "outputs": [],
   "source": []
  },
  {
   "cell_type": "code",
   "execution_count": null,
   "metadata": {},
   "outputs": [],
   "source": []
  },
  {
   "cell_type": "code",
   "execution_count": 68,
   "metadata": {},
   "outputs": [
    {
     "data": {
      "text/plain": [
       "(1546, 1407)"
      ]
     },
     "execution_count": 68,
     "metadata": {},
     "output_type": "execute_result"
    }
   ],
   "source": [
    "tabla.count(),tabla.na.drop().count()"
   ]
  },
  {
   "cell_type": "code",
   "execution_count": 70,
   "metadata": {},
   "outputs": [
    {
     "name": "stdout",
     "output_type": "stream",
     "text": [
      "-RECORD 0----------------------\n",
      " ip     | 80-219-148-207.dc... \n",
      " fecha  | 2004-03-08 04:47:36  \n",
      " url    | OPTIONS * HTTP/1.0   \n",
      " estado | 200                  \n",
      " bytes  | null                 \n",
      "-RECORD 1----------------------\n",
      " ip     | 68-174-110-154.ny... \n",
      " fecha  | 2004-03-08 14:38:57  \n",
      " url    | GET /razor.html H... \n",
      " estado | 304                  \n",
      " bytes  | null                 \n",
      "-RECORD 2----------------------\n",
      " ip     | 128.227.88.79        \n",
      " fecha  | 2004-03-08 15:57:46  \n",
      " url    | GET /twiki/pub/TW... \n",
      " estado | 304                  \n",
      " bytes  | null                 \n",
      "-RECORD 3----------------------\n",
      " ip     | 10.0.0.153           \n",
      " fecha  | 2004-03-08 17:32:24  \n",
      " url    | GET / HTTP/1.1       \n",
      " estado | 304                  \n",
      " bytes  | null                 \n",
      "-RECORD 4----------------------\n",
      " ip     | 10.0.0.153           \n",
      " fecha  | 2004-03-08 17:32:27  \n",
      " url    | GET /twiki/pub/TW... \n",
      " estado | 304                  \n",
      " bytes  | null                 \n",
      "-RECORD 5----------------------\n",
      " ip     | 92-moc-6.acn.waw.pl  \n",
      " fecha  | 2004-03-08 17:37:14  \n",
      " url    | GET /twiki/pub/TW... \n",
      " estado | 304                  \n",
      " bytes  | null                 \n",
      "-RECORD 6----------------------\n",
      " ip     | 10.0.0.153           \n",
      " fecha  | 2004-03-08 18:02:29  \n",
      " url    | GET / HTTP/1.1       \n",
      " estado | 304                  \n",
      " bytes  | null                 \n",
      "-RECORD 7----------------------\n",
      " ip     | spot.nnacorp.com     \n",
      " fecha  | 2004-03-08 18:02:54  \n",
      " url    | GET /twiki/pub/TW... \n",
      " estado | 304                  \n",
      " bytes  | null                 \n",
      "-RECORD 8----------------------\n",
      " ip     | 10.0.0.153           \n",
      " fecha  | 2004-03-08 18:18:53  \n",
      " url    | GET / HTTP/1.1       \n",
      " estado | 304                  \n",
      " bytes  | null                 \n",
      "-RECORD 9----------------------\n",
      " ip     | 10.0.0.153           \n",
      " fecha  | 2004-03-08 18:18:56  \n",
      " url    | GET /dccstats/ind... \n",
      " estado | 304                  \n",
      " bytes  | null                 \n",
      "-RECORD 10---------------------\n",
      " ip     | 10.0.0.153           \n",
      " fecha  | 2004-03-08 19:48:02  \n",
      " url    | GET / HTTP/1.1       \n",
      " estado | 304                  \n",
      " bytes  | null                 \n",
      "-RECORD 11---------------------\n",
      " ip     | 10.0.0.153           \n",
      " fecha  | 2004-03-08 19:48:37  \n",
      " url    | GET /dccstats/ind... \n",
      " estado | 304                  \n",
      " bytes  | null                 \n",
      "-RECORD 12---------------------\n",
      " ip     | 128.227.88.79        \n",
      " fecha  | 2004-03-08 20:06:20  \n",
      " url    | GET /twiki/pub/TW... \n",
      " estado | 304                  \n",
      " bytes  | null                 \n",
      "-RECORD 13---------------------\n",
      " ip     | mail.geovariances.fr \n",
      " fecha  | 2004-03-09 14:02:11  \n",
      " url    | GET /twiki/pub/TW... \n",
      " estado | 304                  \n",
      " bytes  | null                 \n",
      "-RECORD 14---------------------\n",
      " ip     | mail.geovariances.fr \n",
      " fecha  | 2004-03-09 14:02:14  \n",
      " url    | GET /twiki/pub/TW... \n",
      " estado | 304                  \n",
      " bytes  | null                 \n",
      "-RECORD 15---------------------\n",
      " ip     | mail.geovariances.fr \n",
      " fecha  | 2004-03-09 14:02:19  \n",
      " url    | GET /twiki/pub/TW... \n",
      " estado | 304                  \n",
      " bytes  | null                 \n",
      "-RECORD 16---------------------\n",
      " ip     | mail.geovariances.fr \n",
      " fecha  | 2004-03-09 14:02:28  \n",
      " url    | GET /twiki/pub/TW... \n",
      " estado | 304                  \n",
      " bytes  | null                 \n",
      "-RECORD 17---------------------\n",
      " ip     | mail.geovariances.fr \n",
      " fecha  | 2004-03-09 14:04:09  \n",
      " url    | GET /twiki/pub/TW... \n",
      " estado | 304                  \n",
      " bytes  | null                 \n",
      "-RECORD 18---------------------\n",
      " ip     | mail.geovariances.fr \n",
      " fecha  | 2004-03-09 14:09:31  \n",
      " url    | GET /twiki/pub/TW... \n",
      " estado | 304                  \n",
      " bytes  | null                 \n",
      "-RECORD 19---------------------\n",
      " ip     | mail.geovariances.fr \n",
      " fecha  | 2004-03-09 14:12:45  \n",
      " url    | GET /twiki/pub/TW... \n",
      " estado | 304                  \n",
      " bytes  | null                 \n",
      "only showing top 20 rows\n",
      "\n"
     ]
    }
   ],
   "source": [
    "tabla.where(tabla.bytes.isNull()).show(vertical=True)"
   ]
  },
  {
   "cell_type": "code",
   "execution_count": null,
   "metadata": {},
   "outputs": [],
   "source": []
  },
  {
   "cell_type": "code",
   "execution_count": null,
   "metadata": {},
   "outputs": [],
   "source": []
  }
 ],
 "metadata": {
  "kernelspec": {
   "display_name": "Python 3",
   "language": "python",
   "name": "python3"
  },
  "language_info": {
   "codemirror_mode": {
    "name": "ipython",
    "version": 3
   },
   "file_extension": ".py",
   "mimetype": "text/x-python",
   "name": "python",
   "nbconvert_exporter": "python",
   "pygments_lexer": "ipython3",
   "version": "3.5.2"
  }
 },
 "nbformat": 4,
 "nbformat_minor": 2
}
