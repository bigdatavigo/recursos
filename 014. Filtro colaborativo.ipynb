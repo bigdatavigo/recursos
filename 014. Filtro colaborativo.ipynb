{
 "cells": [
  {
   "cell_type": "code",
   "execution_count": 1,
   "metadata": {},
   "outputs": [],
   "source": [
    "datos=spark.read.csv(\"movielens_ratings.csv\",header=True,\n",
    "                    inferSchema=True)"
   ]
  },
  {
   "cell_type": "code",
   "execution_count": 2,
   "metadata": {},
   "outputs": [
    {
     "name": "stdout",
     "output_type": "stream",
     "text": [
      "root\n",
      " |-- movieId: integer (nullable = true)\n",
      " |-- rating: double (nullable = true)\n",
      " |-- userId: integer (nullable = true)\n",
      "\n",
      "+-------+------+------+\n",
      "|movieId|rating|userId|\n",
      "+-------+------+------+\n",
      "|      2|   3.0|     0|\n",
      "|      3|   1.0|     0|\n",
      "+-------+------+------+\n",
      "only showing top 2 rows\n",
      "\n"
     ]
    },
    {
     "data": {
      "text/plain": [
       "(None, None)"
      ]
     },
     "execution_count": 2,
     "metadata": {},
     "output_type": "execute_result"
    }
   ],
   "source": [
    "datos.printSchema(),datos.show(2)"
   ]
  },
  {
   "cell_type": "code",
   "execution_count": 3,
   "metadata": {},
   "outputs": [
    {
     "data": {
      "text/plain": [
       "30"
      ]
     },
     "execution_count": 3,
     "metadata": {},
     "output_type": "execute_result"
    }
   ],
   "source": [
    "datos.select(\"userId\").distinct().count()"
   ]
  },
  {
   "cell_type": "code",
   "execution_count": 4,
   "metadata": {},
   "outputs": [
    {
     "data": {
      "text/plain": [
       "100"
      ]
     },
     "execution_count": 4,
     "metadata": {},
     "output_type": "execute_result"
    }
   ],
   "source": [
    "datos.select(\"movieId\").distinct().count()"
   ]
  },
  {
   "cell_type": "code",
   "execution_count": 5,
   "metadata": {},
   "outputs": [
    {
     "data": {
      "text/plain": [
       "1501"
      ]
     },
     "execution_count": 5,
     "metadata": {},
     "output_type": "execute_result"
    }
   ],
   "source": [
    "datos.count()"
   ]
  },
  {
   "cell_type": "code",
   "execution_count": 6,
   "metadata": {},
   "outputs": [
    {
     "name": "stdout",
     "output_type": "stream",
     "text": [
      "+------+-----+\n",
      "|userId|count|\n",
      "+------+-----+\n",
      "|     6|   57|\n",
      "|    14|   57|\n",
      "|    22|   56|\n",
      "|    11|   56|\n",
      "|     4|   55|\n",
      "|    12|   55|\n",
      "|     7|   54|\n",
      "|     9|   53|\n",
      "|    23|   52|\n",
      "|    24|   52|\n",
      "|    18|   52|\n",
      "|    28|   50|\n",
      "|    26|   49|\n",
      "|     8|   49|\n",
      "|     1|   49|\n",
      "|     5|   49|\n",
      "|     0|   49|\n",
      "|    19|   49|\n",
      "|    21|   48|\n",
      "|    13|   48|\n",
      "+------+-----+\n",
      "only showing top 20 rows\n",
      "\n"
     ]
    }
   ],
   "source": [
    "datos.groupBy(\"userId\").count()\\\n",
    "    .orderBy(\"count\",ascending=False).show()"
   ]
  },
  {
   "cell_type": "code",
   "execution_count": 7,
   "metadata": {},
   "outputs": [
    {
     "name": "stdout",
     "output_type": "stream",
     "text": [
      "+-------+------+------+\n",
      "|movieId|rating|userId|\n",
      "+-------+------+------+\n",
      "|     12|   1.0|    11|\n",
      "+-------+------+------+\n",
      "\n"
     ]
    }
   ],
   "source": [
    "datos.where(\"userId=11 and movieId=12\").show()"
   ]
  },
  {
   "cell_type": "code",
   "execution_count": 8,
   "metadata": {},
   "outputs": [
    {
     "name": "stdout",
     "output_type": "stream",
     "text": [
      "Usuario: 11\n",
      "Película: 12\n",
      "Valoración: 1.0\n"
     ]
    }
   ],
   "source": [
    "a=input(\"Usuario: \")\n",
    "b=input(\"Película: \")\n",
    "res=datos.where(\"userId=\"+a+\" and movieId=\"+b).collect()\n",
    "if res:\n",
    "    print(\"Valoración:\",res[0][\"rating\"])\n",
    "else:\n",
    "    print(\"No existe usuario o película\")\n"
   ]
  },
  {
   "cell_type": "code",
   "execution_count": 9,
   "metadata": {},
   "outputs": [],
   "source": [
    "from pyspark.ml.recommendation import ALS"
   ]
  },
  {
   "cell_type": "code",
   "execution_count": 10,
   "metadata": {},
   "outputs": [],
   "source": [
    "als=ALS(userCol=\"userId\",itemCol=\"movieId\",ratingCol=\"rating\")"
   ]
  },
  {
   "cell_type": "code",
   "execution_count": 11,
   "metadata": {},
   "outputs": [],
   "source": [
    "entrena,evalua=datos.randomSplit([0.8,0.2])"
   ]
  },
  {
   "cell_type": "code",
   "execution_count": 12,
   "metadata": {},
   "outputs": [],
   "source": [
    "modelo=als.fit(entrena)"
   ]
  },
  {
   "cell_type": "code",
   "execution_count": 13,
   "metadata": {},
   "outputs": [],
   "source": [
    "pred=modelo.transform(evalua)"
   ]
  },
  {
   "cell_type": "code",
   "execution_count": 14,
   "metadata": {},
   "outputs": [
    {
     "name": "stdout",
     "output_type": "stream",
     "text": [
      "+-------+------+------+-----------+\n",
      "|movieId|rating|userId| prediction|\n",
      "+-------+------+------+-----------+\n",
      "|     31|   1.0|    13|  1.2940367|\n",
      "|     31|   2.0|    25|   2.317525|\n",
      "|     31|   1.0|    24|  1.8584934|\n",
      "|     85|   2.0|    20|  1.9956895|\n",
      "|     85|   1.0|     5|  1.6947737|\n",
      "|     65|   1.0|    28| 0.80727684|\n",
      "|     65|   1.0|    16|  0.3609742|\n",
      "|     65|   2.0|    15|  1.4708514|\n",
      "|     53|   1.0|     6|  2.5968661|\n",
      "|     53|   1.0|    25|-0.12351179|\n",
      "|     53|   5.0|    21|  2.8997996|\n",
      "|     53|   3.0|    14|  2.6242466|\n",
      "|     78|   1.0|    22|   1.241158|\n",
      "|     78|   1.0|     1| 0.79901856|\n",
      "|     78|   1.0|    20| 0.92646587|\n",
      "|     78|   1.0|    24|  0.8610881|\n",
      "|     34|   1.0|     0| 0.81533104|\n",
      "|     81|   1.0|     1|  1.0292356|\n",
      "|     81|   1.0|    16| 0.71667826|\n",
      "|     81|   2.0|     5|  1.7917476|\n",
      "+-------+------+------+-----------+\n",
      "only showing top 20 rows\n",
      "\n"
     ]
    }
   ],
   "source": [
    "pred.show()"
   ]
  },
  {
   "cell_type": "code",
   "execution_count": 15,
   "metadata": {},
   "outputs": [
    {
     "name": "stdout",
     "output_type": "stream",
     "text": [
      "+-------+------------------+------------------+\n",
      "|summary|            rating|        prediction|\n",
      "+-------+------------------+------------------+\n",
      "|  count|               292|               292|\n",
      "|   mean|1.8595890410958904| 1.548519430860673|\n",
      "| stddev|1.1858894767856605|0.7534991564776243|\n",
      "|    min|               1.0|       -0.46960938|\n",
      "|    max|               5.0|         3.9362803|\n",
      "+-------+------------------+------------------+\n",
      "\n"
     ]
    }
   ],
   "source": [
    "pred.describe(\"rating\",\"prediction\").show()"
   ]
  },
  {
   "cell_type": "code",
   "execution_count": 16,
   "metadata": {},
   "outputs": [],
   "source": [
    "from pyspark.ml.evaluation import RegressionEvaluator"
   ]
  },
  {
   "cell_type": "code",
   "execution_count": 17,
   "metadata": {},
   "outputs": [],
   "source": [
    "evaluador=RegressionEvaluator(labelCol=\"rating\")"
   ]
  },
  {
   "cell_type": "code",
   "execution_count": 18,
   "metadata": {},
   "outputs": [
    {
     "data": {
      "text/plain": [
       "1.0342004140287324"
      ]
     },
     "execution_count": 18,
     "metadata": {},
     "output_type": "execute_result"
    }
   ],
   "source": [
    "evaluador.evaluate(pred)"
   ]
  },
  {
   "cell_type": "code",
   "execution_count": 19,
   "metadata": {},
   "outputs": [],
   "source": [
    "evaluador2=RegressionEvaluator(labelCol=\"rating\",metricName=\"r2\")"
   ]
  },
  {
   "cell_type": "code",
   "execution_count": 20,
   "metadata": {},
   "outputs": [
    {
     "data": {
      "text/plain": [
       "0.23684835184306396"
      ]
     },
     "execution_count": 20,
     "metadata": {},
     "output_type": "execute_result"
    }
   ],
   "source": [
    "evaluador2.evaluate(pred)"
   ]
  },
  {
   "cell_type": "code",
   "execution_count": 21,
   "metadata": {},
   "outputs": [
    {
     "data": {
      "text/plain": [
       "0.3058034355530309"
      ]
     },
     "execution_count": 21,
     "metadata": {},
     "output_type": "execute_result"
    }
   ],
   "source": [
    "evaluador2.evaluate(pred.withColumn(\"prediction\",pred.prediction+0.3))"
   ]
  },
  {
   "cell_type": "code",
   "execution_count": 22,
   "metadata": {},
   "outputs": [],
   "source": [
    "modeloOk=als.fit(datos)"
   ]
  },
  {
   "cell_type": "code",
   "execution_count": 23,
   "metadata": {},
   "outputs": [
    {
     "name": "stdout",
     "output_type": "stream",
     "text": [
      "+-------+---------------------------------------------------------------------------------------------------------------------------------------------------------------------------+\n",
      "|movieId|recommendations                                                                                                                                                            |\n",
      "+-------+---------------------------------------------------------------------------------------------------------------------------------------------------------------------------+\n",
      "|31     |[[12, 2.652423], [8, 2.5721335], [6, 2.4888673], [7, 2.4773223], [14, 2.3516285], [25, 2.2611465], [23, 2.082271], [21, 1.9511954], [9, 1.9420462], [16, 1.8493192]]       |\n",
      "|85     |[[16, 4.089936], [8, 3.782813], [14, 3.7698863], [24, 3.47327], [7, 3.281516], [6, 3.1287875], [21, 2.7705276], [1, 2.109042], [22, 2.030056], [20, 2.0213199]]            |\n",
      "|65     |[[23, 3.9449732], [12, 3.7246382], [11, 3.411], [9, 2.801858], [29, 2.741892], [17, 2.5520437], [27, 2.3042507], [5, 2.2631948], [26, 1.8900344], [15, 1.7746755]]         |\n",
      "|53     |[[8, 4.0028763], [21, 3.9834704], [22, 3.6276863], [4, 3.4116392], [14, 3.271259], [24, 3.1837878], [13, 2.6859486], [20, 2.602737], [2, 2.317729], [3, 2.2780497]]        |\n",
      "|78     |[[22, 1.1578393], [26, 1.1227571], [2, 1.034107], [23, 1.0290205], [11, 1.0036132], [21, 0.98937166], [24, 0.98470724], [12, 0.98252255], [17, 0.98094136], [8, 0.9605478]]|\n",
      "|34     |[[2, 3.417007], [11, 2.72174], [27, 2.5855222], [18, 2.5759885], [25, 2.3894446], [3, 2.2962215], [26, 2.0825493], [13, 2.0306427], [12, 1.9720746], [22, 1.8556721]]      |\n",
      "|81     |[[28, 3.8866546], [11, 3.4106774], [2, 3.0440862], [10, 2.6506543], [26, 2.618631], [18, 2.583544], [23, 2.3029885], [27, 2.3017309], [29, 2.0538666], [0, 2.0425267]]     |\n",
      "|28     |[[18, 3.8714817], [1, 2.2661908], [26, 2.0302196], [15, 1.7892388], [25, 1.6749921], [28, 1.5178006], [7, 1.4492822], [22, 1.4443363], [5, 1.4359838], [29, 1.4314699]]    |\n",
      "|76     |[[14, 4.0101533], [8, 3.5365047], [21, 3.115532], [24, 3.031157], [7, 2.727907], [18, 2.3769007], [16, 2.3566253], [6, 2.3509364], [22, 2.298993], [3, 2.2824962]]         |\n",
      "|26     |[[28, 2.1875873], [15, 2.032541], [0, 1.952618], [12, 1.9469529], [25, 1.9194604], [10, 1.8862205], [1, 1.5109165], [8, 1.4996989], [17, 1.4878289], [5, 1.3458152]]       |\n",
      "|27     |[[11, 4.6583085], [23, 4.0819993], [12, 3.9696445], [29, 2.958579], [27, 2.771615], [17, 2.6013188], [9, 2.456519], [24, 2.4479961], [5, 2.0759783], [25, 1.9148775]]      |\n",
      "|44     |[[18, 3.08761], [11, 2.4712253], [2, 2.197005], [27, 2.115496], [25, 2.0444937], [12, 1.7978013], [15, 1.5695871], [29, 1.5640783], [23, 1.5290807], [13, 1.3635901]]      |\n",
      "|12     |[[28, 3.5441902], [2, 2.8445318], [10, 2.7455184], [0, 2.3201654], [25, 2.1756892], [18, 1.93275], [7, 1.8569783], [6, 1.8082861], [12, 1.5737042], [26, 1.5629213]]       |\n",
      "|91     |[[12, 2.9673157], [28, 2.4699512], [23, 2.3352036], [25, 2.2958052], [17, 2.2786057], [10, 2.2517185], [15, 2.2270954], [2, 2.0300012], [29, 1.9848439], [0, 1.9746827]]   |\n",
      "|22     |[[26, 4.6604505], [22, 4.2901444], [20, 3.7188187], [19, 3.389442], [16, 3.34119], [17, 3.3016665], [3, 3.060102], [1, 2.6379557], [29, 2.5249255], [24, 2.4300864]]       |\n",
      "|93     |[[2, 4.548379], [8, 3.2665591], [21, 3.2442975], [13, 2.9901652], [14, 2.7993243], [4, 2.7002451], [18, 2.4007576], [7, 2.305899], [24, 2.1509395], [9, 2.1416907]]        |\n",
      "|47     |[[7, 3.2008622], [6, 3.1271667], [25, 2.939529], [16, 2.7236586], [8, 2.6735206], [14, 2.491183], [12, 2.1752727], [15, 1.8624264], [21, 1.6428216], [10, 1.3253188]]      |\n",
      "|1      |[[12, 2.854593], [25, 2.6483128], [15, 2.5801408], [17, 1.856987], [23, 1.8419555], [29, 1.7140443], [27, 1.5075775], [8, 1.2646111], [0, 1.2622504], [5, 1.2537929]]      |\n",
      "|52     |[[14, 4.6273093], [8, 4.577206], [24, 4.3870425], [21, 4.2800417], [4, 3.2176683], [22, 3.2032661], [16, 2.7550244], [6, 2.60154], [7, 2.5866206], [3, 2.524058]]          |\n",
      "|13     |[[23, 3.5844574], [11, 3.5766122], [12, 2.8461368], [9, 2.8255537], [29, 2.615555], [26, 2.551795], [5, 2.5137737], [17, 2.274813], [27, 2.1306965], [28, 2.063564]]       |\n",
      "+-------+---------------------------------------------------------------------------------------------------------------------------------------------------------------------------+\n",
      "only showing top 20 rows\n",
      "\n"
     ]
    }
   ],
   "source": [
    "modeloOk.recommendForAllItems(10).show(truncate=False)"
   ]
  },
  {
   "cell_type": "code",
   "execution_count": 24,
   "metadata": {},
   "outputs": [
    {
     "name": "stdout",
     "output_type": "stream",
     "text": [
      "+------+---------------------------------------------------+\n",
      "|userId|recommendations                                    |\n",
      "+------+---------------------------------------------------+\n",
      "|28    |[[92, 4.487644], [81, 3.8866546], [2, 3.6120398]]  |\n",
      "|26    |[[51, 4.9111547], [22, 4.6604505], [88, 4.45104]]  |\n",
      "|27    |[[32, 3.160455], [18, 3.1571398], [23, 3.000766]]  |\n",
      "|12    |[[46, 5.599124], [55, 4.51141], [17, 4.0952916]]   |\n",
      "|22    |[[75, 4.5750003], [88, 4.3966336], [74, 4.3653593]]|\n",
      "|1     |[[68, 2.9469347], [62, 2.868292], [22, 2.6379557]] |\n",
      "|13    |[[93, 2.9901652], [74, 2.7195876], [53, 2.6859486]]|\n",
      "|6     |[[25, 3.7054513], [29, 3.2215073], [85, 3.1287875]]|\n",
      "|16    |[[90, 4.3030324], [85, 4.089936], [51, 3.7520874]] |\n",
      "|3     |[[51, 4.114564], [75, 3.9761112], [30, 3.700545]]  |\n",
      "|20    |[[22, 3.7188187], [94, 3.2269902], [68, 3.0894015]]|\n",
      "|5     |[[46, 3.7487206], [55, 3.619256], [90, 3.6158292]] |\n",
      "|19    |[[22, 3.389442], [94, 3.3387182], [90, 3.1782134]] |\n",
      "|15    |[[46, 3.8619726], [1, 2.5801408], [55, 2.5599594]] |\n",
      "|17    |[[46, 4.912174], [90, 4.6436906], [17, 4.1601706]] |\n",
      "|9     |[[49, 3.9812315], [32, 3.8265193], [7, 3.5319304]] |\n",
      "|4     |[[53, 3.4116392], [29, 3.304315], [2, 3.2882514]]  |\n",
      "|8     |[[29, 4.7430654], [52, 4.577206], [53, 4.0028763]] |\n",
      "|23    |[[46, 5.0112557], [32, 4.784652], [55, 4.7020626]] |\n",
      "|7     |[[25, 3.8311853], [29, 3.3746276], [85, 3.281516]] |\n",
      "+------+---------------------------------------------------+\n",
      "only showing top 20 rows\n",
      "\n"
     ]
    }
   ],
   "source": [
    "modeloOk.recommendForAllUsers(3).show(truncate=False)"
   ]
  },
  {
   "cell_type": "code",
   "execution_count": 33,
   "metadata": {},
   "outputs": [],
   "source": [
    "nuevo=spark.createDataFrame([(12,0.0,110)],datos.schema)"
   ]
  },
  {
   "cell_type": "code",
   "execution_count": 34,
   "metadata": {},
   "outputs": [
    {
     "name": "stdout",
     "output_type": "stream",
     "text": [
      "+-------+------+------+----------+\n",
      "|movieId|rating|userId|prediction|\n",
      "+-------+------+------+----------+\n",
      "|     12|   0.0|   110|       NaN|\n",
      "+-------+------+------+----------+\n",
      "\n"
     ]
    }
   ],
   "source": [
    "modeloOk.transform(nuevo).show()"
   ]
  }
 ],
 "metadata": {
  "kernelspec": {
   "display_name": "Python 3",
   "language": "python",
   "name": "python3"
  },
  "language_info": {
   "codemirror_mode": {
    "name": "ipython",
    "version": 3
   },
   "file_extension": ".py",
   "mimetype": "text/x-python",
   "name": "python",
   "nbconvert_exporter": "python",
   "pygments_lexer": "ipython3",
   "version": "3.5.2"
  }
 },
 "nbformat": 4,
 "nbformat_minor": 2
}
