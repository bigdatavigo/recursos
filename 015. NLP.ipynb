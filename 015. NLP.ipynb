{
 "cells": [
  {
   "cell_type": "code",
   "execution_count": 74,
   "metadata": {},
   "outputs": [],
   "source": [
    "texto=spark.createDataFrame(\n",
    "    [\n",
    "        (0,\"Hola, quiero aprender algo de Spark\"),\n",
    "        (1,\"Me gustaría aprender algo de Java\"),\n",
    "        (2,\"suma,Resta,multiplicación\")\n",
    "    ],\n",
    "    [\"id\",\"frase\"]\n",
    ")"
   ]
  },
  {
   "cell_type": "code",
   "execution_count": 75,
   "metadata": {},
   "outputs": [
    {
     "name": "stdout",
     "output_type": "stream",
     "text": [
      "+---+--------------------+\n",
      "| id|               frase|\n",
      "+---+--------------------+\n",
      "|  0|Hola, quiero apre...|\n",
      "|  1|Me gustaría apren...|\n",
      "|  2|suma,Resta,multip...|\n",
      "+---+--------------------+\n",
      "\n"
     ]
    }
   ],
   "source": [
    "texto.show()"
   ]
  },
  {
   "cell_type": "code",
   "execution_count": 76,
   "metadata": {},
   "outputs": [],
   "source": [
    "from pyspark.ml.feature import Tokenizer,RegexTokenizer"
   ]
  },
  {
   "cell_type": "code",
   "execution_count": 77,
   "metadata": {},
   "outputs": [],
   "source": [
    "tokenizer=Tokenizer(inputCol=\"frase\",outputCol=\"palabras\")"
   ]
  },
  {
   "cell_type": "code",
   "execution_count": 78,
   "metadata": {},
   "outputs": [],
   "source": [
    "datosT=tokenizer.transform(texto)"
   ]
  },
  {
   "cell_type": "code",
   "execution_count": 79,
   "metadata": {},
   "outputs": [
    {
     "name": "stdout",
     "output_type": "stream",
     "text": [
      "-RECORD 0----------------------------------------------\n",
      " id       | 0                                          \n",
      " frase    | Hola, quiero aprender algo de Spark        \n",
      " palabras | [hola,, quiero, aprender, algo, de, spark] \n",
      "-RECORD 1----------------------------------------------\n",
      " id       | 1                                          \n",
      " frase    | Me gustaría aprender algo de Java          \n",
      " palabras | [me, gustaría, aprender, algo, de, java]   \n",
      "-RECORD 2----------------------------------------------\n",
      " id       | 2                                          \n",
      " frase    | suma,Resta,multiplicación                  \n",
      " palabras | [suma,resta,multiplicación]                \n",
      "\n"
     ]
    }
   ],
   "source": [
    "datosT.show(truncate=False,vertical=True)"
   ]
  },
  {
   "cell_type": "code",
   "execution_count": 80,
   "metadata": {},
   "outputs": [
    {
     "data": {
      "text/plain": [
       "[Row(id=0, frase='Hola, quiero aprender algo de Spark', palabras=['hola,', 'quiero', 'aprender', 'algo', 'de', 'spark']),\n",
       " Row(id=1, frase='Me gustaría aprender algo de Java', palabras=['me', 'gustaría', 'aprender', 'algo', 'de', 'java']),\n",
       " Row(id=2, frase='suma,Resta,multiplicación', palabras=['suma,resta,multiplicación'])]"
      ]
     },
     "execution_count": 80,
     "metadata": {},
     "output_type": "execute_result"
    }
   ],
   "source": [
    "datosT.collect()"
   ]
  },
  {
   "cell_type": "code",
   "execution_count": 81,
   "metadata": {},
   "outputs": [],
   "source": [
    "reTokenizer=RegexTokenizer(inputCol=\"frase\",outputCol=\"palabras\",pattern=\"[\\s\\,\\-\\_\\.\\;\\(\\)]+\")"
   ]
  },
  {
   "cell_type": "code",
   "execution_count": 82,
   "metadata": {},
   "outputs": [],
   "source": [
    "datosR=reTokenizer.transform(texto)"
   ]
  },
  {
   "cell_type": "code",
   "execution_count": 83,
   "metadata": {},
   "outputs": [
    {
     "name": "stdout",
     "output_type": "stream",
     "text": [
      "+---+--------------------+--------------------+\n",
      "| id|               frase|            palabras|\n",
      "+---+--------------------+--------------------+\n",
      "|  0|Hola, quiero apre...|[hola, quiero, ap...|\n",
      "|  1|Me gustaría apren...|[me, gustaría, ap...|\n",
      "|  2|suma,Resta,multip...|[suma, resta, mul...|\n",
      "+---+--------------------+--------------------+\n",
      "\n"
     ]
    }
   ],
   "source": [
    "datosR.show()"
   ]
  },
  {
   "cell_type": "code",
   "execution_count": 84,
   "metadata": {},
   "outputs": [],
   "source": [
    "from pyspark.ml.feature import StopWordsRemover"
   ]
  },
  {
   "cell_type": "code",
   "execution_count": 85,
   "metadata": {},
   "outputs": [],
   "source": [
    "swRemover=StopWordsRemover(inputCol=\"palabras\",outputCol=\"filtradas\")"
   ]
  },
  {
   "cell_type": "code",
   "execution_count": 86,
   "metadata": {},
   "outputs": [],
   "source": [
    "palabrasBloqueadas=swRemover.loadDefaultStopWords(\"spanish\")+[\"coche\",\"resta\"]"
   ]
  },
  {
   "cell_type": "code",
   "execution_count": 87,
   "metadata": {},
   "outputs": [
    {
     "data": {
      "text/plain": [
       "StopWordsRemover_44a78280984426f096f5"
      ]
     },
     "execution_count": 87,
     "metadata": {},
     "output_type": "execute_result"
    }
   ],
   "source": [
    "swRemover.setStopWords(palabrasBloqueadas)"
   ]
  },
  {
   "cell_type": "code",
   "execution_count": 88,
   "metadata": {},
   "outputs": [
    {
     "name": "stdout",
     "output_type": "stream",
     "text": [
      "-RECORD 0----------------------------------------------\n",
      " id        | 0                                         \n",
      " frase     | Hola, quiero aprender algo de Spark       \n",
      " palabras  | [hola, quiero, aprender, algo, de, spark] \n",
      " filtradas | [hola, quiero, aprender, spark]           \n",
      "-RECORD 1----------------------------------------------\n",
      " id        | 1                                         \n",
      " frase     | Me gustaría aprender algo de Java         \n",
      " palabras  | [me, gustaría, aprender, algo, de, java]  \n",
      " filtradas | [gustaría, aprender, java]                \n",
      "-RECORD 2----------------------------------------------\n",
      " id        | 2                                         \n",
      " frase     | suma,Resta,multiplicación                 \n",
      " palabras  | [suma, resta, multiplicación]             \n",
      " filtradas | [suma, multiplicación]                    \n",
      "\n"
     ]
    }
   ],
   "source": [
    "filtrado=swRemover.transform(datosR)\n",
    "filtrado.show(vertical=True,truncate=False)"
   ]
  },
  {
   "cell_type": "code",
   "execution_count": 89,
   "metadata": {},
   "outputs": [],
   "source": [
    "from pyspark.ml.feature import NGram"
   ]
  },
  {
   "cell_type": "code",
   "execution_count": 90,
   "metadata": {},
   "outputs": [],
   "source": [
    "ngram=NGram(n=2,inputCol=\"filtradas\",outputCol=\"ngram\")"
   ]
  },
  {
   "cell_type": "code",
   "execution_count": 91,
   "metadata": {},
   "outputs": [],
   "source": [
    "datosN=ngram.transform(filtrado)"
   ]
  },
  {
   "cell_type": "code",
   "execution_count": 92,
   "metadata": {},
   "outputs": [
    {
     "name": "stdout",
     "output_type": "stream",
     "text": [
      "-RECORD 0---------------------------------------------------\n",
      " id        | 0                                              \n",
      " frase     | Hola, quiero aprender algo de Spark            \n",
      " palabras  | [hola, quiero, aprender, algo, de, spark]      \n",
      " filtradas | [hola, quiero, aprender, spark]                \n",
      " ngram     | [hola quiero, quiero aprender, aprender spark] \n",
      "-RECORD 1---------------------------------------------------\n",
      " id        | 1                                              \n",
      " frase     | Me gustaría aprender algo de Java              \n",
      " palabras  | [me, gustaría, aprender, algo, de, java]       \n",
      " filtradas | [gustaría, aprender, java]                     \n",
      " ngram     | [gustaría aprender, aprender java]             \n",
      "-RECORD 2---------------------------------------------------\n",
      " id        | 2                                              \n",
      " frase     | suma,Resta,multiplicación                      \n",
      " palabras  | [suma, resta, multiplicación]                  \n",
      " filtradas | [suma, multiplicación]                         \n",
      " ngram     | [suma multiplicación]                          \n",
      "\n"
     ]
    }
   ],
   "source": [
    "datosN.show(vertical=True,truncate=False)"
   ]
  },
  {
   "cell_type": "code",
   "execution_count": 93,
   "metadata": {},
   "outputs": [],
   "source": [
    "from pyspark.ml.feature import HashingTF"
   ]
  },
  {
   "cell_type": "code",
   "execution_count": 106,
   "metadata": {},
   "outputs": [],
   "source": [
    "hTF=HashingTF(numFeatures=5000,inputCol=\"filtradas\",outputCol=\"features\")"
   ]
  },
  {
   "cell_type": "code",
   "execution_count": 107,
   "metadata": {},
   "outputs": [],
   "source": [
    "datosH=hTF.transform(filtrado)"
   ]
  },
  {
   "cell_type": "code",
   "execution_count": 108,
   "metadata": {},
   "outputs": [
    {
     "name": "stdout",
     "output_type": "stream",
     "text": [
      "-RECORD 0---------------------------------------------------\n",
      " id        | 0                                              \n",
      " frase     | Hola, quiero aprender algo de Spark            \n",
      " palabras  | [hola, quiero, aprender, algo, de, spark]      \n",
      " filtradas | [hola, quiero, aprender, spark]                \n",
      " features  | (5000,[2139,2596,2850,3105],[1.0,1.0,1.0,1.0]) \n",
      "-RECORD 1---------------------------------------------------\n",
      " id        | 1                                              \n",
      " frase     | Me gustaría aprender algo de Java              \n",
      " palabras  | [me, gustaría, aprender, algo, de, java]       \n",
      " filtradas | [gustaría, aprender, java]                     \n",
      " features  | (5000,[1407,2850,3967],[1.0,1.0,1.0])          \n",
      "-RECORD 2---------------------------------------------------\n",
      " id        | 2                                              \n",
      " frase     | suma,Resta,multiplicación                      \n",
      " palabras  | [suma, resta, multiplicación]                  \n",
      " filtradas | [suma, multiplicación]                         \n",
      " features  | (5000,[300,4491],[1.0,1.0])                    \n",
      "\n"
     ]
    }
   ],
   "source": [
    "datosH.show(vertical=True,truncate=False)"
   ]
  },
  {
   "cell_type": "code",
   "execution_count": null,
   "metadata": {},
   "outputs": [],
   "source": []
  },
  {
   "cell_type": "code",
   "execution_count": null,
   "metadata": {},
   "outputs": [],
   "source": []
  },
  {
   "cell_type": "code",
   "execution_count": null,
   "metadata": {},
   "outputs": [],
   "source": []
  }
 ],
 "metadata": {
  "kernelspec": {
   "display_name": "Python 3",
   "language": "python",
   "name": "python3"
  },
  "language_info": {
   "codemirror_mode": {
    "name": "ipython",
    "version": 3
   },
   "file_extension": ".py",
   "mimetype": "text/x-python",
   "name": "python",
   "nbconvert_exporter": "python",
   "pygments_lexer": "ipython3",
   "version": "3.5.2"
  }
 },
 "nbformat": 4,
 "nbformat_minor": 2
}
