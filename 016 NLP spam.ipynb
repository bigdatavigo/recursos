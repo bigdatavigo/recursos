{
 "cells": [
  {
   "cell_type": "code",
   "execution_count": 6,
   "metadata": {},
   "outputs": [],
   "source": [
    "datos=spark.read.csv(\"SMSSpamCollection\",inferSchema=True,sep=\"\\t\")"
   ]
  },
  {
   "cell_type": "code",
   "execution_count": 8,
   "metadata": {},
   "outputs": [
    {
     "name": "stdout",
     "output_type": "stream",
     "text": [
      "+----+----------------------------------------------------------------------------------------------------------------------------------------------------------------------------------------------------+\n",
      "|_c0 |_c1                                                                                                                                                                                                 |\n",
      "+----+----------------------------------------------------------------------------------------------------------------------------------------------------------------------------------------------------+\n",
      "|ham |Go until jurong point, crazy.. Available only in bugis n great world la e buffet... Cine there got amore wat...                                                                                     |\n",
      "|ham |Ok lar... Joking wif u oni...                                                                                                                                                                       |\n",
      "|spam|Free entry in 2 a wkly comp to win FA Cup final tkts 21st May 2005. Text FA to 87121 to receive entry question(std txt rate)T&C's apply 08452810075over18's                                         |\n",
      "|ham |U dun say so early hor... U c already then say...                                                                                                                                                   |\n",
      "|ham |Nah I don't think he goes to usf, he lives around here though                                                                                                                                       |\n",
      "|spam|FreeMsg Hey there darling it's been 3 week's now and no word back! I'd like some fun you up for it still? Tb ok! XxX std chgs to send, £1.50 to rcv                                                 |\n",
      "|ham |Even my brother is not like to speak with me. They treat me like aids patent.                                                                                                                       |\n",
      "|ham |As per your request 'Melle Melle (Oru Minnaminunginte Nurungu Vettam)' has been set as your callertune for all Callers. Press *9 to copy your friends Callertune                                    |\n",
      "|spam|WINNER!! As a valued network customer you have been selected to receivea £900 prize reward! To claim call 09061701461. Claim code KL341. Valid 12 hours only.                                       |\n",
      "|spam|Had your mobile 11 months or more? U R entitled to Update to the latest colour mobiles with camera for Free! Call The Mobile Update Co FREE on 08002986030                                          |\n",
      "|ham |I'm gonna be home soon and i don't want to talk about this stuff anymore tonight, k? I've cried enough today.                                                                                       |\n",
      "|spam|SIX chances to win CASH! From 100 to 20,000 pounds txt> CSH11 and send to 87575. Cost 150p/day, 6days, 16+ TsandCs apply Reply HL 4 info                                                            |\n",
      "|spam|URGENT! You have won a 1 week FREE membership in our £100,000 Prize Jackpot! Txt the word: CLAIM to No: 81010 T&C www.dbuk.net LCCLTD POBOX 4403LDNW1A7RW18                                         |\n",
      "|ham |I've been searching for the right words to thank you for this breather. I promise i wont take your help for granted and will fulfil my promise. You have been wonderful and a blessing at all times.|\n",
      "|ham |I HAVE A DATE ON SUNDAY WITH WILL!!                                                                                                                                                                 |\n",
      "|spam|XXXMobileMovieClub: To use your credit, click the WAP link in the next txt message or click here>> http://wap. xxxmobilemovieclub.com?n=QJKGIGHJJGCBL                                               |\n",
      "|ham |Oh k...i'm watching here:)                                                                                                                                                                          |\n",
      "|ham |Eh u remember how 2 spell his name... Yes i did. He v naughty make until i v wet.                                                                                                                   |\n",
      "|ham |Fine if thats the way u feel. Thats the way its gota b                                                                                                                                            |\n",
      "|spam|England v Macedonia - dont miss the goals/team news. Txt ur national team to 87077 eg ENGLAND to 87077 Try:WALES, SCOTLAND 4txt/ú1.20 POBOXox36504W45WQ 16+                                         |\n",
      "+----+----------------------------------------------------------------------------------------------------------------------------------------------------------------------------------------------------+\n",
      "only showing top 20 rows\n",
      "\n"
     ]
    }
   ],
   "source": [
    "datos.show(truncate=False)"
   ]
  },
  {
   "cell_type": "code",
   "execution_count": 10,
   "metadata": {},
   "outputs": [],
   "source": [
    "from pyspark.sql.functions import length\n",
    "datos2=datos.withColumn(\"longitud\",length(datos[\"_c1\"]))"
   ]
  },
  {
   "cell_type": "code",
   "execution_count": 24,
   "metadata": {},
   "outputs": [
    {
     "name": "stdout",
     "output_type": "stream",
     "text": [
      "+----+-----------------+\n",
      "| _c0|    avg(longitud)|\n",
      "+----+-----------------+\n",
      "| ham|71.45431945307645|\n",
      "|spam|138.6706827309237|\n",
      "+----+-----------------+\n",
      "\n"
     ]
    }
   ],
   "source": [
    "datos2.groupBy(\"_c0\").mean(\"longitud\").show()"
   ]
  },
  {
   "cell_type": "code",
   "execution_count": 25,
   "metadata": {},
   "outputs": [
    {
     "name": "stdout",
     "output_type": "stream",
     "text": [
      "+----+-------------+\n",
      "| _c0|max(longitud)|\n",
      "+----+-------------+\n",
      "| ham|          910|\n",
      "|spam|          223|\n",
      "+----+-------------+\n",
      "\n"
     ]
    }
   ],
   "source": [
    "datos2.groupBy(\"_c0\").max(\"longitud\").show()"
   ]
  },
  {
   "cell_type": "code",
   "execution_count": 26,
   "metadata": {},
   "outputs": [
    {
     "name": "stdout",
     "output_type": "stream",
     "text": [
      "+----+-------------+\n",
      "| _c0|min(longitud)|\n",
      "+----+-------------+\n",
      "| ham|            2|\n",
      "|spam|           13|\n",
      "+----+-------------+\n",
      "\n"
     ]
    }
   ],
   "source": [
    "datos2.groupBy(\"_c0\").min(\"longitud\").show()"
   ]
  },
  {
   "cell_type": "code",
   "execution_count": 28,
   "metadata": {},
   "outputs": [],
   "source": [
    "from pyspark.ml.feature import Tokenizer,StopWordsRemover,StringIndexer"
   ]
  },
  {
   "cell_type": "code",
   "execution_count": 50,
   "metadata": {},
   "outputs": [],
   "source": [
    "datosI=StringIndexer(inputCol=\"_c0\",outputCol=\"label\").fit(datos2).transform(datos2)\n",
    "datosT=Tokenizer(inputCol=\"_c1\",outputCol=\"palabras\").transform(datosI)\n",
    "datosS=StopWordsRemover(inputCol=\"palabras\",outputCol=\"filtradas\").transform(datosT)\\\n",
    "    .drop(\"palabras\",\"_c1\")"
   ]
  },
  {
   "cell_type": "code",
   "execution_count": 51,
   "metadata": {},
   "outputs": [
    {
     "name": "stdout",
     "output_type": "stream",
     "text": [
      "+----+--------+-----+--------------------+\n",
      "| _c0|longitud|label|           filtradas|\n",
      "+----+--------+-----+--------------------+\n",
      "| ham|     111|  0.0|[go, jurong, poin...|\n",
      "| ham|      29|  0.0|[ok, lar..., joki...|\n",
      "|spam|     155|  1.0|[free, entry, 2, ...|\n",
      "| ham|      49|  0.0|[u, dun, say, ear...|\n",
      "| ham|      61|  0.0|[nah, think, goes...|\n",
      "|spam|     147|  1.0|[freemsg, hey, da...|\n",
      "| ham|      77|  0.0|[even, brother, l...|\n",
      "| ham|     160|  0.0|[per, request, 'm...|\n",
      "|spam|     157|  1.0|[winner!!, valued...|\n",
      "|spam|     154|  1.0|[mobile, 11, mont...|\n",
      "| ham|     109|  0.0|[gonna, home, soo...|\n",
      "|spam|     136|  1.0|[six, chances, wi...|\n",
      "|spam|     155|  1.0|[urgent!, won, 1,...|\n",
      "| ham|     196|  0.0|[searching, right...|\n",
      "| ham|      35|  0.0|[date, sunday, wi...|\n",
      "|spam|     149|  1.0|[xxxmobilemoviecl...|\n",
      "| ham|      26|  0.0|[oh, k...i'm, wat...|\n",
      "| ham|      81|  0.0|[eh, u, remember,...|\n",
      "| ham|      56|  0.0|[fine, thats, wa...|\n",
      "|spam|     155|  1.0|[england, v, mace...|\n",
      "+----+--------+-----+--------------------+\n",
      "only showing top 20 rows\n",
      "\n"
     ]
    }
   ],
   "source": [
    "datosS.show()"
   ]
  },
  {
   "cell_type": "code",
   "execution_count": 57,
   "metadata": {},
   "outputs": [],
   "source": [
    "from pyspark.ml.feature import CountVectorizer,IDF,VectorAssembler"
   ]
  },
  {
   "cell_type": "code",
   "execution_count": 53,
   "metadata": {},
   "outputs": [],
   "source": [
    "datoscv=CountVectorizer(inputCol=\"filtradas\",outputCol=\"cv\").fit(datosS)\\\n",
    "    .transform(datosS)"
   ]
  },
  {
   "cell_type": "code",
   "execution_count": 54,
   "metadata": {},
   "outputs": [
    {
     "name": "stdout",
     "output_type": "stream",
     "text": [
      "-RECORD 0-----------------------------------------------------------------------------------------------------------------------------------------------------------------------------------------------\n",
      " _c0       | ham                                                                                                                                                                                        \n",
      " longitud  | 111                                                                                                                                                                                        \n",
      " label     | 0.0                                                                                                                                                                                        \n",
      " filtradas | [go, jurong, point,, crazy.., available, bugis, n, great, world, la, e, buffet..., cine, got, amore, wat...]                                                                               \n",
      " cv        | (13423,[7,11,31,61,72,344,625,731,1409,1598,4485,6440,8092,8838,11344,12979],[1.0,1.0,1.0,1.0,1.0,1.0,1.0,1.0,1.0,1.0,1.0,1.0,1.0,1.0,1.0,1.0])                                            \n",
      "-RECORD 1-----------------------------------------------------------------------------------------------------------------------------------------------------------------------------------------------\n",
      " _c0       | ham                                                                                                                                                                                        \n",
      " longitud  | 29                                                                                                                                                                                         \n",
      " label     | 0.0                                                                                                                                                                                        \n",
      " filtradas | [ok, lar..., joking, wif, u, oni...]                                                                                                                                                       \n",
      " cv        | (13423,[0,24,297,457,2601,3605],[1.0,1.0,1.0,1.0,1.0,1.0])                                                                                                                                 \n",
      "-RECORD 2-----------------------------------------------------------------------------------------------------------------------------------------------------------------------------------------------\n",
      " _c0       | spam                                                                                                                                                                                       \n",
      " longitud  | 155                                                                                                                                                                                        \n",
      " label     | 1.0                                                                                                                                                                                        \n",
      " filtradas | [free, entry, 2, wkly, comp, win, fa, cup, final, tkts, 21st, may, 2005., text, fa, 87121, receive, entry, question(std, txt, rate)t&c's, apply, 08452810075over18's]                      \n",
      " cv        | (13423,[2,13,19,30,89,154,193,305,458,515,631,855,954,1916,2010,2356,3023,3287,3442,5016,5200],[1.0,1.0,1.0,1.0,1.0,1.0,1.0,2.0,1.0,1.0,1.0,1.0,1.0,1.0,1.0,2.0,1.0,1.0,1.0,1.0,1.0])      \n",
      "-RECORD 3-----------------------------------------------------------------------------------------------------------------------------------------------------------------------------------------------\n",
      " _c0       | ham                                                                                                                                                                                        \n",
      " longitud  | 49                                                                                                                                                                                         \n",
      " label     | 0.0                                                                                                                                                                                        \n",
      " filtradas | [u, dun, say, early, hor..., u, c, already, say...]                                                                                                                                        \n",
      " cv        | (13423,[0,70,80,128,147,323,2911,3598],[2.0,1.0,1.0,1.0,1.0,1.0,1.0,1.0])                                                                                                                  \n",
      "-RECORD 4-----------------------------------------------------------------------------------------------------------------------------------------------------------------------------------------------\n",
      " _c0       | ham                                                                                                                                                                                        \n",
      " longitud  | 61                                                                                                                                                                                         \n",
      " label     | 0.0                                                                                                                                                                                        \n",
      " filtradas | [nah, think, goes, usf,, lives, around, though]                                                                                                                                            \n",
      " cv        | (13423,[36,134,313,545,1325,3302,3591],[1.0,1.0,1.0,1.0,1.0,1.0,1.0])                                                                                                                      \n",
      "-RECORD 5-----------------------------------------------------------------------------------------------------------------------------------------------------------------------------------------------\n",
      " _c0       | spam                                                                                                                                                                                       \n",
      " longitud  | 147                                                                                                                                                                                        \n",
      " label     | 1.0                                                                                                                                                                                        \n",
      " filtradas | [freemsg, hey, darling, 3, week's, word, back!, like, fun, still?, tb, ok!, xxx, std, chgs, send,, £1.50, rcv]                                                                             \n",
      " cv        | (13423,[10,60,139,286,350,368,490,1363,1643,2091,2665,3625,3952,4446,4639,4641,5133,6169],[1.0,1.0,1.0,1.0,1.0,1.0,1.0,1.0,1.0,1.0,1.0,1.0,1.0,1.0,1.0,1.0,1.0,1.0])                       \n",
      "-RECORD 6-----------------------------------------------------------------------------------------------------------------------------------------------------------------------------------------------\n",
      " _c0       | ham                                                                                                                                                                                        \n",
      " longitud  | 77                                                                                                                                                                                         \n",
      " label     | 0.0                                                                                                                                                                                        \n",
      " filtradas | [even, brother, like, speak, me., treat, like, aids, patent.]                                                                                                                              \n",
      " cv        | (13423,[10,53,103,243,622,749,8012,12636],[2.0,1.0,1.0,1.0,1.0,1.0,1.0,1.0])                                                                                                               \n",
      "-RECORD 7-----------------------------------------------------------------------------------------------------------------------------------------------------------------------------------------------\n",
      " _c0       | ham                                                                                                                                                                                        \n",
      " longitud  | 160                                                                                                                                                                                        \n",
      " label     | 0.0                                                                                                                                                                                        \n",
      " filtradas | [per, request, 'melle, melle, (oru, minnaminunginte, nurungu, vettam)', set, callertune, callers., press, *9, copy, friends, callertune]                                                   \n",
      " cv        | (13423,[125,184,409,913,925,950,1170,1596,1759,2560,2829,2887,2900,3108,3156],[1.0,1.0,1.0,1.0,2.0,1.0,1.0,1.0,1.0,1.0,1.0,1.0,1.0,1.0,1.0])                                               \n",
      "-RECORD 8-----------------------------------------------------------------------------------------------------------------------------------------------------------------------------------------------\n",
      " _c0       | spam                                                                                                                                                                                       \n",
      " longitud  | 157                                                                                                                                                                                        \n",
      " label     | 1.0                                                                                                                                                                                        \n",
      " filtradas | [winner!!, valued, network, customer, selected, receivea, £900, prize, reward!, claim, call, 09061701461., claim, code, kl341., valid, 12, hours, only.]                                   \n",
      " cv        | (13423,[1,47,118,145,293,322,351,500,543,573,793,1108,1309,2597,3348,3911,3989,4909],[1.0,2.0,1.0,1.0,1.0,1.0,1.0,1.0,1.0,1.0,1.0,1.0,1.0,1.0,1.0,1.0,1.0,1.0])                            \n",
      "-RECORD 9-----------------------------------------------------------------------------------------------------------------------------------------------------------------------------------------------\n",
      " _c0       | spam                                                                                                                                                                                       \n",
      " longitud  | 154                                                                                                                                                                                        \n",
      " label     | 1.0                                                                                                                                                                                        \n",
      " filtradas | [mobile, 11, months, more?, u, r, entitled, update, latest, colour, mobiles, camera, free!, call, mobile, update, co, free, 08002986030]                                                   \n",
      " cv        | (13423,[0,1,13,27,38,196,282,369,391,414,875,1063,1188,1349,1860,2936,4140],[1.0,1.0,1.0,1.0,2.0,1.0,1.0,2.0,1.0,1.0,1.0,1.0,1.0,1.0,1.0,1.0,1.0])                                         \n",
      "-RECORD 10----------------------------------------------------------------------------------------------------------------------------------------------------------------------------------------------\n",
      " _c0       | ham                                                                                                                                                                                        \n",
      " longitud  | 109                                                                                                                                                                                        \n",
      " label     | 0.0                                                                                                                                                                                        \n",
      " filtradas | [gonna, home, soon, want, talk, stuff, anymore, tonight,, k?, cried, enough, today.]                                                                                                       \n",
      " cv        | (13423,[18,43,120,175,218,228,300,370,2483,5125,5349,10880],[1.0,1.0,1.0,1.0,1.0,1.0,1.0,1.0,1.0,1.0,1.0,1.0])                                                                             \n",
      "-RECORD 11----------------------------------------------------------------------------------------------------------------------------------------------------------------------------------------------\n",
      " _c0       | spam                                                                                                                                                                                       \n",
      " longitud  | 136                                                                                                                                                                                        \n",
      " label     | 1.0                                                                                                                                                                                        \n",
      " filtradas | [six, chances, win, cash!, 100, 20,000, pounds, txt>, csh11, send, 87575., cost, 150p/day,, 6days,, 16+, tsandcs, apply, reply, hl, 4, info]                                               \n",
      " cv        | (13423,[8,17,37,89,281,374,439,515,539,1079,1445,2025,2258,3369,3599,3620,3828,3978,4031,4051,5145],[1.0,1.0,1.0,1.0,1.0,1.0,1.0,1.0,1.0,1.0,1.0,1.0,1.0,1.0,1.0,1.0,1.0,1.0,1.0,1.0,1.0]) \n",
      "-RECORD 12----------------------------------------------------------------------------------------------------------------------------------------------------------------------------------------------\n",
      " _c0       | spam                                                                                                                                                                                       \n",
      " longitud  | 155                                                                                                                                                                                        \n",
      " label     | 1.0                                                                                                                                                                                        \n",
      " filtradas | [urgent!, won, 1, week, free, membership, £100,000, prize, jackpot!, txt, word:, claim, no:, 81010, t&c, www.dbuk.net, lccltd, pobox, 4403ldnw1a7rw18]                                     \n",
      " cv        | (13423,[13,30,47,87,99,100,118,161,499,525,667,985,2875,3472,3747,3820,4047,4525,4614],[1.0,1.0,1.0,1.0,1.0,1.0,1.0,1.0,1.0,1.0,1.0,1.0,1.0,1.0,1.0,1.0,1.0,1.0,1.0])                      \n",
      "-RECORD 13----------------------------------------------------------------------------------------------------------------------------------------------------------------------------------------------\n",
      " _c0       | ham                                                                                                                                                                                        \n",
      " longitud  | 196                                                                                                                                                                                        \n",
      " label     | 0.0                                                                                                                                                                                        \n",
      " filtradas | [searching, right, words, thank, breather., promise, wont, take, help, granted, fulfil, promise., wonderful, blessing, times.]                                                             \n",
      " cv        | (13423,[39,96,217,221,289,586,629,1190,1809,2090,4108,4631,5390,5687,6572],[1.0,1.0,1.0,1.0,1.0,1.0,1.0,1.0,1.0,1.0,1.0,1.0,1.0,1.0,1.0])                                                  \n",
      "-RECORD 14----------------------------------------------------------------------------------------------------------------------------------------------------------------------------------------------\n",
      " _c0       | ham                                                                                                                                                                                        \n",
      " longitud  | 35                                                                                                                                                                                         \n",
      " label     | 0.0                                                                                                                                                                                        \n",
      " filtradas | [date, sunday, will!!]                                                                                                                                                                     \n",
      " cv        | (13423,[552,1697,11921],[1.0,1.0,1.0])                                                                                                                                                     \n",
      "-RECORD 15----------------------------------------------------------------------------------------------------------------------------------------------------------------------------------------------\n",
      " _c0       | spam                                                                                                                                                                                       \n",
      " longitud  | 149                                                                                                                                                                                        \n",
      " label     | 1.0                                                                                                                                                                                        \n",
      " filtradas | [xxxmobilemovieclub:, use, credit,, click, wap, link, next, txt, message, click, here>>, http://wap., xxxmobilemovieclub.com?n=qjkgighjjgcbl]                                              \n",
      " cv        | (13423,[30,109,111,173,1075,1254,1272,6001,6594,7155,7846,7924],[1.0,1.0,1.0,1.0,1.0,2.0,1.0,1.0,1.0,1.0,1.0,1.0])                                                                         \n",
      "-RECORD 16----------------------------------------------------------------------------------------------------------------------------------------------------------------------------------------------\n",
      " _c0       | ham                                                                                                                                                                                        \n",
      " longitud  | 26                                                                                                                                                                                         \n",
      " label     | 0.0                                                                                                                                                                                        \n",
      " filtradas | [oh, k...i'm, watching, here:)]                                                                                                                                                            \n",
      " cv        | (13423,[82,214,4741,6768],[1.0,1.0,1.0,1.0])                                                                                                                                               \n",
      "-RECORD 17----------------------------------------------------------------------------------------------------------------------------------------------------------------------------------------------\n",
      " _c0       | ham                                                                                                                                                                                        \n",
      " longitud  | 81                                                                                                                                                                                         \n",
      " label     | 0.0                                                                                                                                                                                        \n",
      " filtradas | [eh, u, remember, 2, spell, name..., yes, did., v, naughty, make, v, wet.]                                                                                                                 \n",
      " cv        | (13423,[0,2,49,132,198,271,778,1605,3117,4216,7764,12902],[1.0,1.0,1.0,1.0,2.0,1.0,1.0,1.0,1.0,1.0,1.0,1.0])                                                                               \n",
      "-RECORD 18----------------------------------------------------------------------------------------------------------------------------------------------------------------------------------------------\n",
      " _c0       | ham                                                                                                                                                                                        \n",
      " longitud  | 56                                                                                                                                                                                         \n",
      " label     | 0.0                                                                                                                                                                                        \n",
      " filtradas | [fine, thats, way, u, feel., thats, way, gota, b]                                                                                                                                        \n",
      " cv        | (13423,[0,74,105,559,2313,10181,11255],[1.0,2.0,1.0,1.0,2.0,1.0,1.0])                                                                                                                      \n",
      "-RECORD 19----------------------------------------------------------------------------------------------------------------------------------------------------------------------------------------------\n",
      " _c0       | spam                                                                                                                                                                                       \n",
      " longitud  | 155                                                                                                                                                                                        \n",
      " label     | 1.0                                                                                                                                                                                        \n",
      " filtradas | [england, v, macedonia, -, dont, miss, goals/team, news., txt, ur, national, team, 87077, eg, england, 87077, try:wales,, scotland, 4txt/ú1.20, poboxox36504w45wq, 16+]                    \n",
      " cv        | (13423,[4,30,33,59,78,198,374,728,839,1171,1298,3130,4103,7495,8307,8634,11774,12547,13012],[1.0,1.0,1.0,1.0,1.0,1.0,1.0,1.0,1.0,2.0,2.0,1.0,1.0,1.0,1.0,1.0,1.0,1.0,1.0])                 \n",
      "only showing top 20 rows\n",
      "\n"
     ]
    }
   ],
   "source": [
    "datoscv.show(truncate=False,vertical=True)"
   ]
  },
  {
   "cell_type": "code",
   "execution_count": 55,
   "metadata": {},
   "outputs": [],
   "source": [
    "datosIdf=IDF(inputCol=\"cv\",outputCol=\"idf\").fit(datoscv).transform(datoscv)"
   ]
  },
  {
   "cell_type": "code",
   "execution_count": 56,
   "metadata": {},
   "outputs": [
    {
     "name": "stdout",
     "output_type": "stream",
     "text": [
      "-RECORD 0-------------------------------------------------------------------------------------------------------------------------------------------------------------------------------------------------------------------------------------------------------------------------------------------------------------------------------------------------------------------------------------------------------------------------------------------------------------------------------------------------\n",
      " _c0       | ham                                                                                                                                                                                                                                                                                                                                                                                                                                                                                          \n",
      " longitud  | 111                                                                                                                                                                                                                                                                                                                                                                                                                                                                                          \n",
      " label     | 0.0                                                                                                                                                                                                                                                                                                                                                                                                                                                                                          \n",
      " filtradas | [go, jurong, point,, crazy.., available, bugis, n, great, world, la, e, buffet..., cine, got, amore, wat...]                                                                                                                                                                                                                                                                                                                                                                                 \n",
      " cv        | (13423,[7,11,31,61,72,344,625,731,1409,1598,4485,6440,8092,8838,11344,12979],[1.0,1.0,1.0,1.0,1.0,1.0,1.0,1.0,1.0,1.0,1.0,1.0,1.0,1.0,1.0,1.0])                                                                                                                                                                                                                                                                                                                                              \n",
      " idf       | (13423,[7,11,31,61,72,344,625,731,1409,1598,4485,6440,8092,8838,11344,12979],[3.1126188501633374,3.2055125970560336,3.822026551595063,4.207206988531722,4.32198250312415,5.407171771460119,5.917997395226109,6.141140946540319,6.680137447273006,6.8342881271002645,7.52743530766021,7.9329004157683745,7.9329004157683745,7.9329004157683745,7.9329004157683745,7.9329004157683745])                                                                                                        \n",
      "-RECORD 1-------------------------------------------------------------------------------------------------------------------------------------------------------------------------------------------------------------------------------------------------------------------------------------------------------------------------------------------------------------------------------------------------------------------------------------------------------------------------------------------------\n",
      " _c0       | ham                                                                                                                                                                                                                                                                                                                                                                                                                                                                                          \n",
      " longitud  | 29                                                                                                                                                                                                                                                                                                                                                                                                                                                                                           \n",
      " label     | 0.0                                                                                                                                                                                                                                                                                                                                                                                                                                                                                          \n",
      " filtradas | [ok, lar..., joking, wif, u, oni...]                                                                                                                                                                                                                                                                                                                                                                                                                                                         \n",
      " cv        | (13423,[0,24,297,457,2601,3605],[1.0,1.0,1.0,1.0,1.0,1.0])                                                                                                                                                                                                                                                                                                                                                                                                                                   \n",
      " idf       | (13423,[0,24,297,457,2601,3605],[2.016698353160939,3.5761915890787823,5.330210730323991,5.7356758384321544,7.239753235208429,7.52743530766021])                                                                                                                                                                                                                                                                                                                                              \n",
      "-RECORD 2-------------------------------------------------------------------------------------------------------------------------------------------------------------------------------------------------------------------------------------------------------------------------------------------------------------------------------------------------------------------------------------------------------------------------------------------------------------------------------------------------\n",
      " _c0       | spam                                                                                                                                                                                                                                                                                                                                                                                                                                                                                         \n",
      " longitud  | 155                                                                                                                                                                                                                                                                                                                                                                                                                                                                                          \n",
      " label     | 1.0                                                                                                                                                                                                                                                                                                                                                                                                                                                                                          \n",
      " filtradas | [free, entry, 2, wkly, comp, win, fa, cup, final, tkts, 21st, may, 2005., text, fa, 87121, receive, entry, question(std, txt, rate)t&c's, apply, 08452810075over18's]                                                                                                                                                                                                                                                                                                                        \n",
      " cv        | (13423,[2,13,19,30,89,154,193,305,458,515,631,855,954,1916,2010,2356,3023,3287,3442,5016,5200],[1.0,1.0,1.0,1.0,1.0,1.0,1.0,2.0,1.0,1.0,1.0,1.0,1.0,1.0,1.0,2.0,1.0,1.0,1.0,1.0,1.0])                                                                                                                                                                                                                                                                                                        \n",
      " idf       | (13423,[2,13,19,30,89,154,193,305,458,515,631,855,954,1916,2010,2356,3023,3287,3442,5016,5200],[2.704469176684504,3.332742771603827,3.5634525633013525,3.6702205387270586,4.421354976937353,4.841857962410058,5.099687071712158,11.070010285940008,5.681608617161879,5.7356758384321544,5.917997395226109,6.228152323529949,6.323462503334274,7.016609683894219,7.016609683894219,15.05487061532042,7.239753235208429,7.239753235208429,7.52743530766021,7.52743530766021,7.52743530766021]) \n",
      "-RECORD 3-------------------------------------------------------------------------------------------------------------------------------------------------------------------------------------------------------------------------------------------------------------------------------------------------------------------------------------------------------------------------------------------------------------------------------------------------------------------------------------------------\n",
      " _c0       | ham                                                                                                                                                                                                                                                                                                                                                                                                                                                                                          \n",
      " longitud  | 49                                                                                                                                                                                                                                                                                                                                                                                                                                                                                           \n",
      " label     | 0.0                                                                                                                                                                                                                                                                                                                                                                                                                                                                                          \n",
      " filtradas | [u, dun, say, early, hor..., u, c, already, say...]                                                                                                                                                                                                                                                                                                                                                                                                                                          \n",
      " cv        | (13423,[0,70,80,128,147,323,2911,3598],[2.0,1.0,1.0,1.0,1.0,1.0,1.0,1.0])                                                                                                                                                                                                                                                                                                                                                                                                                    \n",
      " idf       | (13423,[0,70,80,128,147,323,2911,3598],[4.033396706321878,4.256599743861298,4.32198250312415,4.674803877746892,4.734227298217693,5.407171771460119,7.239753235208429,7.52743530766021])                                                                                                                                                                                                                                                                                                      \n",
      "-RECORD 4-------------------------------------------------------------------------------------------------------------------------------------------------------------------------------------------------------------------------------------------------------------------------------------------------------------------------------------------------------------------------------------------------------------------------------------------------------------------------------------------------\n",
      " _c0       | ham                                                                                                                                                                                                                                                                                                                                                                                                                                                                                          \n",
      " longitud  | 61                                                                                                                                                                                                                                                                                                                                                                                                                                                                                           \n",
      " label     | 0.0                                                                                                                                                                                                                                                                                                                                                                                                                                                                                          \n",
      " filtradas | [nah, think, goes, usf,, lives, around, though]                                                                                                                                                                                                                                                                                                                                                                                                                                              \n",
      " cv        | (13423,[36,134,313,545,1325,3302,3591],[1.0,1.0,1.0,1.0,1.0,1.0,1.0])                                                                                                                                                                                                                                                                                                                                                                                                                        \n",
      " idf       | (13423,[36,134,313,545,1325,3302,3591],[3.7977338590260183,4.7140245909001735,5.367951058306837,5.792834252272104,6.546606054648484,7.52743530766021,7.52743530766021])                                                                                                                                                                                                                                                                                                                      \n",
      "-RECORD 5-------------------------------------------------------------------------------------------------------------------------------------------------------------------------------------------------------------------------------------------------------------------------------------------------------------------------------------------------------------------------------------------------------------------------------------------------------------------------------------------------\n",
      " _c0       | spam                                                                                                                                                                                                                                                                                                                                                                                                                                                                                         \n",
      " longitud  | 147                                                                                                                                                                                                                                                                                                                                                                                                                                                                                          \n",
      " label     | 1.0                                                                                                                                                                                                                                                                                                                                                                                                                                                                                          \n",
      " filtradas | [freemsg, hey, darling, 3, week's, word, back!, like, fun, still?, tb, ok!, xxx, std, chgs, send,, £1.50, rcv]                                                                                                                                                                                                                                                                                                                                                                               \n",
      " cv        | (13423,[10,60,139,286,350,368,490,1363,1643,2091,2665,3625,3952,4446,4639,4641,5133,6169],[1.0,1.0,1.0,1.0,1.0,1.0,1.0,1.0,1.0,1.0,1.0,1.0,1.0,1.0,1.0,1.0,1.0,1.0])                                                                                                                                                                                                                                                                                                                         \n",
      " idf       | (13423,[10,60,139,286,350,368,490,1363,1643,2091,2665,3625,3952,4446,4639,4641,5133,6169],[3.2278848948105665,4.148710781850113,4.734227298217693,5.258751766341845,5.49055338039917,5.49055338039917,5.7356758384321544,6.680137447273006,6.8342881271002645,7.016609683894219,7.239753235208429,7.52743530766021,7.52743530766021,7.52743530766021,7.52743530766021,7.52743530766021,7.52743530766021,7.9329004157683745])                                                                 \n",
      "-RECORD 6-------------------------------------------------------------------------------------------------------------------------------------------------------------------------------------------------------------------------------------------------------------------------------------------------------------------------------------------------------------------------------------------------------------------------------------------------------------------------------------------------\n",
      " _c0       | ham                                                                                                                                                                                                                                                                                                                                                                                                                                                                                          \n",
      " longitud  | 77                                                                                                                                                                                                                                                                                                                                                                                                                                                                                           \n",
      " label     | 0.0                                                                                                                                                                                                                                                                                                                                                                                                                                                                                          \n",
      " filtradas | [even, brother, like, speak, me., treat, like, aids, patent.]                                                                                                                                                                                                                                                                                                                                                                                                                                \n",
      " cv        | (13423,[10,53,103,243,622,749,8012,12636],[2.0,1.0,1.0,1.0,1.0,1.0,1.0,1.0])                                                                                                                                                                                                                                                                                                                                                                                                                 \n",
      " idf       | (13423,[10,53,103,243,622,749,8012,12636],[6.455769789621133,4.0410801176577476,4.5151737321550085,5.160311693528593,5.917997395226109,6.061098238866783,7.9329004157683745,7.9329004157683745])                                                                                                                                                                                                                                                                                             \n",
      "-RECORD 7-------------------------------------------------------------------------------------------------------------------------------------------------------------------------------------------------------------------------------------------------------------------------------------------------------------------------------------------------------------------------------------------------------------------------------------------------------------------------------------------------\n",
      " _c0       | ham                                                                                                                                                                                                                                                                                                                                                                                                                                                                                          \n",
      " longitud  | 160                                                                                                                                                                                                                                                                                                                                                                                                                                                                                          \n",
      " label     | 0.0                                                                                                                                                                                                                                                                                                                                                                                                                                                                                          \n",
      " filtradas | [per, request, 'melle, melle, (oru, minnaminunginte, nurungu, vettam)', set, callertune, callers., press, *9, copy, friends, callertune]                                                                                                                                                                                                                                                                                                                                                     \n",
      " cv        | (13423,[125,184,409,913,925,950,1170,1596,1759,2560,2829,2887,2900,3108,3156],[1.0,1.0,1.0,1.0,2.0,1.0,1.0,1.0,1.0,1.0,1.0,1.0,1.0,1.0,1.0])                                                                                                                                                                                                                                                                                                                                                 \n",
      " idf       | (13423,[125,184,409,913,925,950,1170,1596,1759,2560,2829,2887,2900,3108,3156],[4.60069590559317,5.015129683684095,5.581525158604896,6.228152323529949,13.668576254200529,6.323462503334274,6.546606054648484,6.8342881271002645,6.8342881271002645,7.239753235208429,7.239753235208429,7.239753235208429,7.239753235208429,7.239753235208429,7.239753235208429])                                                                                                                             \n",
      "-RECORD 8-------------------------------------------------------------------------------------------------------------------------------------------------------------------------------------------------------------------------------------------------------------------------------------------------------------------------------------------------------------------------------------------------------------------------------------------------------------------------------------------------\n",
      " _c0       | spam                                                                                                                                                                                                                                                                                                                                                                                                                                                                                         \n",
      " longitud  | 157                                                                                                                                                                                                                                                                                                                                                                                                                                                                                          \n",
      " label     | 1.0                                                                                                                                                                                                                                                                                                                                                                                                                                                                                          \n",
      " filtradas | [winner!!, valued, network, customer, selected, receivea, £900, prize, reward!, claim, call, 09061701461., claim, code, kl341., valid, 12, hours, only.]                                                                                                                                                                                                                                                                                                                                     \n",
      " cv        | (13423,[1,47,118,145,293,322,351,500,543,573,793,1108,1309,2597,3348,3911,3989,4909],[1.0,2.0,1.0,1.0,1.0,1.0,1.0,1.0,1.0,1.0,1.0,1.0,1.0,1.0,1.0,1.0,1.0,1.0])                                                                                                                                                                                                                                                                                                                              \n",
      " idf       | (13423,[1,47,118,145,293,322,351,500,543,573,793,1108,1309,2597,3348,3911,3989,4909],[2.3645559120072774,8.002149566088097,4.618714411095849,4.7140245909001735,5.293843086153116,5.367951058306837,5.447993765980374,5.7356758384321544,5.792834252272104,5.853458874088538,6.141140946540319,6.4288230189921,6.546606054648484,7.239753235208429,7.52743530766021,7.52743530766021,7.52743530766021,7.52743530766021])                                                                     \n",
      "-RECORD 9-------------------------------------------------------------------------------------------------------------------------------------------------------------------------------------------------------------------------------------------------------------------------------------------------------------------------------------------------------------------------------------------------------------------------------------------------------------------------------------------------\n",
      " _c0       | spam                                                                                                                                                                                                                                                                                                                                                                                                                                                                                         \n",
      " longitud  | 154                                                                                                                                                                                                                                                                                                                                                                                                                                                                                          \n",
      " label     | 1.0                                                                                                                                                                                                                                                                                                                                                                                                                                                                                          \n",
      " filtradas | [mobile, 11, months, more?, u, r, entitled, update, latest, colour, mobiles, camera, free!, call, mobile, update, co, free, 08002986030]                                                                                                                                                                                                                                                                                                                                                     \n",
      " cv        | (13423,[0,1,13,27,38,196,282,369,391,414,875,1063,1188,1349,1860,2936,4140],[1.0,1.0,1.0,1.0,2.0,1.0,1.0,2.0,1.0,1.0,1.0,1.0,1.0,1.0,1.0,1.0,1.0])                                                                                                                                                                                                                                                                                                                                           \n",
      " idf       | (13423,[0,1,13,27,38,196,282,369,391,414,875,1063,1188,1349,1860,2936,4140],[2.016698353160939,2.3645559120072774,3.332742771603827,3.7060666705001943,7.81509745006645,5.04252865787221,5.258751766341845,11.585668504544207,5.535005142970004,5.581525158604896,6.228152323529949,6.4288230189921,6.546606054648484,6.546606054648484,6.8342881271002645,7.239753235208429,7.52743530766021])                                                                                              \n",
      "-RECORD 10------------------------------------------------------------------------------------------------------------------------------------------------------------------------------------------------------------------------------------------------------------------------------------------------------------------------------------------------------------------------------------------------------------------------------------------------------------------------------------------------\n",
      " _c0       | ham                                                                                                                                                                                                                                                                                                                                                                                                                                                                                          \n",
      " longitud  | 109                                                                                                                                                                                                                                                                                                                                                                                                                                                                                          \n",
      " label     | 0.0                                                                                                                                                                                                                                                                                                                                                                                                                                                                                          \n",
      " filtradas | [gonna, home, soon, want, talk, stuff, anymore, tonight,, k?, cried, enough, today.]                                                                                                                                                                                                                                                                                                                                                                                                         \n",
      " cv        | (13423,[18,43,120,175,218,228,300,370,2483,5125,5349,10880],[1.0,1.0,1.0,1.0,1.0,1.0,1.0,1.0,1.0,1.0,1.0,1.0])                                                                                                                                                                                                                                                                                                                                                                               \n",
      " idf       | (13423,[18,43,120,175,218,228,300,370,2483,5125,5349,10880],[3.44989786375449,3.9165173950159855,4.58299632849377,4.888377978044951,5.099687071712158,5.129540034861839,5.293843086153116,5.49055338039917,7.239753235208429,7.52743530766021,7.52743530766021,7.9329004157683745])                                                                                                                                                                                                          \n",
      "-RECORD 11------------------------------------------------------------------------------------------------------------------------------------------------------------------------------------------------------------------------------------------------------------------------------------------------------------------------------------------------------------------------------------------------------------------------------------------------------------------------------------------------\n",
      " _c0       | spam                                                                                                                                                                                                                                                                                                                                                                                                                                                                                         \n",
      " longitud  | 136                                                                                                                                                                                                                                                                                                                                                                                                                                                                                          \n",
      " label     | 1.0                                                                                                                                                                                                                                                                                                                                                                                                                                                                                          \n",
      " filtradas | [six, chances, win, cash!, 100, 20,000, pounds, txt>, csh11, send, 87575., cost, 150p/day,, 6days,, 16+, tsandcs, apply, reply, hl, 4, info]                                                                                                                                                                                                                                                                                                                                                 \n",
      " cv        | (13423,[8,17,37,89,281,374,439,515,539,1079,1445,2025,2258,3369,3599,3620,3828,3978,4031,4051,5145],[1.0,1.0,1.0,1.0,1.0,1.0,1.0,1.0,1.0,1.0,1.0,1.0,1.0,1.0,1.0,1.0,1.0,1.0,1.0,1.0,1.0])                                                                                                                                                                                                                                                                                                   \n",
      " idf       | (13423,[8,17,37,89,281,374,439,515,539,1079,1445,2025,2258,3369,3599,3620,3828,3978,4031,4051,5145],[3.145408672986328,3.411111838719334,3.872457405221955,4.421354976937353,5.258751766341845,5.49055338039917,5.630315322774329,5.7356758384321544,5.792834252272104,6.4288230189921,6.680137447273006,7.016609683894219,7.016609683894219,7.52743530766021,7.52743530766021,7.52743530766021,7.52743530766021,7.52743530766021,7.52743530766021,7.52743530766021,7.52743530766021])       \n",
      "-RECORD 12------------------------------------------------------------------------------------------------------------------------------------------------------------------------------------------------------------------------------------------------------------------------------------------------------------------------------------------------------------------------------------------------------------------------------------------------------------------------------------------------\n",
      " _c0       | spam                                                                                                                                                                                                                                                                                                                                                                                                                                                                                         \n",
      " longitud  | 155                                                                                                                                                                                                                                                                                                                                                                                                                                                                                          \n",
      " label     | 1.0                                                                                                                                                                                                                                                                                                                                                                                                                                                                                          \n",
      " filtradas | [urgent!, won, 1, week, free, membership, £100,000, prize, jackpot!, txt, word:, claim, no:, 81010, t&c, www.dbuk.net, lccltd, pobox, 4403ldnw1a7rw18]                                                                                                                                                                                                                                                                                                                                       \n",
      " cv        | (13423,[13,30,47,87,99,100,118,161,499,525,667,985,2875,3472,3747,3820,4047,4525,4614],[1.0,1.0,1.0,1.0,1.0,1.0,1.0,1.0,1.0,1.0,1.0,1.0,1.0,1.0,1.0,1.0,1.0,1.0,1.0])                                                                                                                                                                                                                                                                                                                        \n",
      " idf       | (13423,[13,30,47,87,99,100,118,161,499,525,667,985,2875,3472,3747,3820,4047,4525,4614],[3.332742771603827,3.6702205387270586,4.001074783044048,4.3775523542789605,4.451660326432682,4.4671645129686475,4.618714411095849,4.841857962410058,5.7356758384321544,5.792834252272104,5.986990266713061,6.323462503334274,7.239753235208429,7.52743530766021,7.52743530766021,7.52743530766021,7.52743530766021,7.52743530766021,7.52743530766021])                                                \n",
      "-RECORD 13------------------------------------------------------------------------------------------------------------------------------------------------------------------------------------------------------------------------------------------------------------------------------------------------------------------------------------------------------------------------------------------------------------------------------------------------------------------------------------------------\n",
      " _c0       | ham                                                                                                                                                                                                                                                                                                                                                                                                                                                                                          \n",
      " longitud  | 196                                                                                                                                                                                                                                                                                                                                                                                                                                                                                          \n",
      " label     | 0.0                                                                                                                                                                                                                                                                                                                                                                                                                                                                                          \n",
      " filtradas | [searching, right, words, thank, breather., promise, wont, take, help, granted, fulfil, promise., wonderful, blessing, times.]                                                                                                                                                                                                                                                                                                                                                               \n",
      " cv        | (13423,[39,96,217,221,289,586,629,1190,1809,2090,4108,4631,5390,5687,6572],[1.0,1.0,1.0,1.0,1.0,1.0,1.0,1.0,1.0,1.0,1.0,1.0,1.0,1.0,1.0])                                                                                                                                                                                                                                                                                                                                                    \n",
      " idf       | (13423,[39,96,217,221,289,586,629,1190,1809,2090,4108,4631,5390,5687,6572],[3.7977338590260183,4.482912869936787,5.129540034861839,5.099687071712158,5.293843086153116,5.853458874088538,5.986990266713061,6.546606054648484,6.8342881271002645,7.016609683894219,7.52743530766021,7.52743530766021,7.9329004157683745,7.9329004157683745,7.9329004157683745])                                                                                                                               \n",
      "-RECORD 14------------------------------------------------------------------------------------------------------------------------------------------------------------------------------------------------------------------------------------------------------------------------------------------------------------------------------------------------------------------------------------------------------------------------------------------------------------------------------------------------\n",
      " _c0       | ham                                                                                                                                                                                                                                                                                                                                                                                                                                                                                          \n",
      " longitud  | 35                                                                                                                                                                                                                                                                                                                                                                                                                                                                                           \n",
      " label     | 0.0                                                                                                                                                                                                                                                                                                                                                                                                                                                                                          \n",
      " filtradas | [date, sunday, will!!]                                                                                                                                                                                                                                                                                                                                                                                                                                                                       \n",
      " cv        | (13423,[552,1697,11921],[1.0,1.0,1.0])                                                                                                                                                                                                                                                                                                                                                                                                                                                       \n",
      " idf       | (13423,[552,1697,11921],[5.853458874088538,6.8342881271002645,7.9329004157683745])                                                                                                                                                                                                                                                                                                                                                                                                           \n",
      "-RECORD 15------------------------------------------------------------------------------------------------------------------------------------------------------------------------------------------------------------------------------------------------------------------------------------------------------------------------------------------------------------------------------------------------------------------------------------------------------------------------------------------------\n",
      " _c0       | spam                                                                                                                                                                                                                                                                                                                                                                                                                                                                                         \n",
      " longitud  | 149                                                                                                                                                                                                                                                                                                                                                                                                                                                                                          \n",
      " label     | 1.0                                                                                                                                                                                                                                                                                                                                                                                                                                                                                          \n",
      " filtradas | [xxxmobilemovieclub:, use, credit,, click, wap, link, next, txt, message, click, here>>, http://wap., xxxmobilemovieclub.com?n=qjkgighjjgcbl]                                                                                                                                                                                                                                                                                                                                                \n",
      " cv        | (13423,[30,109,111,173,1075,1254,1272,6001,6594,7155,7846,7924],[1.0,1.0,1.0,1.0,1.0,2.0,1.0,1.0,1.0,1.0,1.0,1.0])                                                                                                                                                                                                                                                                                                                                                                           \n",
      " idf       | (13423,[30,109,111,173,1075,1254,1272,6001,6594,7155,7846,7924],[3.6702205387270586,4.5485101524226,4.5485101524226,4.912475529624012,6.4288230189921,13.360274894546013,6.680137447273006,7.9329004157683745,7.9329004157683745,7.9329004157683745,7.9329004157683745,7.9329004157683745])                                                                                                                                                                                                  \n",
      "-RECORD 16------------------------------------------------------------------------------------------------------------------------------------------------------------------------------------------------------------------------------------------------------------------------------------------------------------------------------------------------------------------------------------------------------------------------------------------------------------------------------------------------\n",
      " _c0       | ham                                                                                                                                                                                                                                                                                                                                                                                                                                                                                          \n",
      " longitud  | 26                                                                                                                                                                                                                                                                                                                                                                                                                                                                                           \n",
      " label     | 0.0                                                                                                                                                                                                                                                                                                                                                                                                                                                                                          \n",
      " filtradas | [oh, k...i'm, watching, here:)]                                                                                                                                                                                                                                                                                                                                                                                                                                                              \n",
      " cv        | (13423,[82,214,4741,6768],[1.0,1.0,1.0,1.0])                                                                                                                                                                                                                                                                                                                                                                                                                                                 \n",
      " idf       | (13423,[82,214,4741,6768],[4.32198250312415,5.070699534838906,7.52743530766021,7.9329004157683745])                                                                                                                                                                                                                                                                                                                                                                                          \n",
      "-RECORD 17------------------------------------------------------------------------------------------------------------------------------------------------------------------------------------------------------------------------------------------------------------------------------------------------------------------------------------------------------------------------------------------------------------------------------------------------------------------------------------------------\n",
      " _c0       | ham                                                                                                                                                                                                                                                                                                                                                                                                                                                                                          \n",
      " longitud  | 81                                                                                                                                                                                                                                                                                                                                                                                                                                                                                           \n",
      " label     | 0.0                                                                                                                                                                                                                                                                                                                                                                                                                                                                                          \n",
      " filtradas | [eh, u, remember, 2, spell, name..., yes, did., v, naughty, make, v, wet.]                                                                                                                                                                                                                                                                                                                                                                                                                   \n",
      " cv        | (13423,[0,2,49,132,198,271,778,1605,3117,4216,7764,12902],[1.0,1.0,1.0,1.0,2.0,1.0,1.0,1.0,1.0,1.0,1.0,1.0])                                                                                                                                                                                                                                                                                                                                                                                 \n",
      " idf       | (13423,[0,2,49,132,198,271,778,1605,3117,4216,7764,12902],[2.016698353160939,2.704469176684504,4.030927746193729,4.637063549764045,10.384120783686347,5.224850214666164,6.141140946540319,6.8342881271002645,7.239753235208429,7.52743530766021,7.9329004157683745,7.9329004157683745])                                                                                                                                                                                                      \n",
      "-RECORD 18------------------------------------------------------------------------------------------------------------------------------------------------------------------------------------------------------------------------------------------------------------------------------------------------------------------------------------------------------------------------------------------------------------------------------------------------------------------------------------------------\n",
      " _c0       | ham                                                                                                                                                                                                                                                                                                                                                                                                                                                                                          \n",
      " longitud  | 56                                                                                                                                                                                                                                                                                                                                                                                                                                                                                           \n",
      " label     | 0.0                                                                                                                                                                                                                                                                                                                                                                                                                                                                                          \n",
      " filtradas | [fine, thats, way, u, feel., thats, way, gota, b]                                                                                                                                                                                                                                                                                                                                                                                                                                          \n",
      " cv        | (13423,[0,74,105,559,2313,10181,11255],[1.0,2.0,1.0,1.0,2.0,1.0,1.0])                                                                                                                                                                                                                                                                                                                                                                                                                        \n",
      " idf       | (13423,[0,74,105,559,2313,10181,11255],[2.016698353160939,8.590628512083978,4.498913211283228,5.853458874088538,14.479506470416858,7.9329004157683745,7.9329004157683745])                                                                                                                                                                                                                                                                                                                   \n",
      "-RECORD 19------------------------------------------------------------------------------------------------------------------------------------------------------------------------------------------------------------------------------------------------------------------------------------------------------------------------------------------------------------------------------------------------------------------------------------------------------------------------------------------------\n",
      " _c0       | spam                                                                                                                                                                                                                                                                                                                                                                                                                                                                                         \n",
      " longitud  | 155                                                                                                                                                                                                                                                                                                                                                                                                                                                                                          \n",
      " label     | 1.0                                                                                                                                                                                                                                                                                                                                                                                                                                                                                          \n",
      " filtradas | [england, v, macedonia, -, dont, miss, goals/team, news., txt, ur, national, team, 87077, eg, england, 87077, try:wales,, scotland, 4txt/ú1.20, poboxox36504w45wq, 16+]                                                                                                                                                                                                                                                                                                                      \n",
      " cv        | (13423,[4,30,33,59,78,198,374,728,839,1171,1298,3130,4103,7495,8307,8634,11774,12547,13012],[1.0,1.0,1.0,1.0,1.0,1.0,1.0,1.0,1.0,2.0,2.0,1.0,1.0,1.0,1.0,1.0,1.0,1.0,1.0])                                                                                                                                                                                                                                                                                                                   \n",
      " idf       | (13423,[4,30,33,59,78,198,374,728,839,1171,1298,3130,4103,7495,8307,8634,11774,12547,13012],[2.892706319430574,3.6702205387270586,3.7508502731271682,4.231598441655881,4.363367719287004,5.192060391843174,5.49055338039917,6.061098238866783,6.141140946540319,13.360274894546013,13.668576254200529,7.239753235208429,7.52743530766021,7.9329004157683745,7.9329004157683745,7.9329004157683745,7.9329004157683745,7.9329004157683745,7.9329004157683745])                                 \n",
      "only showing top 20 rows\n",
      "\n"
     ]
    }
   ],
   "source": [
    "datosIdf.show(truncate=False,vertical=True)"
   ]
  },
  {
   "cell_type": "code",
   "execution_count": 58,
   "metadata": {},
   "outputs": [],
   "source": [
    "from pyspark.ml.classification import LogisticRegression"
   ]
  },
  {
   "cell_type": "code",
   "execution_count": 61,
   "metadata": {},
   "outputs": [],
   "source": [
    "constructor=VectorAssembler(inputCols=[\"longitud\",\"idf\"],outputCol=\"features\")"
   ]
  },
  {
   "cell_type": "code",
   "execution_count": 81,
   "metadata": {
    "collapsed": true
   },
   "outputs": [],
   "source": [
    "datosNuevos=constructor.transform(datosIdf)"
   ]
  },
  {
   "cell_type": "code",
   "execution_count": 82,
   "metadata": {
    "collapsed": true
   },
   "outputs": [],
   "source": [
    "entrena,evalua=datosNuevos.randomSplit([0.8,0.2])"
   ]
  },
  {
   "cell_type": "code",
   "execution_count": 83,
   "metadata": {
    "collapsed": true
   },
   "outputs": [],
   "source": [
    "modelo=LogisticRegression().fit(entrena)"
   ]
  },
  {
   "cell_type": "code",
   "execution_count": 84,
   "metadata": {
    "collapsed": true
   },
   "outputs": [],
   "source": [
    "res=modelo.evaluate(evalua)"
   ]
  },
  {
   "cell_type": "code",
   "execution_count": 85,
   "metadata": {
    "collapsed": true
   },
   "outputs": [
    {
     "name": "stdout",
     "output_type": "stream",
     "text": [
      "+-----+----------+\n",
      "|label|prediction|\n",
      "+-----+----------+\n",
      "|  0.0|       0.0|\n",
      "|  0.0|       0.0|\n",
      "|  0.0|       0.0|\n",
      "|  0.0|       0.0|\n",
      "|  0.0|       0.0|\n",
      "|  0.0|       0.0|\n",
      "|  0.0|       0.0|\n",
      "|  0.0|       0.0|\n",
      "|  0.0|       0.0|\n",
      "|  0.0|       0.0|\n",
      "|  0.0|       0.0|\n",
      "|  0.0|       0.0|\n",
      "|  0.0|       0.0|\n",
      "|  0.0|       0.0|\n",
      "|  0.0|       0.0|\n",
      "|  0.0|       0.0|\n",
      "|  0.0|       0.0|\n",
      "|  0.0|       0.0|\n",
      "|  0.0|       0.0|\n",
      "|  0.0|       0.0|\n",
      "|  0.0|       0.0|\n",
      "|  0.0|       0.0|\n",
      "|  0.0|       0.0|\n",
      "|  0.0|       0.0|\n",
      "|  0.0|       0.0|\n",
      "|  0.0|       0.0|\n",
      "|  0.0|       0.0|\n",
      "|  0.0|       0.0|\n",
      "|  0.0|       0.0|\n",
      "|  0.0|       0.0|\n",
      "|  0.0|       0.0|\n",
      "|  0.0|       0.0|\n",
      "|  0.0|       0.0|\n",
      "|  0.0|       0.0|\n",
      "|  0.0|       0.0|\n",
      "|  0.0|       0.0|\n",
      "|  0.0|       0.0|\n",
      "|  0.0|       0.0|\n",
      "|  0.0|       0.0|\n",
      "|  0.0|       0.0|\n",
      "|  0.0|       0.0|\n",
      "|  0.0|       0.0|\n",
      "|  0.0|       0.0|\n",
      "|  0.0|       0.0|\n",
      "|  0.0|       0.0|\n",
      "|  0.0|       0.0|\n",
      "|  0.0|       0.0|\n",
      "|  0.0|       0.0|\n",
      "|  0.0|       0.0|\n",
      "|  0.0|       0.0|\n",
      "|  0.0|       0.0|\n",
      "|  0.0|       0.0|\n",
      "|  0.0|       0.0|\n",
      "|  0.0|       0.0|\n",
      "|  0.0|       0.0|\n",
      "|  0.0|       0.0|\n",
      "|  0.0|       0.0|\n",
      "|  0.0|       0.0|\n",
      "|  0.0|       0.0|\n",
      "|  0.0|       0.0|\n",
      "|  0.0|       0.0|\n",
      "|  0.0|       0.0|\n",
      "|  0.0|       0.0|\n",
      "|  0.0|       0.0|\n",
      "|  0.0|       0.0|\n",
      "|  0.0|       0.0|\n",
      "|  0.0|       0.0|\n",
      "|  0.0|       0.0|\n",
      "|  0.0|       0.0|\n",
      "|  0.0|       0.0|\n",
      "|  0.0|       0.0|\n",
      "|  0.0|       0.0|\n",
      "|  0.0|       0.0|\n",
      "|  0.0|       0.0|\n",
      "|  0.0|       0.0|\n",
      "|  0.0|       0.0|\n",
      "|  0.0|       0.0|\n",
      "|  0.0|       0.0|\n",
      "|  0.0|       0.0|\n",
      "|  0.0|       0.0|\n",
      "|  0.0|       0.0|\n",
      "|  0.0|       0.0|\n",
      "|  0.0|       0.0|\n",
      "|  0.0|       0.0|\n",
      "|  0.0|       0.0|\n",
      "|  0.0|       0.0|\n",
      "|  0.0|       0.0|\n",
      "|  0.0|       0.0|\n",
      "|  0.0|       0.0|\n",
      "|  0.0|       0.0|\n",
      "|  0.0|       0.0|\n",
      "|  0.0|       0.0|\n",
      "|  0.0|       0.0|\n",
      "|  0.0|       0.0|\n",
      "|  0.0|       0.0|\n",
      "|  0.0|       0.0|\n",
      "|  0.0|       0.0|\n",
      "|  0.0|       0.0|\n",
      "|  0.0|       0.0|\n",
      "|  0.0|       0.0|\n",
      "+-----+----------+\n",
      "only showing top 100 rows\n",
      "\n"
     ]
    }
   ],
   "source": [
    "res.predictions.select(\"label\",\"prediction\").show(100)"
   ]
  },
  {
   "cell_type": "code",
   "execution_count": 86,
   "metadata": {},
   "outputs": [
    {
     "data": {
      "text/plain": [
       "0.9657088148900543"
      ]
     },
     "execution_count": 86,
     "metadata": {},
     "output_type": "execute_result"
    }
   ],
   "source": [
    "res.areaUnderROC"
   ]
  },
  {
   "cell_type": "code",
   "execution_count": 87,
   "metadata": {
    "collapsed": true
   },
   "outputs": [],
   "source": [
    "modeloOK=LogisticRegression().fit(datosNuevos)"
   ]
  },
  {
   "cell_type": "code",
   "execution_count": 88,
   "metadata": {},
   "outputs": [
    {
     "data": {
      "text/plain": [
       "0.9998972479934239"
      ]
     },
     "execution_count": 88,
     "metadata": {},
     "output_type": "execute_result"
    }
   ],
   "source": [
    "modeloOK.summary.areaUnderROC"
   ]
  },
  {
   "cell_type": "code",
   "execution_count": null,
   "metadata": {},
   "outputs": [],
   "source": []
  },
  {
   "cell_type": "code",
   "execution_count": null,
   "metadata": {
    "collapsed": true
   },
   "outputs": [],
   "source": []
  },
  {
   "cell_type": "code",
   "execution_count": null,
   "metadata": {
    "collapsed": true
   },
   "outputs": [],
   "source": []
  }
 ],
 "metadata": {
  "kernelspec": {
   "display_name": "Python 3",
   "language": "python",
   "name": "python3"
  },
  "language_info": {
   "codemirror_mode": {
    "name": "ipython",
    "version": 3
   },
   "file_extension": ".py",
   "mimetype": "text/x-python",
   "name": "python",
   "nbconvert_exporter": "python",
   "pygments_lexer": "ipython3",
   "version": "3.5.2"
  }
 },
 "nbformat": 4,
 "nbformat_minor": 2
}
