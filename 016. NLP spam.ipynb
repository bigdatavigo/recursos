{
 "cells": [
  {
   "cell_type": "code",
   "execution_count": 2,
   "metadata": {
    "collapsed": true
   },
   "outputs": [],
   "source": [
    "datos=spark\\\n",
    "    .read.csv(\"SMSSpamCollection\",inferSchema=True,sep=\"\\t\")"
   ]
  },
  {
   "cell_type": "code",
   "execution_count": 3,
   "metadata": {
    "collapsed": true
   },
   "outputs": [
    {
     "name": "stdout",
     "output_type": "stream",
     "text": [
      "+----+--------------------+\n",
      "| _c0|                 _c1|\n",
      "+----+--------------------+\n",
      "| ham|Go until jurong p...|\n",
      "| ham|Ok lar... Joking ...|\n",
      "|spam|Free entry in 2 a...|\n",
      "| ham|U dun say so earl...|\n",
      "| ham|Nah I don't think...|\n",
      "|spam|FreeMsg Hey there...|\n",
      "| ham|Even my brother i...|\n",
      "| ham|As per your reque...|\n",
      "|spam|WINNER!! As a val...|\n",
      "|spam|Had your mobile 1...|\n",
      "| ham|I'm gonna be home...|\n",
      "|spam|SIX chances to wi...|\n",
      "|spam|URGENT! You have ...|\n",
      "| ham|I've been searchi...|\n",
      "| ham|I HAVE A DATE ON ...|\n",
      "|spam|XXXMobileMovieClu...|\n",
      "| ham|Oh k...i'm watchi...|\n",
      "| ham|Eh u remember how...|\n",
      "| ham|Fine if thats th...|\n",
      "|spam|England v Macedon...|\n",
      "+----+--------------------+\n",
      "only showing top 20 rows\n",
      "\n"
     ]
    }
   ],
   "source": [
    "datos.show()"
   ]
  },
  {
   "cell_type": "code",
   "execution_count": 4,
   "metadata": {
    "collapsed": true
   },
   "outputs": [
    {
     "data": {
      "text/plain": [
       "5574"
      ]
     },
     "execution_count": 4,
     "metadata": {},
     "output_type": "execute_result"
    }
   ],
   "source": [
    "datos.count()"
   ]
  },
  {
   "cell_type": "code",
   "execution_count": 6,
   "metadata": {
    "collapsed": true
   },
   "outputs": [
    {
     "data": {
      "text/plain": [
       "747"
      ]
     },
     "execution_count": 6,
     "metadata": {},
     "output_type": "execute_result"
    }
   ],
   "source": [
    "datos.where(\"_c0='spam'\").count()"
   ]
  },
  {
   "cell_type": "code",
   "execution_count": 7,
   "metadata": {
    "collapsed": true
   },
   "outputs": [
    {
     "data": {
      "text/plain": [
       "4827"
      ]
     },
     "execution_count": 7,
     "metadata": {},
     "output_type": "execute_result"
    }
   ],
   "source": [
    "datos.where(\"_c0='ham'\").count()"
   ]
  },
  {
   "cell_type": "code",
   "execution_count": 8,
   "metadata": {
    "collapsed": true
   },
   "outputs": [],
   "source": [
    "from pyspark.sql.functions import length"
   ]
  },
  {
   "cell_type": "code",
   "execution_count": 9,
   "metadata": {
    "collapsed": true
   },
   "outputs": [],
   "source": [
    "datos2=datos.withColumn(\"longitud\",length(\"_c1\"))"
   ]
  },
  {
   "cell_type": "code",
   "execution_count": 10,
   "metadata": {
    "collapsed": true
   },
   "outputs": [
    {
     "name": "stdout",
     "output_type": "stream",
     "text": [
      "+----+--------------------+--------+\n",
      "| _c0|                 _c1|longitud|\n",
      "+----+--------------------+--------+\n",
      "| ham|Go until jurong p...|     111|\n",
      "| ham|Ok lar... Joking ...|      29|\n",
      "|spam|Free entry in 2 a...|     155|\n",
      "| ham|U dun say so earl...|      49|\n",
      "| ham|Nah I don't think...|      61|\n",
      "|spam|FreeMsg Hey there...|     147|\n",
      "| ham|Even my brother i...|      77|\n",
      "| ham|As per your reque...|     160|\n",
      "|spam|WINNER!! As a val...|     157|\n",
      "|spam|Had your mobile 1...|     154|\n",
      "| ham|I'm gonna be home...|     109|\n",
      "|spam|SIX chances to wi...|     136|\n",
      "|spam|URGENT! You have ...|     155|\n",
      "| ham|I've been searchi...|     196|\n",
      "| ham|I HAVE A DATE ON ...|      35|\n",
      "|spam|XXXMobileMovieClu...|     149|\n",
      "| ham|Oh k...i'm watchi...|      26|\n",
      "| ham|Eh u remember how...|      81|\n",
      "| ham|Fine if thats th...|      56|\n",
      "|spam|England v Macedon...|     155|\n",
      "+----+--------------------+--------+\n",
      "only showing top 20 rows\n",
      "\n"
     ]
    }
   ],
   "source": [
    "datos2.show()"
   ]
  },
  {
   "cell_type": "code",
   "execution_count": 11,
   "metadata": {
    "collapsed": true
   },
   "outputs": [
    {
     "name": "stdout",
     "output_type": "stream",
     "text": [
      "+----+-----------------+\n",
      "| _c0|    avg(longitud)|\n",
      "+----+-----------------+\n",
      "| ham|71.45431945307645|\n",
      "|spam|138.6706827309237|\n",
      "+----+-----------------+\n",
      "\n"
     ]
    }
   ],
   "source": [
    "datos2.groupBy(\"_c0\").mean(\"longitud\").show()"
   ]
  },
  {
   "cell_type": "code",
   "execution_count": 12,
   "metadata": {
    "collapsed": true
   },
   "outputs": [
    {
     "name": "stdout",
     "output_type": "stream",
     "text": [
      "+----+-------------+\n",
      "| _c0|min(longitud)|\n",
      "+----+-------------+\n",
      "| ham|            2|\n",
      "|spam|           13|\n",
      "+----+-------------+\n",
      "\n"
     ]
    }
   ],
   "source": [
    "datos2.groupBy(\"_c0\").min(\"longitud\").show()"
   ]
  },
  {
   "cell_type": "code",
   "execution_count": 13,
   "metadata": {
    "collapsed": true
   },
   "outputs": [
    {
     "name": "stdout",
     "output_type": "stream",
     "text": [
      "+----+-------------+\n",
      "| _c0|max(longitud)|\n",
      "+----+-------------+\n",
      "| ham|          910|\n",
      "|spam|          223|\n",
      "+----+-------------+\n",
      "\n"
     ]
    }
   ],
   "source": [
    "datos2.groupBy(\"_c0\").max(\"longitud\").show()"
   ]
  },
  {
   "cell_type": "code",
   "execution_count": 14,
   "metadata": {
    "collapsed": true
   },
   "outputs": [
    {
     "name": "stdout",
     "output_type": "stream",
     "text": [
      "+----+--------------------+--------+\n",
      "| _c0|                 _c1|longitud|\n",
      "+----+--------------------+--------+\n",
      "| ham|Go until jurong p...|     111|\n",
      "| ham|Ok lar... Joking ...|      29|\n",
      "|spam|Free entry in 2 a...|     155|\n",
      "| ham|U dun say so earl...|      49|\n",
      "| ham|Nah I don't think...|      61|\n",
      "|spam|FreeMsg Hey there...|     147|\n",
      "| ham|Even my brother i...|      77|\n",
      "| ham|As per your reque...|     160|\n",
      "|spam|WINNER!! As a val...|     157|\n",
      "|spam|Had your mobile 1...|     154|\n",
      "| ham|I'm gonna be home...|     109|\n",
      "|spam|SIX chances to wi...|     136|\n",
      "|spam|URGENT! You have ...|     155|\n",
      "| ham|I've been searchi...|     196|\n",
      "| ham|I HAVE A DATE ON ...|      35|\n",
      "|spam|XXXMobileMovieClu...|     149|\n",
      "| ham|Oh k...i'm watchi...|      26|\n",
      "| ham|Eh u remember how...|      81|\n",
      "| ham|Fine if thats th...|      56|\n",
      "|spam|England v Macedon...|     155|\n",
      "+----+--------------------+--------+\n",
      "only showing top 20 rows\n",
      "\n"
     ]
    }
   ],
   "source": [
    "datos2.show()"
   ]
  },
  {
   "cell_type": "code",
   "execution_count": 15,
   "metadata": {
    "collapsed": true
   },
   "outputs": [],
   "source": [
    "from pyspark.ml.feature import (StringIndexer,VectorAssembler,\n",
    "        RegexTokenizer,StopWordsRemover,CountVectorizer,IDF)"
   ]
  },
  {
   "cell_type": "code",
   "execution_count": 20,
   "metadata": {
    "collapsed": true
   },
   "outputs": [],
   "source": [
    "indexador=StringIndexer(inputCol=\"_c0\",outputCol=\"label\")\n",
    "datosI=indexador.fit(datos2).transform(datos2).drop(\"_c0\")"
   ]
  },
  {
   "cell_type": "code",
   "execution_count": 21,
   "metadata": {
    "collapsed": true
   },
   "outputs": [
    {
     "name": "stdout",
     "output_type": "stream",
     "text": [
      "+--------------------+--------+-----+\n",
      "|                 _c1|longitud|label|\n",
      "+--------------------+--------+-----+\n",
      "|Go until jurong p...|     111|  0.0|\n",
      "|Ok lar... Joking ...|      29|  0.0|\n",
      "|Free entry in 2 a...|     155|  1.0|\n",
      "|U dun say so earl...|      49|  0.0|\n",
      "|Nah I don't think...|      61|  0.0|\n",
      "|FreeMsg Hey there...|     147|  1.0|\n",
      "|Even my brother i...|      77|  0.0|\n",
      "|As per your reque...|     160|  0.0|\n",
      "|WINNER!! As a val...|     157|  1.0|\n",
      "|Had your mobile 1...|     154|  1.0|\n",
      "|I'm gonna be home...|     109|  0.0|\n",
      "|SIX chances to wi...|     136|  1.0|\n",
      "|URGENT! You have ...|     155|  1.0|\n",
      "|I've been searchi...|     196|  0.0|\n",
      "|I HAVE A DATE ON ...|      35|  0.0|\n",
      "|XXXMobileMovieClu...|     149|  1.0|\n",
      "|Oh k...i'm watchi...|      26|  0.0|\n",
      "|Eh u remember how...|      81|  0.0|\n",
      "|Fine if thats th...|      56|  0.0|\n",
      "|England v Macedon...|     155|  1.0|\n",
      "+--------------------+--------+-----+\n",
      "only showing top 20 rows\n",
      "\n"
     ]
    }
   ],
   "source": [
    "datosI.show()"
   ]
  },
  {
   "cell_type": "code",
   "execution_count": 22,
   "metadata": {
    "collapsed": true
   },
   "outputs": [],
   "source": [
    "reTokenizer=RegexTokenizer(inputCol=\"_c1\",\n",
    "                           outputCol=\"palabras\",\n",
    "                          pattern=\"[ \\,\\.\\?\\!\\;\\(\\)]+\")"
   ]
  },
  {
   "cell_type": "code",
   "execution_count": 23,
   "metadata": {
    "collapsed": true
   },
   "outputs": [],
   "source": [
    "datosT=reTokenizer.transform(datosI)"
   ]
  },
  {
   "cell_type": "code",
   "execution_count": 24,
   "metadata": {},
   "outputs": [
    {
     "name": "stdout",
     "output_type": "stream",
     "text": [
      "+--------------------+--------+-----+--------------------+\n",
      "|                 _c1|longitud|label|            palabras|\n",
      "+--------------------+--------+-----+--------------------+\n",
      "|Go until jurong p...|     111|  0.0|[go, until, juron...|\n",
      "|Ok lar... Joking ...|      29|  0.0|[ok, lar, joking,...|\n",
      "|Free entry in 2 a...|     155|  1.0|[free, entry, in,...|\n",
      "|U dun say so earl...|      49|  0.0|[u, dun, say, so,...|\n",
      "|Nah I don't think...|      61|  0.0|[nah, i, don't, t...|\n",
      "|FreeMsg Hey there...|     147|  1.0|[freemsg, hey, th...|\n",
      "|Even my brother i...|      77|  0.0|[even, my, brothe...|\n",
      "|As per your reque...|     160|  0.0|[as, per, your, r...|\n",
      "|WINNER!! As a val...|     157|  1.0|[winner, as, a, v...|\n",
      "|Had your mobile 1...|     154|  1.0|[had, your, mobil...|\n",
      "|I'm gonna be home...|     109|  0.0|[i'm, gonna, be, ...|\n",
      "|SIX chances to wi...|     136|  1.0|[six, chances, to...|\n",
      "|URGENT! You have ...|     155|  1.0|[urgent, you, hav...|\n",
      "|I've been searchi...|     196|  0.0|[i've, been, sear...|\n",
      "|I HAVE A DATE ON ...|      35|  0.0|[i, have, a, date...|\n",
      "|XXXMobileMovieClu...|     149|  1.0|[xxxmobilemoviecl...|\n",
      "|Oh k...i'm watchi...|      26|  0.0|[oh, k, i'm, watc...|\n",
      "|Eh u remember how...|      81|  0.0|[eh, u, remember,...|\n",
      "|Fine if thats th...|      56|  0.0|[fine, if, thats...|\n",
      "|England v Macedon...|     155|  1.0|[england, v, mace...|\n",
      "+--------------------+--------+-----+--------------------+\n",
      "only showing top 20 rows\n",
      "\n"
     ]
    }
   ],
   "source": [
    "datosT.show()"
   ]
  },
  {
   "cell_type": "code",
   "execution_count": 28,
   "metadata": {},
   "outputs": [
    {
     "data": {
      "text/plain": [
       "['i',\n",
       " 'me',\n",
       " 'my',\n",
       " 'myself',\n",
       " 'we',\n",
       " 'our',\n",
       " 'ours',\n",
       " 'ourselves',\n",
       " 'you',\n",
       " 'your',\n",
       " 'yours',\n",
       " 'yourself',\n",
       " 'yourselves',\n",
       " 'he',\n",
       " 'him',\n",
       " 'his',\n",
       " 'himself',\n",
       " 'she',\n",
       " 'her',\n",
       " 'hers',\n",
       " 'herself',\n",
       " 'it',\n",
       " 'its',\n",
       " 'itself',\n",
       " 'they',\n",
       " 'them',\n",
       " 'their',\n",
       " 'theirs',\n",
       " 'themselves',\n",
       " 'what',\n",
       " 'which',\n",
       " 'who',\n",
       " 'whom',\n",
       " 'this',\n",
       " 'that',\n",
       " 'these',\n",
       " 'those',\n",
       " 'am',\n",
       " 'is',\n",
       " 'are',\n",
       " 'was',\n",
       " 'were',\n",
       " 'be',\n",
       " 'been',\n",
       " 'being',\n",
       " 'have',\n",
       " 'has',\n",
       " 'had',\n",
       " 'having',\n",
       " 'do',\n",
       " 'does',\n",
       " 'did',\n",
       " 'doing',\n",
       " 'a',\n",
       " 'an',\n",
       " 'the',\n",
       " 'and',\n",
       " 'but',\n",
       " 'if',\n",
       " 'or',\n",
       " 'because',\n",
       " 'as',\n",
       " 'until',\n",
       " 'while',\n",
       " 'of',\n",
       " 'at',\n",
       " 'by',\n",
       " 'for',\n",
       " 'with',\n",
       " 'about',\n",
       " 'against',\n",
       " 'between',\n",
       " 'into',\n",
       " 'through',\n",
       " 'during',\n",
       " 'before',\n",
       " 'after',\n",
       " 'above',\n",
       " 'below',\n",
       " 'to',\n",
       " 'from',\n",
       " 'up',\n",
       " 'down',\n",
       " 'in',\n",
       " 'out',\n",
       " 'on',\n",
       " 'off',\n",
       " 'over',\n",
       " 'under',\n",
       " 'again',\n",
       " 'further',\n",
       " 'then',\n",
       " 'once',\n",
       " 'here',\n",
       " 'there',\n",
       " 'when',\n",
       " 'where',\n",
       " 'why',\n",
       " 'how',\n",
       " 'all',\n",
       " 'any',\n",
       " 'both',\n",
       " 'each',\n",
       " 'few',\n",
       " 'more',\n",
       " 'most',\n",
       " 'other',\n",
       " 'some',\n",
       " 'such',\n",
       " 'no',\n",
       " 'nor',\n",
       " 'not',\n",
       " 'only',\n",
       " 'own',\n",
       " 'same',\n",
       " 'so',\n",
       " 'than',\n",
       " 'too',\n",
       " 'very',\n",
       " 's',\n",
       " 't',\n",
       " 'can',\n",
       " 'will',\n",
       " 'just',\n",
       " 'don',\n",
       " 'should',\n",
       " 'now',\n",
       " \"i'll\",\n",
       " \"you'll\",\n",
       " \"he'll\",\n",
       " \"she'll\",\n",
       " \"we'll\",\n",
       " \"they'll\",\n",
       " \"i'd\",\n",
       " \"you'd\",\n",
       " \"he'd\",\n",
       " \"she'd\",\n",
       " \"we'd\",\n",
       " \"they'd\",\n",
       " \"i'm\",\n",
       " \"you're\",\n",
       " \"he's\",\n",
       " \"she's\",\n",
       " \"it's\",\n",
       " \"we're\",\n",
       " \"they're\",\n",
       " \"i've\",\n",
       " \"we've\",\n",
       " \"you've\",\n",
       " \"they've\",\n",
       " \"isn't\",\n",
       " \"aren't\",\n",
       " \"wasn't\",\n",
       " \"weren't\",\n",
       " \"haven't\",\n",
       " \"hasn't\",\n",
       " \"hadn't\",\n",
       " \"don't\",\n",
       " \"doesn't\",\n",
       " \"didn't\",\n",
       " \"won't\",\n",
       " \"wouldn't\",\n",
       " \"shan't\",\n",
       " \"shouldn't\",\n",
       " \"mustn't\",\n",
       " \"can't\",\n",
       " \"couldn't\",\n",
       " 'cannot',\n",
       " 'could',\n",
       " \"here's\",\n",
       " \"how's\",\n",
       " \"let's\",\n",
       " 'ought',\n",
       " \"that's\",\n",
       " \"there's\",\n",
       " \"what's\",\n",
       " \"when's\",\n",
       " \"where's\",\n",
       " \"who's\",\n",
       " \"why's\",\n",
       " 'would']"
      ]
     },
     "execution_count": 28,
     "metadata": {},
     "output_type": "execute_result"
    }
   ],
   "source": [
    "StopWordsRemover().loadDefaultStopWords(\"english\")"
   ]
  },
  {
   "cell_type": "code",
   "execution_count": 29,
   "metadata": {},
   "outputs": [],
   "source": [
    "filtro=StopWordsRemover(inputCol=\"palabras\",\n",
    "                        outputCol=\"filtradas\")"
   ]
  },
  {
   "cell_type": "code",
   "execution_count": 34,
   "metadata": {},
   "outputs": [],
   "source": [
    "datosF=filtro.transform(datosT).drop(\"_c1\",\"palabras\")"
   ]
  },
  {
   "cell_type": "code",
   "execution_count": 35,
   "metadata": {},
   "outputs": [
    {
     "name": "stdout",
     "output_type": "stream",
     "text": [
      "+--------+-----+--------------------+\n",
      "|longitud|label|           filtradas|\n",
      "+--------+-----+--------------------+\n",
      "|     111|  0.0|[go, jurong, poin...|\n",
      "|      29|  0.0|[ok, lar, joking,...|\n",
      "|     155|  1.0|[free, entry, 2, ...|\n",
      "|      49|  0.0|[u, dun, say, ear...|\n",
      "|      61|  0.0|[nah, think, goes...|\n",
      "|     147|  1.0|[freemsg, hey, da...|\n",
      "|      77|  0.0|[even, brother, l...|\n",
      "|     160|  0.0|[per, request, 'm...|\n",
      "|     157|  1.0|[winner, valued, ...|\n",
      "|     154|  1.0|[mobile, 11, mont...|\n",
      "|     109|  0.0|[gonna, home, soo...|\n",
      "|     136|  1.0|[six, chances, wi...|\n",
      "|     155|  1.0|[urgent, won, 1, ...|\n",
      "|     196|  0.0|[searching, right...|\n",
      "|      35|  0.0|      [date, sunday]|\n",
      "|     149|  1.0|[xxxmobilemoviecl...|\n",
      "|      26|  0.0|[oh, k, watching,...|\n",
      "|      81|  0.0|[eh, u, remember,...|\n",
      "|      56|  0.0|[fine, thats, wa...|\n",
      "|     155|  1.0|[england, v, mace...|\n",
      "+--------+-----+--------------------+\n",
      "only showing top 20 rows\n",
      "\n"
     ]
    }
   ],
   "source": [
    "datosF.show()"
   ]
  },
  {
   "cell_type": "code",
   "execution_count": 36,
   "metadata": {},
   "outputs": [],
   "source": [
    "cv=CountVectorizer(inputCol=\"filtradas\",outputCol=\"cv\")"
   ]
  },
  {
   "cell_type": "code",
   "execution_count": 39,
   "metadata": {},
   "outputs": [],
   "source": [
    "datoscv=cv.fit(datosF).transform(datosF)"
   ]
  },
  {
   "cell_type": "code",
   "execution_count": 42,
   "metadata": {},
   "outputs": [
    {
     "name": "stdout",
     "output_type": "stream",
     "text": [
      "+--------+-----+--------------------+--------------------+\n",
      "|longitud|label|           filtradas|                  cv|\n",
      "+--------+-----+--------------------+--------------------+\n",
      "|     111|  0.0|[go, jurong, poin...|(9493,[8,14,35,55...|\n",
      "+--------+-----+--------------------+--------------------+\n",
      "only showing top 1 row\n",
      "\n"
     ]
    }
   ],
   "source": [
    "datoscv.show(1)"
   ]
  },
  {
   "cell_type": "code",
   "execution_count": 43,
   "metadata": {},
   "outputs": [],
   "source": [
    "idf=IDF(inputCol=\"cv\",outputCol=\"idf\")"
   ]
  },
  {
   "cell_type": "code",
   "execution_count": 44,
   "metadata": {},
   "outputs": [],
   "source": [
    "datosIdf=idf.fit(datoscv).transform(datoscv)"
   ]
  },
  {
   "cell_type": "code",
   "execution_count": 48,
   "metadata": {},
   "outputs": [
    {
     "name": "stdout",
     "output_type": "stream",
     "text": [
      "-RECORD 0--------------------------------------------------------------------------------------------------------------------------------------------------------------------------------------------------------------------------------------------------------------------------------------------------------------------------------------------------------------------------\n",
      " cv  | (9493,[8,14,35,55,71,85,316,530,661,759,1232,1272,1288,2962,7205,7924],[1.0,1.0,1.0,1.0,1.0,1.0,1.0,1.0,1.0,1.0,1.0,1.0,1.0,1.0,1.0,1.0])                                                                                                                                                                                                                                   \n",
      " idf | (9493,[8,14,35,55,71,85,316,530,661,759,1232,1272,1288,2962,7205,7924],[3.0500984931820034,3.19232559277408,3.7977338590260183,3.934699714099176,4.061699404860483,4.256599743861298,5.224850214666164,5.681608617161879,5.986990266713061,5.986990266713061,6.546606054648484,6.546606054648484,6.546606054648484,7.52743530766021,7.9329004157683745,7.9329004157683745]) \n",
      "only showing top 1 row\n",
      "\n"
     ]
    }
   ],
   "source": [
    "datosIdf.select(\"cv\",\"idf\").show(1,vertical=True,truncate=False)"
   ]
  },
  {
   "cell_type": "code",
   "execution_count": 49,
   "metadata": {},
   "outputs": [
    {
     "name": "stdout",
     "output_type": "stream",
     "text": [
      "root\n",
      " |-- longitud: integer (nullable = true)\n",
      " |-- label: double (nullable = false)\n",
      " |-- filtradas: array (nullable = true)\n",
      " |    |-- element: string (containsNull = true)\n",
      " |-- cv: vector (nullable = true)\n",
      " |-- idf: vector (nullable = true)\n",
      "\n"
     ]
    }
   ],
   "source": [
    "datosIdf.printSchema()"
   ]
  },
  {
   "cell_type": "code",
   "execution_count": 51,
   "metadata": {},
   "outputs": [],
   "source": [
    "constructor=VectorAssembler(inputCols=[\"longitud\",\"idf\"],\n",
    "                            outputCol=\"features\")\n",
    "\n",
    "datosNuevos=constructor.transform(datosIdf)"
   ]
  },
  {
   "cell_type": "code",
   "execution_count": 52,
   "metadata": {},
   "outputs": [
    {
     "name": "stdout",
     "output_type": "stream",
     "text": [
      "+--------+-----+--------------------+--------------------+--------------------+--------------------+\n",
      "|longitud|label|           filtradas|                  cv|                 idf|            features|\n",
      "+--------+-----+--------------------+--------------------+--------------------+--------------------+\n",
      "|     111|  0.0|[go, jurong, poin...|(9493,[8,14,35,55...|(9493,[8,14,35,55...|(9494,[0,9,15,36,...|\n",
      "|      29|  0.0|[ok, lar, joking,...|(9493,[0,6,229,35...|(9493,[0,6,229,35...|(9494,[0,1,7,230,...|\n",
      "|     155|  1.0|[free, entry, 2, ...|(9493,[2,10,21,31...|(9493,[2,10,21,31...|(9494,[0,3,11,22,...|\n",
      "|      49|  0.0|[u, dun, say, ear...|(9493,[0,76,78,87...|(9493,[0,76,78,87...|(9494,[0,1,77,79,...|\n",
      "|      61|  0.0|[nah, think, goes...|(9493,[46,131,352...|(9493,[46,131,352...|(9494,[0,47,132,3...|\n",
      "|     147|  1.0|[freemsg, hey, da...|(9493,[6,12,19,30...|(9493,[6,12,19,30...|(9494,[0,7,13,20,...|\n",
      "|      77|  0.0|[even, brother, l...|(9493,[12,122,290...|(9493,[12,122,290...|(9494,[0,13,123,2...|\n",
      "|     160|  0.0|[per, request, 'm...|(9493,[140,153,49...|(9493,[140,153,49...|(9494,[0,141,154,...|\n",
      "|     157|  1.0|[winner, valued, ...|(9493,[1,57,72,14...|(9493,[1,57,72,14...|(9494,[0,2,58,73,...|\n",
      "|     154|  1.0|[mobile, 11, mont...|(9493,[0,1,10,32,...|(9493,[0,1,10,32,...|(9494,[0,1,2,11,3...|\n",
      "|     109|  0.0|[gonna, home, soo...|(9493,[20,26,36,4...|(9493,[20,26,36,4...|(9494,[0,21,27,37...|\n",
      "|     136|  1.0|[six, chances, wi...|(9493,[7,19,37,98...|(9493,[7,19,37,98...|(9494,[0,8,20,38,...|\n",
      "|     155|  1.0|[urgent, won, 1, ...|(9493,[10,31,56,5...|(9493,[10,31,56,5...|(9494,[0,11,32,57...|\n",
      "|     196|  0.0|[searching, right...|(9493,[39,75,170,...|(9493,[39,75,170,...|(9494,[0,40,76,17...|\n",
      "|      35|  0.0|      [date, sunday]|(9493,[540,822],[...|(9493,[540,822],[...|(9494,[0,541,823]...|\n",
      "|     149|  1.0|[xxxmobilemoviecl...|(9493,[31,79,118,...|(9493,[31,79,118,...|(9494,[0,32,80,11...|\n",
      "|      26|  0.0|[oh, k, watching,...|(9493,[49,62,261,...|(9493,[49,62,261,...|(9494,[0,50,63,26...|\n",
      "|      81|  0.0|[eh, u, remember,...|(9493,[0,2,69,73,...|(9493,[0,2,69,73,...|(9494,[0,1,3,70,7...|\n",
      "|      56|  0.0|[fine, thats, wa...|(9493,[0,70,115,1...|(9493,[0,70,115,1...|(9494,[0,1,71,116...|\n",
      "|     155|  1.0|[england, v, mace...|(9493,[3,31,38,64...|(9493,[3,31,38,64...|(9494,[0,4,32,39,...|\n",
      "+--------+-----+--------------------+--------------------+--------------------+--------------------+\n",
      "only showing top 20 rows\n",
      "\n"
     ]
    }
   ],
   "source": [
    "datosNuevos.show()"
   ]
  },
  {
   "cell_type": "code",
   "execution_count": 55,
   "metadata": {},
   "outputs": [],
   "source": [
    "from pyspark.ml.classification import (LogisticRegression,\n",
    "                                       RandomForestClassifier)\n",
    "from pyspark.ml.evaluation import (BinaryClassificationEvaluator,\n",
    "                                   MulticlassClassificationEvaluator)"
   ]
  },
  {
   "cell_type": "code",
   "execution_count": 56,
   "metadata": {},
   "outputs": [],
   "source": [
    "entrena,evalua=datosNuevos.randomSplit([0.8,0.2])"
   ]
  },
  {
   "cell_type": "code",
   "execution_count": 57,
   "metadata": {},
   "outputs": [],
   "source": [
    "lr=LogisticRegression()\n",
    "rf=RandomForestClassifier(numTrees=100)"
   ]
  },
  {
   "cell_type": "code",
   "execution_count": 59,
   "metadata": {},
   "outputs": [],
   "source": [
    "modeloLr=lr.fit(entrena)\n",
    "modelorRf=rf.fit(entrena)"
   ]
  },
  {
   "cell_type": "code",
   "execution_count": 61,
   "metadata": {},
   "outputs": [],
   "source": [
    "predLr=modeloLr.transform(evalua)\n",
    "predRf=modelorRf.transform(evalua)"
   ]
  },
  {
   "cell_type": "code",
   "execution_count": 62,
   "metadata": {},
   "outputs": [],
   "source": [
    "evaluadorB=BinaryClassificationEvaluator()\n",
    "evaluadorM=MulticlassClassificationEvaluator(metricName=\"accuracy\")"
   ]
  },
  {
   "cell_type": "code",
   "execution_count": 63,
   "metadata": {},
   "outputs": [
    {
     "data": {
      "text/plain": [
       "(0.9695050190377248, 0.97214734950584)"
      ]
     },
     "execution_count": 63,
     "metadata": {},
     "output_type": "execute_result"
    }
   ],
   "source": [
    "evaluadorB.evaluate(predLr),evaluadorM.evaluate(predLr)"
   ]
  },
  {
   "cell_type": "code",
   "execution_count": 64,
   "metadata": {},
   "outputs": [
    {
     "data": {
      "text/plain": [
       "(0.9860782277604706, 0.8661275831087152)"
      ]
     },
     "execution_count": 64,
     "metadata": {},
     "output_type": "execute_result"
    }
   ],
   "source": [
    "evaluadorB.evaluate(predRf),evaluadorM.evaluate(predRf)"
   ]
  },
  {
   "cell_type": "code",
   "execution_count": 66,
   "metadata": {},
   "outputs": [
    {
     "name": "stdout",
     "output_type": "stream",
     "text": [
      "+-----+----------+\n",
      "|label|prediction|\n",
      "+-----+----------+\n",
      "|  0.0|       0.0|\n",
      "|  0.0|       0.0|\n",
      "|  0.0|       0.0|\n",
      "|  0.0|       0.0|\n",
      "|  0.0|       0.0|\n",
      "|  0.0|       0.0|\n",
      "|  0.0|       0.0|\n",
      "|  0.0|       0.0|\n",
      "|  0.0|       0.0|\n",
      "|  0.0|       0.0|\n",
      "|  0.0|       0.0|\n",
      "|  0.0|       0.0|\n",
      "|  0.0|       0.0|\n",
      "|  0.0|       0.0|\n",
      "|  0.0|       0.0|\n",
      "|  0.0|       0.0|\n",
      "|  0.0|       0.0|\n",
      "|  0.0|       0.0|\n",
      "|  0.0|       0.0|\n",
      "|  0.0|       0.0|\n",
      "|  0.0|       0.0|\n",
      "|  0.0|       0.0|\n",
      "|  0.0|       0.0|\n",
      "|  0.0|       0.0|\n",
      "|  0.0|       0.0|\n",
      "|  0.0|       0.0|\n",
      "|  0.0|       0.0|\n",
      "|  0.0|       0.0|\n",
      "|  0.0|       0.0|\n",
      "|  0.0|       0.0|\n",
      "|  0.0|       0.0|\n",
      "|  0.0|       0.0|\n",
      "|  0.0|       0.0|\n",
      "|  0.0|       0.0|\n",
      "|  0.0|       0.0|\n",
      "|  0.0|       0.0|\n",
      "|  0.0|       0.0|\n",
      "|  0.0|       0.0|\n",
      "|  0.0|       0.0|\n",
      "|  0.0|       0.0|\n",
      "|  0.0|       0.0|\n",
      "|  0.0|       0.0|\n",
      "|  0.0|       0.0|\n",
      "|  0.0|       0.0|\n",
      "|  0.0|       0.0|\n",
      "|  0.0|       0.0|\n",
      "|  0.0|       0.0|\n",
      "|  0.0|       0.0|\n",
      "|  0.0|       0.0|\n",
      "|  0.0|       0.0|\n",
      "|  0.0|       0.0|\n",
      "|  0.0|       0.0|\n",
      "|  0.0|       0.0|\n",
      "|  0.0|       0.0|\n",
      "|  0.0|       0.0|\n",
      "|  0.0|       0.0|\n",
      "|  0.0|       0.0|\n",
      "|  0.0|       0.0|\n",
      "|  0.0|       0.0|\n",
      "|  0.0|       0.0|\n",
      "|  0.0|       0.0|\n",
      "|  0.0|       0.0|\n",
      "|  0.0|       0.0|\n",
      "|  0.0|       0.0|\n",
      "|  0.0|       0.0|\n",
      "|  0.0|       0.0|\n",
      "|  0.0|       0.0|\n",
      "|  0.0|       0.0|\n",
      "|  0.0|       0.0|\n",
      "|  0.0|       0.0|\n",
      "|  0.0|       0.0|\n",
      "|  0.0|       0.0|\n",
      "|  0.0|       0.0|\n",
      "|  0.0|       0.0|\n",
      "|  0.0|       0.0|\n",
      "|  0.0|       0.0|\n",
      "|  0.0|       0.0|\n",
      "|  0.0|       0.0|\n",
      "|  0.0|       0.0|\n",
      "|  0.0|       0.0|\n",
      "|  0.0|       0.0|\n",
      "|  0.0|       0.0|\n",
      "|  0.0|       0.0|\n",
      "|  0.0|       0.0|\n",
      "|  0.0|       0.0|\n",
      "|  0.0|       0.0|\n",
      "|  0.0|       0.0|\n",
      "|  0.0|       0.0|\n",
      "|  0.0|       0.0|\n",
      "|  0.0|       0.0|\n",
      "|  0.0|       0.0|\n",
      "|  0.0|       0.0|\n",
      "|  0.0|       0.0|\n",
      "|  0.0|       0.0|\n",
      "|  0.0|       0.0|\n",
      "|  0.0|       0.0|\n",
      "|  0.0|       0.0|\n",
      "|  0.0|       0.0|\n",
      "|  0.0|       0.0|\n",
      "|  0.0|       0.0|\n",
      "+-----+----------+\n",
      "only showing top 100 rows\n",
      "\n"
     ]
    }
   ],
   "source": [
    "predLr.select(\"label\",\"prediction\").show(100)"
   ]
  },
  {
   "cell_type": "code",
   "execution_count": null,
   "metadata": {},
   "outputs": [],
   "source": []
  }
 ],
 "metadata": {
  "kernelspec": {
   "display_name": "Python 3",
   "language": "python",
   "name": "python3"
  },
  "language_info": {
   "codemirror_mode": {
    "name": "ipython",
    "version": 3
   },
   "file_extension": ".py",
   "mimetype": "text/x-python",
   "name": "python",
   "nbconvert_exporter": "python",
   "pygments_lexer": "ipython3",
   "version": "3.5.2"
  }
 },
 "nbformat": 4,
 "nbformat_minor": 2
}
