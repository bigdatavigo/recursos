{
 "cells": [
  {
   "cell_type": "code",
   "execution_count": 2,
   "metadata": {
    "collapsed": true
   },
   "outputs": [],
   "source": [
    "datos=spark\\\n",
    "    .read.csv(\"SMSSpamCollection\",inferSchema=True,sep=\"\\t\")"
   ]
  },
  {
   "cell_type": "code",
   "execution_count": 3,
   "metadata": {
    "collapsed": true
   },
   "outputs": [
    {
     "name": "stdout",
     "output_type": "stream",
     "text": [
      "+----+--------------------+\n",
      "| _c0|                 _c1|\n",
      "+----+--------------------+\n",
      "| ham|Go until jurong p...|\n",
      "| ham|Ok lar... Joking ...|\n",
      "|spam|Free entry in 2 a...|\n",
      "| ham|U dun say so earl...|\n",
      "| ham|Nah I don't think...|\n",
      "|spam|FreeMsg Hey there...|\n",
      "| ham|Even my brother i...|\n",
      "| ham|As per your reque...|\n",
      "|spam|WINNER!! As a val...|\n",
      "|spam|Had your mobile 1...|\n",
      "| ham|I'm gonna be home...|\n",
      "|spam|SIX chances to wi...|\n",
      "|spam|URGENT! You have ...|\n",
      "| ham|I've been searchi...|\n",
      "| ham|I HAVE A DATE ON ...|\n",
      "|spam|XXXMobileMovieClu...|\n",
      "| ham|Oh k...i'm watchi...|\n",
      "| ham|Eh u remember how...|\n",
      "| ham|Fine if thats th...|\n",
      "|spam|England v Macedon...|\n",
      "+----+--------------------+\n",
      "only showing top 20 rows\n",
      "\n"
     ]
    }
   ],
   "source": [
    "datos.show()"
   ]
  },
  {
   "cell_type": "code",
   "execution_count": 4,
   "metadata": {
    "collapsed": true
   },
   "outputs": [
    {
     "data": {
      "text/plain": [
       "5574"
      ]
     },
     "execution_count": 4,
     "metadata": {},
     "output_type": "execute_result"
    }
   ],
   "source": [
    "datos.count()"
   ]
  },
  {
   "cell_type": "code",
   "execution_count": 6,
   "metadata": {
    "collapsed": true
   },
   "outputs": [
    {
     "data": {
      "text/plain": [
       "747"
      ]
     },
     "execution_count": 6,
     "metadata": {},
     "output_type": "execute_result"
    }
   ],
   "source": [
    "datos.where(\"_c0='spam'\").count()"
   ]
  },
  {
   "cell_type": "code",
   "execution_count": 7,
   "metadata": {
    "collapsed": true
   },
   "outputs": [
    {
     "data": {
      "text/plain": [
       "4827"
      ]
     },
     "execution_count": 7,
     "metadata": {},
     "output_type": "execute_result"
    }
   ],
   "source": [
    "datos.where(\"_c0='ham'\").count()"
   ]
  },
  {
   "cell_type": "code",
   "execution_count": 8,
   "metadata": {
    "collapsed": true
   },
   "outputs": [],
   "source": [
    "from pyspark.sql.functions import length"
   ]
  },
  {
   "cell_type": "code",
   "execution_count": 9,
   "metadata": {
    "collapsed": true
   },
   "outputs": [],
   "source": [
    "datos2=datos.withColumn(\"longitud\",length(\"_c1\"))"
   ]
  },
  {
   "cell_type": "code",
   "execution_count": 10,
   "metadata": {
    "collapsed": true
   },
   "outputs": [
    {
     "name": "stdout",
     "output_type": "stream",
     "text": [
      "+----+--------------------+--------+\n",
      "| _c0|                 _c1|longitud|\n",
      "+----+--------------------+--------+\n",
      "| ham|Go until jurong p...|     111|\n",
      "| ham|Ok lar... Joking ...|      29|\n",
      "|spam|Free entry in 2 a...|     155|\n",
      "| ham|U dun say so earl...|      49|\n",
      "| ham|Nah I don't think...|      61|\n",
      "|spam|FreeMsg Hey there...|     147|\n",
      "| ham|Even my brother i...|      77|\n",
      "| ham|As per your reque...|     160|\n",
      "|spam|WINNER!! As a val...|     157|\n",
      "|spam|Had your mobile 1...|     154|\n",
      "| ham|I'm gonna be home...|     109|\n",
      "|spam|SIX chances to wi...|     136|\n",
      "|spam|URGENT! You have ...|     155|\n",
      "| ham|I've been searchi...|     196|\n",
      "| ham|I HAVE A DATE ON ...|      35|\n",
      "|spam|XXXMobileMovieClu...|     149|\n",
      "| ham|Oh k...i'm watchi...|      26|\n",
      "| ham|Eh u remember how...|      81|\n",
      "| ham|Fine if thats th...|      56|\n",
      "|spam|England v Macedon...|     155|\n",
      "+----+--------------------+--------+\n",
      "only showing top 20 rows\n",
      "\n"
     ]
    }
   ],
   "source": [
    "datos2.show()"
   ]
  },
  {
   "cell_type": "code",
   "execution_count": 11,
   "metadata": {
    "collapsed": true
   },
   "outputs": [
    {
     "name": "stdout",
     "output_type": "stream",
     "text": [
      "+----+-----------------+\n",
      "| _c0|    avg(longitud)|\n",
      "+----+-----------------+\n",
      "| ham|71.45431945307645|\n",
      "|spam|138.6706827309237|\n",
      "+----+-----------------+\n",
      "\n"
     ]
    }
   ],
   "source": [
    "datos2.groupBy(\"_c0\").mean(\"longitud\").show()"
   ]
  },
  {
   "cell_type": "code",
   "execution_count": 12,
   "metadata": {
    "collapsed": true
   },
   "outputs": [
    {
     "name": "stdout",
     "output_type": "stream",
     "text": [
      "+----+-------------+\n",
      "| _c0|min(longitud)|\n",
      "+----+-------------+\n",
      "| ham|            2|\n",
      "|spam|           13|\n",
      "+----+-------------+\n",
      "\n"
     ]
    }
   ],
   "source": [
    "datos2.groupBy(\"_c0\").min(\"longitud\").show()"
   ]
  },
  {
   "cell_type": "code",
   "execution_count": 13,
   "metadata": {
    "collapsed": true
   },
   "outputs": [
    {
     "name": "stdout",
     "output_type": "stream",
     "text": [
      "+----+-------------+\n",
      "| _c0|max(longitud)|\n",
      "+----+-------------+\n",
      "| ham|          910|\n",
      "|spam|          223|\n",
      "+----+-------------+\n",
      "\n"
     ]
    }
   ],
   "source": [
    "datos2.groupBy(\"_c0\").max(\"longitud\").show()"
   ]
  },
  {
   "cell_type": "code",
   "execution_count": 14,
   "metadata": {
    "collapsed": true
   },
   "outputs": [
    {
     "name": "stdout",
     "output_type": "stream",
     "text": [
      "+----+--------------------+--------+\n",
      "| _c0|                 _c1|longitud|\n",
      "+----+--------------------+--------+\n",
      "| ham|Go until jurong p...|     111|\n",
      "| ham|Ok lar... Joking ...|      29|\n",
      "|spam|Free entry in 2 a...|     155|\n",
      "| ham|U dun say so earl...|      49|\n",
      "| ham|Nah I don't think...|      61|\n",
      "|spam|FreeMsg Hey there...|     147|\n",
      "| ham|Even my brother i...|      77|\n",
      "| ham|As per your reque...|     160|\n",
      "|spam|WINNER!! As a val...|     157|\n",
      "|spam|Had your mobile 1...|     154|\n",
      "| ham|I'm gonna be home...|     109|\n",
      "|spam|SIX chances to wi...|     136|\n",
      "|spam|URGENT! You have ...|     155|\n",
      "| ham|I've been searchi...|     196|\n",
      "| ham|I HAVE A DATE ON ...|      35|\n",
      "|spam|XXXMobileMovieClu...|     149|\n",
      "| ham|Oh k...i'm watchi...|      26|\n",
      "| ham|Eh u remember how...|      81|\n",
      "| ham|Fine if thats th...|      56|\n",
      "|spam|England v Macedon...|     155|\n",
      "+----+--------------------+--------+\n",
      "only showing top 20 rows\n",
      "\n"
     ]
    }
   ],
   "source": [
    "datos2.show()"
   ]
  },
  {
   "cell_type": "code",
   "execution_count": 15,
   "metadata": {
    "collapsed": true
   },
   "outputs": [],
   "source": [
    "from pyspark.ml.feature import (StringIndexer,VectorAssembler,\n",
    "        RegexTokenizer,StopWordsRemover,CountVectorizer,IDF)"
   ]
  },
  {
   "cell_type": "code",
   "execution_count": 20,
   "metadata": {
    "collapsed": true
   },
   "outputs": [],
   "source": [
    "indexador=StringIndexer(inputCol=\"_c0\",outputCol=\"label\")\n",
    "datosI=indexador.fit(datos2).transform(datos2).drop(\"_c0\")"
   ]
  },
  {
   "cell_type": "code",
   "execution_count": 21,
   "metadata": {
    "collapsed": true
   },
   "outputs": [
    {
     "name": "stdout",
     "output_type": "stream",
     "text": [
      "+--------------------+--------+-----+\n",
      "|                 _c1|longitud|label|\n",
      "+--------------------+--------+-----+\n",
      "|Go until jurong p...|     111|  0.0|\n",
      "|Ok lar... Joking ...|      29|  0.0|\n",
      "|Free entry in 2 a...|     155|  1.0|\n",
      "|U dun say so earl...|      49|  0.0|\n",
      "|Nah I don't think...|      61|  0.0|\n",
      "|FreeMsg Hey there...|     147|  1.0|\n",
      "|Even my brother i...|      77|  0.0|\n",
      "|As per your reque...|     160|  0.0|\n",
      "|WINNER!! As a val...|     157|  1.0|\n",
      "|Had your mobile 1...|     154|  1.0|\n",
      "|I'm gonna be home...|     109|  0.0|\n",
      "|SIX chances to wi...|     136|  1.0|\n",
      "|URGENT! You have ...|     155|  1.0|\n",
      "|I've been searchi...|     196|  0.0|\n",
      "|I HAVE A DATE ON ...|      35|  0.0|\n",
      "|XXXMobileMovieClu...|     149|  1.0|\n",
      "|Oh k...i'm watchi...|      26|  0.0|\n",
      "|Eh u remember how...|      81|  0.0|\n",
      "|Fine if thats th...|      56|  0.0|\n",
      "|England v Macedon...|     155|  1.0|\n",
      "+--------------------+--------+-----+\n",
      "only showing top 20 rows\n",
      "\n"
     ]
    }
   ],
   "source": [
    "datosI.show()"
   ]
  },
  {
   "cell_type": "code",
   "execution_count": 22,
   "metadata": {
    "collapsed": true
   },
   "outputs": [],
   "source": [
    "reTokenizer=RegexTokenizer(inputCol=\"_c1\",\n",
    "                           outputCol=\"palabras\",\n",
    "                          pattern=\"[ \\,\\.\\?\\!\\;\\(\\)]+\")"
   ]
  },
  {
   "cell_type": "code",
   "execution_count": 23,
   "metadata": {
    "collapsed": true
   },
   "outputs": [],
   "source": [
    "datosT=reTokenizer.transform(datosI)"
   ]
  },
  {
   "cell_type": "code",
   "execution_count": 24,
   "metadata": {},
   "outputs": [
    {
     "name": "stdout",
     "output_type": "stream",
     "text": [
      "+--------------------+--------+-----+--------------------+\n",
      "|                 _c1|longitud|label|            palabras|\n",
      "+--------------------+--------+-----+--------------------+\n",
      "|Go until jurong p...|     111|  0.0|[go, until, juron...|\n",
      "|Ok lar... Joking ...|      29|  0.0|[ok, lar, joking,...|\n",
      "|Free entry in 2 a...|     155|  1.0|[free, entry, in,...|\n",
      "|U dun say so earl...|      49|  0.0|[u, dun, say, so,...|\n",
      "|Nah I don't think...|      61|  0.0|[nah, i, don't, t...|\n",
      "|FreeMsg Hey there...|     147|  1.0|[freemsg, hey, th...|\n",
      "|Even my brother i...|      77|  0.0|[even, my, brothe...|\n",
      "|As per your reque...|     160|  0.0|[as, per, your, r...|\n",
      "|WINNER!! As a val...|     157|  1.0|[winner, as, a, v...|\n",
      "|Had your mobile 1...|     154|  1.0|[had, your, mobil...|\n",
      "|I'm gonna be home...|     109|  0.0|[i'm, gonna, be, ...|\n",
      "|SIX chances to wi...|     136|  1.0|[six, chances, to...|\n",
      "|URGENT! You have ...|     155|  1.0|[urgent, you, hav...|\n",
      "|I've been searchi...|     196|  0.0|[i've, been, sear...|\n",
      "|I HAVE A DATE ON ...|      35|  0.0|[i, have, a, date...|\n",
      "|XXXMobileMovieClu...|     149|  1.0|[xxxmobilemoviecl...|\n",
      "|Oh k...i'm watchi...|      26|  0.0|[oh, k, i'm, watc...|\n",
      "|Eh u remember how...|      81|  0.0|[eh, u, remember,...|\n",
      "|Fine if thats th...|      56|  0.0|[fine, if, thats...|\n",
      "|England v Macedon...|     155|  1.0|[england, v, mace...|\n",
      "+--------------------+--------+-----+--------------------+\n",
      "only showing top 20 rows\n",
      "\n"
     ]
    }
   ],
   "source": [
    "datosT.show()"
   ]
  },
  {
   "cell_type": "code",
   "execution_count": 28,
   "metadata": {},
   "outputs": [
    {
     "data": {
      "text/plain": [
       "['i',\n",
       " 'me',\n",
       " 'my',\n",
       " 'myself',\n",
       " 'we',\n",
       " 'our',\n",
       " 'ours',\n",
       " 'ourselves',\n",
       " 'you',\n",
       " 'your',\n",
       " 'yours',\n",
       " 'yourself',\n",
       " 'yourselves',\n",
       " 'he',\n",
       " 'him',\n",
       " 'his',\n",
       " 'himself',\n",
       " 'she',\n",
       " 'her',\n",
       " 'hers',\n",
       " 'herself',\n",
       " 'it',\n",
       " 'its',\n",
       " 'itself',\n",
       " 'they',\n",
       " 'them',\n",
       " 'their',\n",
       " 'theirs',\n",
       " 'themselves',\n",
       " 'what',\n",
       " 'which',\n",
       " 'who',\n",
       " 'whom',\n",
       " 'this',\n",
       " 'that',\n",
       " 'these',\n",
       " 'those',\n",
       " 'am',\n",
       " 'is',\n",
       " 'are',\n",
       " 'was',\n",
       " 'were',\n",
       " 'be',\n",
       " 'been',\n",
       " 'being',\n",
       " 'have',\n",
       " 'has',\n",
       " 'had',\n",
       " 'having',\n",
       " 'do',\n",
       " 'does',\n",
       " 'did',\n",
       " 'doing',\n",
       " 'a',\n",
       " 'an',\n",
       " 'the',\n",
       " 'and',\n",
       " 'but',\n",
       " 'if',\n",
       " 'or',\n",
       " 'because',\n",
       " 'as',\n",
       " 'until',\n",
       " 'while',\n",
       " 'of',\n",
       " 'at',\n",
       " 'by',\n",
       " 'for',\n",
       " 'with',\n",
       " 'about',\n",
       " 'against',\n",
       " 'between',\n",
       " 'into',\n",
       " 'through',\n",
       " 'during',\n",
       " 'before',\n",
       " 'after',\n",
       " 'above',\n",
       " 'below',\n",
       " 'to',\n",
       " 'from',\n",
       " 'up',\n",
       " 'down',\n",
       " 'in',\n",
       " 'out',\n",
       " 'on',\n",
       " 'off',\n",
       " 'over',\n",
       " 'under',\n",
       " 'again',\n",
       " 'further',\n",
       " 'then',\n",
       " 'once',\n",
       " 'here',\n",
       " 'there',\n",
       " 'when',\n",
       " 'where',\n",
       " 'why',\n",
       " 'how',\n",
       " 'all',\n",
       " 'any',\n",
       " 'both',\n",
       " 'each',\n",
       " 'few',\n",
       " 'more',\n",
       " 'most',\n",
       " 'other',\n",
       " 'some',\n",
       " 'such',\n",
       " 'no',\n",
       " 'nor',\n",
       " 'not',\n",
       " 'only',\n",
       " 'own',\n",
       " 'same',\n",
       " 'so',\n",
       " 'than',\n",
       " 'too',\n",
       " 'very',\n",
       " 's',\n",
       " 't',\n",
       " 'can',\n",
       " 'will',\n",
       " 'just',\n",
       " 'don',\n",
       " 'should',\n",
       " 'now',\n",
       " \"i'll\",\n",
       " \"you'll\",\n",
       " \"he'll\",\n",
       " \"she'll\",\n",
       " \"we'll\",\n",
       " \"they'll\",\n",
       " \"i'd\",\n",
       " \"you'd\",\n",
       " \"he'd\",\n",
       " \"she'd\",\n",
       " \"we'd\",\n",
       " \"they'd\",\n",
       " \"i'm\",\n",
       " \"you're\",\n",
       " \"he's\",\n",
       " \"she's\",\n",
       " \"it's\",\n",
       " \"we're\",\n",
       " \"they're\",\n",
       " \"i've\",\n",
       " \"we've\",\n",
       " \"you've\",\n",
       " \"they've\",\n",
       " \"isn't\",\n",
       " \"aren't\",\n",
       " \"wasn't\",\n",
       " \"weren't\",\n",
       " \"haven't\",\n",
       " \"hasn't\",\n",
       " \"hadn't\",\n",
       " \"don't\",\n",
       " \"doesn't\",\n",
       " \"didn't\",\n",
       " \"won't\",\n",
       " \"wouldn't\",\n",
       " \"shan't\",\n",
       " \"shouldn't\",\n",
       " \"mustn't\",\n",
       " \"can't\",\n",
       " \"couldn't\",\n",
       " 'cannot',\n",
       " 'could',\n",
       " \"here's\",\n",
       " \"how's\",\n",
       " \"let's\",\n",
       " 'ought',\n",
       " \"that's\",\n",
       " \"there's\",\n",
       " \"what's\",\n",
       " \"when's\",\n",
       " \"where's\",\n",
       " \"who's\",\n",
       " \"why's\",\n",
       " 'would']"
      ]
     },
     "execution_count": 28,
     "metadata": {},
     "output_type": "execute_result"
    }
   ],
   "source": [
    "StopWordsRemover().loadDefaultStopWords(\"english\")"
   ]
  },
  {
   "cell_type": "code",
   "execution_count": 29,
   "metadata": {},
   "outputs": [],
   "source": [
    "filtro=StopWordsRemover(inputCol=\"palabras\",\n",
    "                        outputCol=\"filtradas\")"
   ]
  },
  {
   "cell_type": "code",
   "execution_count": 32,
   "metadata": {},
   "outputs": [],
   "source": [
    "datosF=filtro.transform(datosT).drop(\"_c1\")"
   ]
  },
  {
   "cell_type": "code",
   "execution_count": 33,
   "metadata": {},
   "outputs": [
    {
     "name": "stdout",
     "output_type": "stream",
     "text": [
      "+--------+-----+--------------------+--------------------+\n",
      "|longitud|label|            palabras|           filtradas|\n",
      "+--------+-----+--------------------+--------------------+\n",
      "|     111|  0.0|[go, until, juron...|[go, jurong, poin...|\n",
      "|      29|  0.0|[ok, lar, joking,...|[ok, lar, joking,...|\n",
      "|     155|  1.0|[free, entry, in,...|[free, entry, 2, ...|\n",
      "|      49|  0.0|[u, dun, say, so,...|[u, dun, say, ear...|\n",
      "|      61|  0.0|[nah, i, don't, t...|[nah, think, goes...|\n",
      "|     147|  1.0|[freemsg, hey, th...|[freemsg, hey, da...|\n",
      "|      77|  0.0|[even, my, brothe...|[even, brother, l...|\n",
      "|     160|  0.0|[as, per, your, r...|[per, request, 'm...|\n",
      "|     157|  1.0|[winner, as, a, v...|[winner, valued, ...|\n",
      "|     154|  1.0|[had, your, mobil...|[mobile, 11, mont...|\n",
      "|     109|  0.0|[i'm, gonna, be, ...|[gonna, home, soo...|\n",
      "|     136|  1.0|[six, chances, to...|[six, chances, wi...|\n",
      "|     155|  1.0|[urgent, you, hav...|[urgent, won, 1, ...|\n",
      "|     196|  0.0|[i've, been, sear...|[searching, right...|\n",
      "|      35|  0.0|[i, have, a, date...|      [date, sunday]|\n",
      "|     149|  1.0|[xxxmobilemoviecl...|[xxxmobilemoviecl...|\n",
      "|      26|  0.0|[oh, k, i'm, watc...|[oh, k, watching,...|\n",
      "|      81|  0.0|[eh, u, remember,...|[eh, u, remember,...|\n",
      "|      56|  0.0|[fine, if, thats...|[fine, thats, wa...|\n",
      "|     155|  1.0|[england, v, mace...|[england, v, mace...|\n",
      "+--------+-----+--------------------+--------------------+\n",
      "only showing top 20 rows\n",
      "\n"
     ]
    }
   ],
   "source": [
    "datosF.show()"
   ]
  },
  {
   "cell_type": "code",
   "execution_count": null,
   "metadata": {},
   "outputs": [],
   "source": []
  }
 ],
 "metadata": {
  "kernelspec": {
   "display_name": "Python 3",
   "language": "python",
   "name": "python3"
  },
  "language_info": {
   "codemirror_mode": {
    "name": "ipython",
    "version": 3
   },
   "file_extension": ".py",
   "mimetype": "text/x-python",
   "name": "python",
   "nbconvert_exporter": "python",
   "pygments_lexer": "ipython3",
   "version": "3.5.2"
  }
 },
 "nbformat": 4,
 "nbformat_minor": 2
}
